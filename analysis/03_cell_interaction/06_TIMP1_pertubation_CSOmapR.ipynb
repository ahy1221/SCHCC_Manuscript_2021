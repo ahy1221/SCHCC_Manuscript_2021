{
 "cells": [
  {
   "cell_type": "code",
   "execution_count": 1,
   "id": "22d3ea1c-74ea-4e01-8766-49ff9611e1e3",
   "metadata": {},
   "outputs": [],
   "source": [
    "suppressPackageStartupMessages({\n",
    "  library(scater)\n",
    "  library(scran)\n",
    "  library(CSOmapR)\n",
    "  library(logger)\n",
    "  library(tidyverse)\n",
    "})\n",
    "rm(list = ls())\n",
    "######################\n",
    "# Smartseq2 CD45 All\n",
    "######################\n",
    "sce <- readRDS(\"../../data/expression/sce/sce_Smartseq2_scHCC-CD45_featureCounts_qc_clustered_analysed.rds\")\n",
    "assay(sce, \"tpm\") <- calculateTPM(sce, rowData(sce)$Length)\n",
    "\n",
    "tpmdata <- tpm(sce)\n",
    "tpmdata <- as.data.frame(as.matrix(tpmdata))\n",
    "\n",
    "\n",
    "#####\n",
    "#perform CSOmap\n",
    "\n",
    "log_info(\"CSOmap started ...\")\n",
    "TPM <- tpmdata\n",
    "LR <- read.table('/raid1/zhangqiming/01Project_HCC/02Analysis/CSOmap/CSOmap.R/data/demo/LR_pairs.txt',\n",
    "                 header = F)\n",
    "colnames(LR) <- c('lignad','receptor','weight')\n",
    "LR[,1:2] <- sapply(LR[,1:2], as.character)"
   ]
  },
  {
   "cell_type": "code",
   "execution_count": 2,
   "id": "709ae470-3327-425b-823c-d6dd35eb2eac",
   "metadata": {},
   "outputs": [],
   "source": [
    "caf_cells <- colnames(sce[,sce$leiden_global_celltype == 'Mesenchyme'])"
   ]
  },
  {
   "cell_type": "code",
   "execution_count": 3,
   "id": "dcc68ddf-a1ad-4806-b82c-a85b53f132cb",
   "metadata": {},
   "outputs": [],
   "source": [
    "TPM['HGF',caf_cells] <- 0\n",
    "tpmdata['HGF',caf_cells] <- 0"
   ]
  },
  {
   "cell_type": "code",
   "execution_count": 4,
   "id": "0f54a9d2-e7c9-484b-a906-70b2d0678e11",
   "metadata": {},
   "outputs": [
    {
     "name": "stdout",
     "output_type": "stream",
     "text": [
      "[2021-10-07 18:17:14] Extracting affinity matrix\n",
      "[2021-10-07 18:17:16] Extracting coordinates affinity matrix\n",
      "[2021-10-07 18:17:18] Denoising ...\n",
      "[2021-10-07 18:17:34] Now calculating exact TSNE\n",
      "Wrapper started\n",
      "Read the 9017 x 9017 data matrix successfully!\n",
      "Using current time as random seed...\n",
      "Randomly initializing the solution.\n",
      "Y[0] = 0.000115\n",
      "Similarities loaded \n",
      "Learning embedding...\n",
      "Running iterations: 1000\n",
      "Iteration 50 (50 iterations in 102.96 seconds), cost 4.914712\n",
      "Iteration 100 (50 iterations in 102.50 seconds), cost 4.914712\n",
      "Iteration 150 (50 iterations in 102.44 seconds), cost 4.914712\n",
      "Iteration 200 (50 iterations in 102.48 seconds), cost 4.914712\n",
      "Iteration 250 (50 iterations in 103.96 seconds), cost 4.914712\n",
      "Iteration 300 (50 iterations in 102.11 seconds), cost 4.914711\n",
      "Iteration 350 (50 iterations in 101.46 seconds), cost 4.914695\n",
      "Iteration 400 (50 iterations in 101.18 seconds), cost 4.914401\n",
      "Iteration 450 (50 iterations in 100.87 seconds), cost 4.907050\n",
      "Iteration 500 (50 iterations in 101.07 seconds), cost 4.827510\n",
      "Iteration 550 (50 iterations in 101.39 seconds), cost 4.653448\n",
      "Iteration 600 (50 iterations in 101.26 seconds), cost 4.487035\n",
      "Iteration 650 (50 iterations in 101.28 seconds), cost 4.346826\n",
      "Iteration 700 (50 iterations in 101.10 seconds), cost 4.238712\n",
      "Iteration 750 (50 iterations in 101.07 seconds), cost 4.157048\n",
      "Iteration 800 (50 iterations in 101.18 seconds), cost 4.092403\n",
      "Iteration 850 (50 iterations in 101.25 seconds), cost 4.039395\n",
      "Iteration 900 (50 iterations in 101.06 seconds), cost 3.994797\n",
      "Iteration 950 (50 iterations in 101.08 seconds), cost 3.956532\n",
      "Iteration 1000 (50 iterations in 101.03 seconds), cost 3.923191\n",
      "All iterations done, cleaning now ...\n",
      "Cleanup done ...\n",
      "Run successful! Returning values now.\n",
      "[2021-10-07 18:51:27] Calculation done!\n"
     ]
    }
   ],
   "source": [
    "affinityMat = getAffinityMat(tpmdata, LR, verbose = T)\n",
    "#log_info(\"TSNE step\")\n",
    "\n",
    "coords_res = runExactTSNE_R(\n",
    "  X = affinityMat,\n",
    "  no_dims = 3,\n",
    "  max_iter = 1000,\n",
    "  verbose = T\n",
    ")"
   ]
  },
  {
   "cell_type": "code",
   "execution_count": 14,
   "id": "dc0b818d-83cd-4b72-b549-aa802830dd66",
   "metadata": {},
   "outputs": [
    {
     "name": "stderr",
     "output_type": "stream",
     "text": [
      "Warning message:\n",
      "“The `path` argument of `write_tsv()` is deprecated as of readr 1.4.0.\n",
      "Please use the `file` argument instead.\n",
      "\u001b[90mThis warning is displayed once every 8 hours.\u001b[39m\n",
      "\u001b[90mCall `lifecycle::last_warnings()` to see where this warning was generated.\u001b[39m”\n"
     ]
    }
   ],
   "source": [
    "coords = coords_res$Y\n",
    "rownames(coords) <- colnames(TPM)\n",
    "colnames(coords) <- c('x', 'y', 'z')\n",
    "coords_tbl = bind_cols(cellName = rownames(coords), as.data.frame(coords))\n",
    "\n",
    "\n",
    "\n",
    "#signif_results = getSignificance(coords, labels = cellinfo_tbl$labels, verbose = T)\n",
    "#contribution_list = getContribution(TPM, LR, signif_results$detailed_connections)\n",
    "\n",
    "\n",
    "\n",
    "coords_outdir = paste0(\"./out/CSOmapR\", \"/coordinates_20210610_pertubateHGF_in_Mesen.txt\")\n",
    "log_info(\"Writing coordintates to \", coords_outdir)\n",
    "write_tsv(coords_tbl, path = coords_outdir)\n"
   ]
  },
  {
   "cell_type": "code",
   "execution_count": 8,
   "id": "f9ae82ca-0f39-4d3d-9820-592c8d7238db",
   "metadata": {},
   "outputs": [],
   "source": [
    "TPM['TIMP1',caf_cells] <- 0"
   ]
  },
  {
   "cell_type": "code",
   "execution_count": 12,
   "id": "ccbe20dd-4413-4a35-bcf4-d4f4b37c3043",
   "metadata": {},
   "outputs": [],
   "source": [
    "tpmdata['TIMP1',caf_cells] <- 0"
   ]
  },
  {
   "cell_type": "code",
   "execution_count": 13,
   "id": "d345b07e-8f83-4a4d-805b-022b03d3776c",
   "metadata": {},
   "outputs": [
    {
     "name": "stdout",
     "output_type": "stream",
     "text": [
      "[2021-09-07 15:18:22] Extracting affinity matrix\n",
      "[2021-09-07 15:18:24] Extracting coordinates affinity matrix\n",
      "[2021-09-07 15:18:26] Denoising ...\n",
      "[2021-09-07 15:18:42] Now calculating exact TSNE\n",
      "Wrapper started\n",
      "Read the 9017 x 9017 data matrix successfully!\n",
      "Using current time as random seed...\n",
      "Randomly initializing the solution.\n",
      "Y[0] = -0.000080\n",
      "Similarities loaded \n",
      "Learning embedding...\n",
      "Running iterations: 1000\n",
      "Iteration 50 (50 iterations in 116.45 seconds), cost 4.870319\n",
      "Iteration 100 (50 iterations in 122.04 seconds), cost 4.870319\n",
      "Iteration 150 (50 iterations in 116.45 seconds), cost 4.870319\n",
      "Iteration 200 (50 iterations in 115.04 seconds), cost 4.870319\n",
      "Iteration 250 (50 iterations in 115.53 seconds), cost 4.870319\n",
      "Iteration 300 (50 iterations in 115.30 seconds), cost 4.870318\n",
      "Iteration 350 (50 iterations in 115.62 seconds), cost 4.870302\n",
      "Iteration 400 (50 iterations in 116.15 seconds), cost 4.870017\n",
      "Iteration 450 (50 iterations in 114.94 seconds), cost 4.862854\n",
      "Iteration 500 (50 iterations in 115.59 seconds), cost 4.783014\n",
      "Iteration 550 (50 iterations in 116.18 seconds), cost 4.606781\n",
      "Iteration 600 (50 iterations in 115.77 seconds), cost 4.438013\n",
      "Iteration 650 (50 iterations in 115.55 seconds), cost 4.300745\n",
      "Iteration 700 (50 iterations in 115.68 seconds), cost 4.199303\n",
      "Iteration 750 (50 iterations in 115.86 seconds), cost 4.123090\n",
      "Iteration 800 (50 iterations in 115.81 seconds), cost 4.062326\n",
      "Iteration 850 (50 iterations in 115.28 seconds), cost 4.012144\n",
      "Iteration 900 (50 iterations in 114.93 seconds), cost 3.969769\n",
      "Iteration 950 (50 iterations in 114.60 seconds), cost 3.933310\n",
      "Iteration 1000 (50 iterations in 114.95 seconds), cost 3.901440\n",
      "All iterations done, cleaning now ...\n",
      "Cleanup done ...\n",
      "Run successful! Returning values now.\n",
      "[2021-09-07 15:57:20] Calculation done!\n"
     ]
    }
   ],
   "source": [
    "affinityMat = getAffinityMat(tpmdata, LR, verbose = T)\n",
    "#log_info(\"TSNE step\")\n",
    "\n",
    "coords_res = runExactTSNE_R(\n",
    "  X = affinityMat,\n",
    "  no_dims = 3,\n",
    "  max_iter = 1000,\n",
    "  verbose = T\n",
    ")"
   ]
  },
  {
   "cell_type": "code",
   "execution_count": 14,
   "id": "769f5a07-adc6-463d-a22a-c79d6e1e18cc",
   "metadata": {},
   "outputs": [
    {
     "name": "stderr",
     "output_type": "stream",
     "text": [
      "Warning message:\n",
      "“The `path` argument of `write_tsv()` is deprecated as of readr 1.4.0.\n",
      "Please use the `file` argument instead.\n",
      "\u001b[90mThis warning is displayed once every 8 hours.\u001b[39m\n",
      "\u001b[90mCall `lifecycle::last_warnings()` to see where this warning was generated.\u001b[39m”\n"
     ]
    }
   ],
   "source": [
    "coords = coords_res$Y\n",
    "rownames(coords) <- colnames(TPM)\n",
    "colnames(coords) <- c('x', 'y', 'z')\n",
    "coords_tbl = bind_cols(cellName = rownames(coords), as.data.frame(coords))\n",
    "\n",
    "\n",
    "\n",
    "#signif_results = getSignificance(coords, labels = cellinfo_tbl$labels, verbose = T)\n",
    "#contribution_list = getContribution(TPM, LR, signif_results$detailed_connections)\n",
    "\n",
    "\n",
    "\n",
    "coords_outdir = paste0(\"./out/CSOmapR\", \"/coordinates_20210610_pertubateTIMP1_in_Mesen.txt\")\n",
    "log_info(\"Writing coordintates to \", coords_outdir)\n",
    "write_tsv(coords_tbl, path = coords_outdir)\n"
   ]
  },
  {
   "cell_type": "markdown",
   "id": "990b37ce-344c-4b18-b765-65f920f2ed2e",
   "metadata": {},
   "source": [
    "# Peturbate TIMP1 in all cells"
   ]
  },
  {
   "cell_type": "code",
   "execution_count": 15,
   "id": "12a3f57f-6e7f-49fc-a27f-1f2af87c36e9",
   "metadata": {},
   "outputs": [],
   "source": [
    "tpmdata['TIMP1',] <- 0"
   ]
  },
  {
   "cell_type": "code",
   "execution_count": 16,
   "id": "ba416724-3779-47be-91e9-c650931c0371",
   "metadata": {},
   "outputs": [
    {
     "name": "stdout",
     "output_type": "stream",
     "text": [
      "[2021-09-07 16:14:11] Extracting affinity matrix\n",
      "[2021-09-07 16:14:14] Extracting coordinates affinity matrix\n",
      "[2021-09-07 16:14:16] Denoising ...\n",
      "[2021-09-07 16:14:37] Now calculating exact TSNE\n",
      "Wrapper started\n",
      "Read the 9017 x 9017 data matrix successfully!\n",
      "Using current time as random seed...\n",
      "Randomly initializing the solution.\n",
      "Y[0] = 0.000128\n",
      "Similarities loaded \n",
      "Learning embedding...\n",
      "Running iterations: 1000\n",
      "Iteration 50 (50 iterations in 124.69 seconds), cost 4.864052\n",
      "Iteration 100 (50 iterations in 126.50 seconds), cost 4.864052\n",
      "Iteration 150 (50 iterations in 112.54 seconds), cost 4.864052\n",
      "Iteration 200 (50 iterations in 113.66 seconds), cost 4.864052\n",
      "Iteration 250 (50 iterations in 126.20 seconds), cost 4.864052\n",
      "Iteration 300 (50 iterations in 126.84 seconds), cost 4.864050\n",
      "Iteration 350 (50 iterations in 126.22 seconds), cost 4.864033\n",
      "Iteration 400 (50 iterations in 130.19 seconds), cost 4.863699\n",
      "Iteration 450 (50 iterations in 116.43 seconds), cost 4.855116\n",
      "Iteration 500 (50 iterations in 115.72 seconds), cost 4.766283\n",
      "Iteration 550 (50 iterations in 112.71 seconds), cost 4.587541\n",
      "Iteration 600 (50 iterations in 138.59 seconds), cost 4.421135\n",
      "Iteration 650 (50 iterations in 117.72 seconds), cost 4.282899\n",
      "Iteration 700 (50 iterations in 126.86 seconds), cost 4.180197\n",
      "Iteration 750 (50 iterations in 120.59 seconds), cost 4.103509\n",
      "Iteration 800 (50 iterations in 117.63 seconds), cost 4.043199\n",
      "Iteration 850 (50 iterations in 116.00 seconds), cost 3.993796\n",
      "Iteration 900 (50 iterations in 116.05 seconds), cost 3.952152\n",
      "Iteration 950 (50 iterations in 114.90 seconds), cost 3.916355\n",
      "Iteration 1000 (50 iterations in 114.99 seconds), cost 3.885129\n",
      "All iterations done, cleaning now ...\n",
      "Cleanup done ...\n",
      "Run successful! Returning values now.\n",
      "[2021-09-07 16:54:52] Calculation done!\n"
     ]
    }
   ],
   "source": [
    "affinityMat = getAffinityMat(tpmdata, LR, verbose = T)\n",
    "#log_info(\"TSNE step\")\n",
    "\n",
    "coords_res = runExactTSNE_R(\n",
    "  X = affinityMat,\n",
    "  no_dims = 3,\n",
    "  max_iter = 1000,\n",
    "  verbose = T\n",
    ")"
   ]
  },
  {
   "cell_type": "code",
   "execution_count": 17,
   "id": "c02e937f-2022-440d-9cfb-80a32bcde86a",
   "metadata": {},
   "outputs": [],
   "source": [
    "coords = coords_res$Y\n",
    "rownames(coords) <- colnames(TPM)\n",
    "colnames(coords) <- c('x', 'y', 'z')\n",
    "coords_tbl = bind_cols(cellName = rownames(coords), as.data.frame(coords))\n",
    "\n",
    "\n",
    "\n",
    "#signif_results = getSignificance(coords, labels = cellinfo_tbl$labels, verbose = T)\n",
    "#contribution_list = getContribution(TPM, LR, signif_results$detailed_connections)\n",
    "\n",
    "\n",
    "\n",
    "coords_outdir = paste0(\"./out/CSOmapR\", \"/coordinates_20210610_pertubateTIMP1_all_cells.txt\")\n",
    "log_info(\"Writing coordintates to \", coords_outdir)\n",
    "write_tsv(coords_tbl, path = coords_outdir)\n"
   ]
  },
  {
   "cell_type": "markdown",
   "id": "3d3f0805-dbb6-4e97-8e75-80f346e36366",
   "metadata": {},
   "source": [
    "# Peturbate TIMP1 in only CAF cells\n"
   ]
  },
  {
   "cell_type": "code",
   "execution_count": 19,
   "id": "b3672e22-77c0-44a2-8128-8ead1e1b3250",
   "metadata": {},
   "outputs": [],
   "source": [
    "######################\n",
    "# Smartseq2 CD45 All\n",
    "######################\n",
    "sce <- readRDS(\"../../data/expression/sce/sce_Smartseq2_scHCC-CD45_featureCounts_qc_clustered_analysed.rds\")\n",
    "assay(sce, \"tpm\") <- calculateTPM(sce, rowData(sce)$Length)\n",
    "\n",
    "tpmdata <- tpm(sce)\n",
    "tpmdata <- as.data.frame(as.matrix(tpmdata))\n",
    "\n",
    "\n",
    "#####\n",
    "#perform CSOmap\n",
    "\n",
    "log_info(\"CSOmap started ...\")\n",
    "TPM <- tpmdata\n",
    "LR <- read.table('/raid1/zhangqiming/01Project_HCC/02Analysis/CSOmap/CSOmap.R/data/demo/LR_pairs.txt',\n",
    "                 header = F)\n",
    "colnames(LR) <- c('lignad','receptor','weight')\n",
    "LR[,1:2] <- sapply(LR[,1:2], as.character)"
   ]
  },
  {
   "cell_type": "code",
   "execution_count": 20,
   "id": "7cb0e826-5889-404a-8334-b6c2d8fafd28",
   "metadata": {},
   "outputs": [
    {
     "data": {
      "text/plain": [
       "\n",
       "           B_C01-MS4A1            B_C02-CD79A            CAF_C01-FAP \n",
       "                   657                    270                     58 \n",
       "          CAF_C02-CD36           CD4_C06-IL7R          CD4_C07-FOXP3 \n",
       "                   435                    388                    106 \n",
       "      CD4/CD8_C01-LEF1      CD4/CD8_C02-MKI67           CD8_C03-GZMK \n",
       "                   412                    115                    512 \n",
       "       CD8_C04-SLC4A10         CD8_C05-CX3CR1     cHCC_ICC_D20171229 \n",
       "                   186                    244                    756 \n",
       "           DC_C01-CD1C          DC_C02-CLEC9A           DC_C03-LAMP3 \n",
       "                   331                     83                     19 \n",
       "         DC_C04-CLEC4C          DC_C05-FCER1A          Endo_C01-FMO2 \n",
       "                    14                     10                    315 \n",
       "        Endo_C02-CD200        Endo_C03-CXCL12         Endo_C04-ACKR1 \n",
       "                   268                    188                    149 \n",
       "         Endo_C05-RBP7          HCC_D20170322          HCC_D20170327 \n",
       "                    90                     26                    167 \n",
       "         HCC_D20170412          HCC_D20171109          HCC_D20171220 \n",
       "                    16                     15                    158 \n",
       "         HCC_D20180108          HCC_D20180110 Hepa_C01-AdjacentLiver \n",
       "                    21                    267                     41 \n",
       "     Hepa_C02-BiPotent          ICC_D20171215                   ILCs \n",
       "                    74                     45                     37 \n",
       "       LSEC_C01-CLEC4G         LSEC_C02-NAMPT          Mac_C01-THBS1 \n",
       "                   124                     55                    367 \n",
       "          Mac_C02-C1QA                   Mast          Mono_C01-CD14 \n",
       "                   185                     59                    341 \n",
       "       Mono_C02-FCGR3A          NK_C01-FCGR3A           NK_C02-CD160 \n",
       "                   232                    346                    304 \n",
       "           NK_C03-IFNG            NK_C04-SELL           NK_C05-MKI67 \n",
       "                   296                     51                     27 \n",
       "        VSMC_C03-MYH11 \n",
       "                   157 "
      ]
     },
     "metadata": {},
     "output_type": "display_data"
    }
   ],
   "source": [
    "table(sce$celltype)"
   ]
  },
  {
   "cell_type": "code",
   "execution_count": 21,
   "id": "7ad2ab85-ff5c-422f-93bf-0cd9563a4ea9",
   "metadata": {},
   "outputs": [],
   "source": [
    "caf_cells <- colnames(sce[,grepl(\"^CAF\", sce$celltype)])"
   ]
  },
  {
   "cell_type": "code",
   "execution_count": 22,
   "id": "3cdb3e85-378e-4dbf-a5ff-e0c355d1c608",
   "metadata": {},
   "outputs": [],
   "source": [
    "TPM['TIMP1',caf_cells] <- 0\n",
    "tpmdata['TIMP1',caf_cells] <- 0"
   ]
  },
  {
   "cell_type": "code",
   "execution_count": 24,
   "id": "df8f2916-b5bf-4f74-b0b5-50da496086cb",
   "metadata": {},
   "outputs": [
    {
     "name": "stdout",
     "output_type": "stream",
     "text": [
      "[2021-09-08 11:33:01] Extracting affinity matrix\n",
      "[2021-09-08 11:33:03] Extracting coordinates affinity matrix\n",
      "[2021-09-08 11:33:04] Denoising ...\n",
      "[2021-09-08 11:33:20] Now calculating exact TSNE\n",
      "Wrapper started\n",
      "Read the 9017 x 9017 data matrix successfully!\n",
      "Using current time as random seed...\n",
      "Randomly initializing the solution.\n",
      "Y[0] = 0.000099\n",
      "Similarities loaded \n",
      "Learning embedding...\n",
      "Running iterations: 1000\n",
      "Iteration 50 (50 iterations in 108.67 seconds), cost 4.870905\n",
      "Iteration 100 (50 iterations in 108.99 seconds), cost 4.870905\n",
      "Iteration 150 (50 iterations in 108.61 seconds), cost 4.870905\n",
      "Iteration 200 (50 iterations in 108.78 seconds), cost 4.870905\n",
      "Iteration 250 (50 iterations in 108.80 seconds), cost 4.870905\n",
      "Iteration 300 (50 iterations in 108.63 seconds), cost 4.870903\n",
      "Iteration 350 (50 iterations in 108.71 seconds), cost 4.870888\n",
      "Iteration 400 (50 iterations in 108.76 seconds), cost 4.870602\n",
      "Iteration 450 (50 iterations in 108.79 seconds), cost 4.863442\n",
      "Iteration 500 (50 iterations in 109.70 seconds), cost 4.783794\n",
      "Iteration 550 (50 iterations in 110.08 seconds), cost 4.607645\n",
      "Iteration 600 (50 iterations in 110.03 seconds), cost 4.439951\n",
      "Iteration 650 (50 iterations in 110.12 seconds), cost 4.304009\n",
      "Iteration 700 (50 iterations in 110.89 seconds), cost 4.203979\n",
      "Iteration 750 (50 iterations in 112.83 seconds), cost 4.128237\n",
      "Iteration 800 (50 iterations in 111.94 seconds), cost 4.067643\n",
      "Iteration 850 (50 iterations in 111.91 seconds), cost 4.017301\n",
      "Iteration 900 (50 iterations in 111.82 seconds), cost 3.974468\n",
      "Iteration 950 (50 iterations in 111.87 seconds), cost 3.937465\n",
      "Iteration 1000 (50 iterations in 111.74 seconds), cost 3.905101\n",
      "All iterations done, cleaning now ...\n",
      "Cleanup done ...\n",
      "Run successful! Returning values now.\n",
      "[2021-09-08 12:10:02] Calculation done!\n"
     ]
    }
   ],
   "source": [
    "affinityMat = getAffinityMat(tpmdata, LR, verbose = T)\n",
    "#log_info(\"TSNE step\")\n",
    "\n",
    "coords_res = runExactTSNE_R(\n",
    "  X = affinityMat,\n",
    "  no_dims = 3,\n",
    "  max_iter = 1000,\n",
    "  verbose = T\n",
    ")"
   ]
  },
  {
   "cell_type": "code",
   "execution_count": 25,
   "id": "36edbb64-d1f8-4aa2-927b-f5cf337ec1ed",
   "metadata": {},
   "outputs": [],
   "source": [
    "coords = coords_res$Y\n",
    "rownames(coords) <- colnames(TPM)\n",
    "colnames(coords) <- c('x', 'y', 'z')\n",
    "coords_tbl = bind_cols(cellName = rownames(coords), as.data.frame(coords))\n",
    "\n",
    "\n",
    "\n",
    "#signif_results = getSignificance(coords, labels = cellinfo_tbl$labels, verbose = T)\n",
    "#contribution_list = getContribution(TPM, LR, signif_results$detailed_connections)\n",
    "\n",
    "\n",
    "\n",
    "coords_outdir = paste0(\"./out/CSOmapR\", \"/coordinates_20210610_pertubateTIMP1_CAF_cells.txt\")\n",
    "log_info(\"Writing coordintates to \", coords_outdir)\n",
    "write_tsv(coords_tbl, path = coords_outdir)"
   ]
  }
 ],
 "metadata": {
  "kernelspec": {
   "display_name": "R 4.1 for scHCC",
   "language": "R",
   "name": "irschcc41"
  },
  "language_info": {
   "codemirror_mode": "r",
   "file_extension": ".r",
   "mimetype": "text/x-r-source",
   "name": "R",
   "pygments_lexer": "r",
   "version": "4.1.0"
  }
 },
 "nbformat": 4,
 "nbformat_minor": 5
}
