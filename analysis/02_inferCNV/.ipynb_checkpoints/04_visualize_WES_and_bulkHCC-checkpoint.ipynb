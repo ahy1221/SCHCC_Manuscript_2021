{
 "cells": [
  {
   "cell_type": "code",
   "execution_count": 1,
   "metadata": {},
   "outputs": [],
   "source": [
    "suppressPackageStartupMessages({\n",
    "    library(tidyverse)\n",
    "    library(GenomicRanges)\n",
    "})"
   ]
  },
  {
   "cell_type": "code",
   "execution_count": 2,
   "metadata": {},
   "outputs": [
    {
     "name": "stderr",
     "output_type": "stream",
     "text": [
      "Parsed with column specification:\n",
      "cols(\n",
      "  X1 = \u001b[31mcol_character()\u001b[39m,\n",
      "  X2 = \u001b[31mcol_character()\u001b[39m,\n",
      "  X3 = \u001b[32mcol_double()\u001b[39m,\n",
      "  X4 = \u001b[32mcol_double()\u001b[39m\n",
      ")\n",
      "\n",
      "Parsed with column specification:\n",
      "cols(\n",
      "  SYMBOL = \u001b[31mcol_character()\u001b[39m,\n",
      "  GENEID = \u001b[31mcol_character()\u001b[39m,\n",
      "  CHR = \u001b[31mcol_character()\u001b[39m,\n",
      "  START = \u001b[32mcol_double()\u001b[39m,\n",
      "  END = \u001b[32mcol_double()\u001b[39m,\n",
      "  BIOTYPE = \u001b[31mcol_character()\u001b[39m\n",
      ")\n",
      "\n"
     ]
    }
   ],
   "source": [
    "mt_obs <- read.table(\"/mnt/d/Projects/scHCC-tumor/analyses/inferCNV/output_dir_hepatocytes/infercnv.observations.txt\")\n",
    "gene_order <- readr::read_tsv(\"/mnt/d/Projects/scHCC-tumor/analyses/inferCNV/data_for_run/gencode.v22.annotation.virus.gene_pos.tsv\", col_names = F)\n",
    "gene_info <- readr::read_tsv(\"/mnt/d/Projects/scHCC-tumor/data/metadata/featurecounts_gene_info.tsv\")\n",
    "gene_info$GENEID <- sapply(strsplit(gene_info$GENEID, \"\\\\.\"), `[[`, 1)\n",
    "colnames(gene_order) <- c(\"geneId\", \"chrom\", \"start\", \"end\")\n",
    "gene_order <- dplyr::left_join(gene_order, gene_info[, c(\"GENEID\", \"SYMBOL\")], by = c(\"geneId\" = \"GENEID\") )"
   ]
  },
  {
   "cell_type": "code",
   "execution_count": 3,
   "metadata": {},
   "outputs": [],
   "source": [
    "gene_order <- as.data.frame(gene_order)\n",
    "rownames(gene_order) <- gene_order$geneId\n",
    "gene_order <- gene_order[rownames(mt_obs),]"
   ]
  },
  {
   "cell_type": "code",
   "execution_count": 4,
   "metadata": {},
   "outputs": [],
   "source": [
    "gr <- GenomicRanges::GRanges(gene_order)"
   ]
  },
  {
   "cell_type": "code",
   "execution_count": 5,
   "metadata": {},
   "outputs": [
    {
     "data": {
      "text/html": [
       "<style>\n",
       ".list-inline {list-style: none; margin:0; padding: 0}\n",
       ".list-inline>li {display: inline-block}\n",
       ".list-inline>li:not(:last-child)::after {content: \"\\00b7\"; padding: 0 .5ex}\n",
       "</style>\n",
       "<ol class=list-inline><li>'/mnt/d/Projects/scHCC-tumor/data/pipeline_output/cnvkit/HCC_tumor/PE1G_ZZM_20160322-Tumor.marked_dup.call.cns'</li><li>'/mnt/d/Projects/scHCC-tumor/data/pipeline_output/cnvkit/HCC_tumor/PE1Z_ZZM_20170327-tumor-DNA.marked_dup.call.cns'</li><li>'/mnt/d/Projects/scHCC-tumor/data/pipeline_output/cnvkit/HCC_tumor/PE1Z_ZZM_20170412-tumor-DNA.marked_dup.call.cns'</li><li>'/mnt/d/Projects/scHCC-tumor/data/pipeline_output/cnvkit/HCC_tumor/PE1Z_ZZM_20171109-tumor-DNA.marked_dup.call.cns'</li><li>'/mnt/d/Projects/scHCC-tumor/data/pipeline_output/cnvkit/HCC_tumor/PE1Z_ZZM_20171215-tumor-DNA.marked_dup.call.cns'</li><li>'/mnt/d/Projects/scHCC-tumor/data/pipeline_output/cnvkit/HCC_tumor/PE1Z_ZZM_20171220-tumor-DNA.marked_dup.call.cns'</li><li>'/mnt/d/Projects/scHCC-tumor/data/pipeline_output/cnvkit/HCC_tumor/PE1Z_ZZM_20171229-tumor-DNA.marked_dup.call.cns'</li><li>'/mnt/d/Projects/scHCC-tumor/data/pipeline_output/cnvkit/HCC_tumor/PE1Z_ZZM_20180108-tumor-center.marked_dup.call.cns'</li><li>'/mnt/d/Projects/scHCC-tumor/data/pipeline_output/cnvkit/HCC_tumor/PE1Z_ZZM_20180108-tumor-DNA.marked_dup.call.cns'</li><li>'/mnt/d/Projects/scHCC-tumor/data/pipeline_output/cnvkit/HCC_tumor/PE1Z_ZZM_20180110-TC-DNA.marked_dup.call.cns'</li><li>'/mnt/d/Projects/scHCC-tumor/data/pipeline_output/cnvkit/HCC_tumor/PE1Z_ZZM_20180110-tumor-DNA.marked_dup.call.cns'</li><li>'/mnt/d/Projects/scHCC-tumor/data/pipeline_output/cnvkit/HCC_tumor/PE1Z_ZZM_20180116-TC-DNA.marked_dup.call.cns'</li><li>'/mnt/d/Projects/scHCC-tumor/data/pipeline_output/cnvkit/HCC_tumor/PE1Z_ZZM_20180116-tumor-DNA.marked_dup.call.cns'</li></ol>\n"
      ],
      "text/latex": [
       "\\begin{enumerate*}\n",
       "\\item '/mnt/d/Projects/scHCC-tumor/data/pipeline\\_output/cnvkit/HCC\\_tumor/PE1G\\_ZZM\\_20160322-Tumor.marked\\_dup.call.cns'\n",
       "\\item '/mnt/d/Projects/scHCC-tumor/data/pipeline\\_output/cnvkit/HCC\\_tumor/PE1Z\\_ZZM\\_20170327-tumor-DNA.marked\\_dup.call.cns'\n",
       "\\item '/mnt/d/Projects/scHCC-tumor/data/pipeline\\_output/cnvkit/HCC\\_tumor/PE1Z\\_ZZM\\_20170412-tumor-DNA.marked\\_dup.call.cns'\n",
       "\\item '/mnt/d/Projects/scHCC-tumor/data/pipeline\\_output/cnvkit/HCC\\_tumor/PE1Z\\_ZZM\\_20171109-tumor-DNA.marked\\_dup.call.cns'\n",
       "\\item '/mnt/d/Projects/scHCC-tumor/data/pipeline\\_output/cnvkit/HCC\\_tumor/PE1Z\\_ZZM\\_20171215-tumor-DNA.marked\\_dup.call.cns'\n",
       "\\item '/mnt/d/Projects/scHCC-tumor/data/pipeline\\_output/cnvkit/HCC\\_tumor/PE1Z\\_ZZM\\_20171220-tumor-DNA.marked\\_dup.call.cns'\n",
       "\\item '/mnt/d/Projects/scHCC-tumor/data/pipeline\\_output/cnvkit/HCC\\_tumor/PE1Z\\_ZZM\\_20171229-tumor-DNA.marked\\_dup.call.cns'\n",
       "\\item '/mnt/d/Projects/scHCC-tumor/data/pipeline\\_output/cnvkit/HCC\\_tumor/PE1Z\\_ZZM\\_20180108-tumor-center.marked\\_dup.call.cns'\n",
       "\\item '/mnt/d/Projects/scHCC-tumor/data/pipeline\\_output/cnvkit/HCC\\_tumor/PE1Z\\_ZZM\\_20180108-tumor-DNA.marked\\_dup.call.cns'\n",
       "\\item '/mnt/d/Projects/scHCC-tumor/data/pipeline\\_output/cnvkit/HCC\\_tumor/PE1Z\\_ZZM\\_20180110-TC-DNA.marked\\_dup.call.cns'\n",
       "\\item '/mnt/d/Projects/scHCC-tumor/data/pipeline\\_output/cnvkit/HCC\\_tumor/PE1Z\\_ZZM\\_20180110-tumor-DNA.marked\\_dup.call.cns'\n",
       "\\item '/mnt/d/Projects/scHCC-tumor/data/pipeline\\_output/cnvkit/HCC\\_tumor/PE1Z\\_ZZM\\_20180116-TC-DNA.marked\\_dup.call.cns'\n",
       "\\item '/mnt/d/Projects/scHCC-tumor/data/pipeline\\_output/cnvkit/HCC\\_tumor/PE1Z\\_ZZM\\_20180116-tumor-DNA.marked\\_dup.call.cns'\n",
       "\\end{enumerate*}\n"
      ],
      "text/markdown": [
       "1. '/mnt/d/Projects/scHCC-tumor/data/pipeline_output/cnvkit/HCC_tumor/PE1G_ZZM_20160322-Tumor.marked_dup.call.cns'\n",
       "2. '/mnt/d/Projects/scHCC-tumor/data/pipeline_output/cnvkit/HCC_tumor/PE1Z_ZZM_20170327-tumor-DNA.marked_dup.call.cns'\n",
       "3. '/mnt/d/Projects/scHCC-tumor/data/pipeline_output/cnvkit/HCC_tumor/PE1Z_ZZM_20170412-tumor-DNA.marked_dup.call.cns'\n",
       "4. '/mnt/d/Projects/scHCC-tumor/data/pipeline_output/cnvkit/HCC_tumor/PE1Z_ZZM_20171109-tumor-DNA.marked_dup.call.cns'\n",
       "5. '/mnt/d/Projects/scHCC-tumor/data/pipeline_output/cnvkit/HCC_tumor/PE1Z_ZZM_20171215-tumor-DNA.marked_dup.call.cns'\n",
       "6. '/mnt/d/Projects/scHCC-tumor/data/pipeline_output/cnvkit/HCC_tumor/PE1Z_ZZM_20171220-tumor-DNA.marked_dup.call.cns'\n",
       "7. '/mnt/d/Projects/scHCC-tumor/data/pipeline_output/cnvkit/HCC_tumor/PE1Z_ZZM_20171229-tumor-DNA.marked_dup.call.cns'\n",
       "8. '/mnt/d/Projects/scHCC-tumor/data/pipeline_output/cnvkit/HCC_tumor/PE1Z_ZZM_20180108-tumor-center.marked_dup.call.cns'\n",
       "9. '/mnt/d/Projects/scHCC-tumor/data/pipeline_output/cnvkit/HCC_tumor/PE1Z_ZZM_20180108-tumor-DNA.marked_dup.call.cns'\n",
       "10. '/mnt/d/Projects/scHCC-tumor/data/pipeline_output/cnvkit/HCC_tumor/PE1Z_ZZM_20180110-TC-DNA.marked_dup.call.cns'\n",
       "11. '/mnt/d/Projects/scHCC-tumor/data/pipeline_output/cnvkit/HCC_tumor/PE1Z_ZZM_20180110-tumor-DNA.marked_dup.call.cns'\n",
       "12. '/mnt/d/Projects/scHCC-tumor/data/pipeline_output/cnvkit/HCC_tumor/PE1Z_ZZM_20180116-TC-DNA.marked_dup.call.cns'\n",
       "13. '/mnt/d/Projects/scHCC-tumor/data/pipeline_output/cnvkit/HCC_tumor/PE1Z_ZZM_20180116-tumor-DNA.marked_dup.call.cns'\n",
       "\n",
       "\n"
      ],
      "text/plain": [
       " [1] \"/mnt/d/Projects/scHCC-tumor/data/pipeline_output/cnvkit/HCC_tumor/PE1G_ZZM_20160322-Tumor.marked_dup.call.cns\"       \n",
       " [2] \"/mnt/d/Projects/scHCC-tumor/data/pipeline_output/cnvkit/HCC_tumor/PE1Z_ZZM_20170327-tumor-DNA.marked_dup.call.cns\"   \n",
       " [3] \"/mnt/d/Projects/scHCC-tumor/data/pipeline_output/cnvkit/HCC_tumor/PE1Z_ZZM_20170412-tumor-DNA.marked_dup.call.cns\"   \n",
       " [4] \"/mnt/d/Projects/scHCC-tumor/data/pipeline_output/cnvkit/HCC_tumor/PE1Z_ZZM_20171109-tumor-DNA.marked_dup.call.cns\"   \n",
       " [5] \"/mnt/d/Projects/scHCC-tumor/data/pipeline_output/cnvkit/HCC_tumor/PE1Z_ZZM_20171215-tumor-DNA.marked_dup.call.cns\"   \n",
       " [6] \"/mnt/d/Projects/scHCC-tumor/data/pipeline_output/cnvkit/HCC_tumor/PE1Z_ZZM_20171220-tumor-DNA.marked_dup.call.cns\"   \n",
       " [7] \"/mnt/d/Projects/scHCC-tumor/data/pipeline_output/cnvkit/HCC_tumor/PE1Z_ZZM_20171229-tumor-DNA.marked_dup.call.cns\"   \n",
       " [8] \"/mnt/d/Projects/scHCC-tumor/data/pipeline_output/cnvkit/HCC_tumor/PE1Z_ZZM_20180108-tumor-center.marked_dup.call.cns\"\n",
       " [9] \"/mnt/d/Projects/scHCC-tumor/data/pipeline_output/cnvkit/HCC_tumor/PE1Z_ZZM_20180108-tumor-DNA.marked_dup.call.cns\"   \n",
       "[10] \"/mnt/d/Projects/scHCC-tumor/data/pipeline_output/cnvkit/HCC_tumor/PE1Z_ZZM_20180110-TC-DNA.marked_dup.call.cns\"      \n",
       "[11] \"/mnt/d/Projects/scHCC-tumor/data/pipeline_output/cnvkit/HCC_tumor/PE1Z_ZZM_20180110-tumor-DNA.marked_dup.call.cns\"   \n",
       "[12] \"/mnt/d/Projects/scHCC-tumor/data/pipeline_output/cnvkit/HCC_tumor/PE1Z_ZZM_20180116-TC-DNA.marked_dup.call.cns\"      \n",
       "[13] \"/mnt/d/Projects/scHCC-tumor/data/pipeline_output/cnvkit/HCC_tumor/PE1Z_ZZM_20180116-tumor-DNA.marked_dup.call.cns\"   "
      ]
     },
     "metadata": {},
     "output_type": "display_data"
    }
   ],
   "source": [
    "fns <- list.files(\"/mnt/d/Projects/scHCC-tumor/data/pipeline_output/cnvkit/HCC_tumor\", pattern = \"*.call.cns\", full.names = T)\n",
    "fns"
   ]
  },
  {
   "cell_type": "code",
   "execution_count": 6,
   "metadata": {},
   "outputs": [],
   "source": [
    "\n",
    "read_cns <- function(fn) {\n",
    "    df <- readr::read_tsv(fn)\n",
    "    df <- df[, c(\"chromosome\", \"start\", \"end\", \"log2\")]\n",
    "    gr_cnv <- GRanges(df)\n",
    "    shit <- subjectHits(findOverlaps(gr, gr_cnv))\n",
    "    qhit <- queryHits(findOverlaps(gr, gr_cnv))\n",
    "    gr_cnv_mt <- gr_cnv[shit]\n",
    "    gr_cnv_mt$qhit <- qhit\n",
    "    gr_cnv_mt <- as.data.frame(gr_cnv_mt)\n",
    "    gr_cnv_log2 <- gr_cnv_mt %>% \n",
    "        group_by(qhit) %>%\n",
    "        summarise(log2 = mean(log2)) \n",
    "    gr_cnv_log2$geneid <- rownames(mt_obs)\n",
    "    gr_cnv_log2 <- gr_cnv_log2[, c('geneid', 'log2')]\n",
    "    mt <- as.matrix(gr_cnv_log2[, 'log2', drop = F])\n",
    "    rownames(mt) <- gr_cnv_log2$geneid\n",
    "    colnames(mt) <- fn\n",
    "    mt\n",
    "}\n"
   ]
  },
  {
   "cell_type": "code",
   "execution_count": 7,
   "metadata": {},
   "outputs": [
    {
     "name": "stderr",
     "output_type": "stream",
     "text": [
      "Parsed with column specification:\n",
      "cols(\n",
      "  chromosome = \u001b[31mcol_character()\u001b[39m,\n",
      "  start = \u001b[32mcol_double()\u001b[39m,\n",
      "  end = \u001b[32mcol_double()\u001b[39m,\n",
      "  gene = \u001b[31mcol_character()\u001b[39m,\n",
      "  log2 = \u001b[32mcol_double()\u001b[39m,\n",
      "  cn = \u001b[32mcol_double()\u001b[39m,\n",
      "  depth = \u001b[32mcol_double()\u001b[39m,\n",
      "  p_ttest = \u001b[32mcol_double()\u001b[39m,\n",
      "  probes = \u001b[32mcol_double()\u001b[39m,\n",
      "  weight = \u001b[32mcol_double()\u001b[39m\n",
      ")\n",
      "\n",
      "Parsed with column specification:\n",
      "cols(\n",
      "  chromosome = \u001b[31mcol_character()\u001b[39m,\n",
      "  start = \u001b[32mcol_double()\u001b[39m,\n",
      "  end = \u001b[32mcol_double()\u001b[39m,\n",
      "  gene = \u001b[31mcol_character()\u001b[39m,\n",
      "  log2 = \u001b[32mcol_double()\u001b[39m,\n",
      "  cn = \u001b[32mcol_double()\u001b[39m,\n",
      "  depth = \u001b[32mcol_double()\u001b[39m,\n",
      "  p_ttest = \u001b[32mcol_double()\u001b[39m,\n",
      "  probes = \u001b[32mcol_double()\u001b[39m,\n",
      "  weight = \u001b[32mcol_double()\u001b[39m\n",
      ")\n",
      "\n",
      "Parsed with column specification:\n",
      "cols(\n",
      "  chromosome = \u001b[31mcol_character()\u001b[39m,\n",
      "  start = \u001b[32mcol_double()\u001b[39m,\n",
      "  end = \u001b[32mcol_double()\u001b[39m,\n",
      "  gene = \u001b[31mcol_character()\u001b[39m,\n",
      "  log2 = \u001b[32mcol_double()\u001b[39m,\n",
      "  cn = \u001b[32mcol_double()\u001b[39m,\n",
      "  depth = \u001b[32mcol_double()\u001b[39m,\n",
      "  p_ttest = \u001b[32mcol_double()\u001b[39m,\n",
      "  probes = \u001b[32mcol_double()\u001b[39m,\n",
      "  weight = \u001b[32mcol_double()\u001b[39m\n",
      ")\n",
      "\n",
      "Parsed with column specification:\n",
      "cols(\n",
      "  chromosome = \u001b[31mcol_character()\u001b[39m,\n",
      "  start = \u001b[32mcol_double()\u001b[39m,\n",
      "  end = \u001b[32mcol_double()\u001b[39m,\n",
      "  gene = \u001b[31mcol_character()\u001b[39m,\n",
      "  log2 = \u001b[32mcol_double()\u001b[39m,\n",
      "  cn = \u001b[32mcol_double()\u001b[39m,\n",
      "  depth = \u001b[32mcol_double()\u001b[39m,\n",
      "  p_ttest = \u001b[32mcol_double()\u001b[39m,\n",
      "  probes = \u001b[32mcol_double()\u001b[39m,\n",
      "  weight = \u001b[32mcol_double()\u001b[39m\n",
      ")\n",
      "\n",
      "Parsed with column specification:\n",
      "cols(\n",
      "  chromosome = \u001b[31mcol_character()\u001b[39m,\n",
      "  start = \u001b[32mcol_double()\u001b[39m,\n",
      "  end = \u001b[32mcol_double()\u001b[39m,\n",
      "  gene = \u001b[31mcol_character()\u001b[39m,\n",
      "  log2 = \u001b[32mcol_double()\u001b[39m,\n",
      "  cn = \u001b[32mcol_double()\u001b[39m,\n",
      "  depth = \u001b[32mcol_double()\u001b[39m,\n",
      "  p_ttest = \u001b[32mcol_double()\u001b[39m,\n",
      "  probes = \u001b[32mcol_double()\u001b[39m,\n",
      "  weight = \u001b[32mcol_double()\u001b[39m\n",
      ")\n",
      "\n",
      "Parsed with column specification:\n",
      "cols(\n",
      "  chromosome = \u001b[31mcol_character()\u001b[39m,\n",
      "  start = \u001b[32mcol_double()\u001b[39m,\n",
      "  end = \u001b[32mcol_double()\u001b[39m,\n",
      "  gene = \u001b[31mcol_character()\u001b[39m,\n",
      "  log2 = \u001b[32mcol_double()\u001b[39m,\n",
      "  cn = \u001b[32mcol_double()\u001b[39m,\n",
      "  depth = \u001b[32mcol_double()\u001b[39m,\n",
      "  p_ttest = \u001b[32mcol_double()\u001b[39m,\n",
      "  probes = \u001b[32mcol_double()\u001b[39m,\n",
      "  weight = \u001b[32mcol_double()\u001b[39m\n",
      ")\n",
      "\n",
      "Parsed with column specification:\n",
      "cols(\n",
      "  chromosome = \u001b[31mcol_character()\u001b[39m,\n",
      "  start = \u001b[32mcol_double()\u001b[39m,\n",
      "  end = \u001b[32mcol_double()\u001b[39m,\n",
      "  gene = \u001b[31mcol_character()\u001b[39m,\n",
      "  log2 = \u001b[32mcol_double()\u001b[39m,\n",
      "  cn = \u001b[32mcol_double()\u001b[39m,\n",
      "  depth = \u001b[32mcol_double()\u001b[39m,\n",
      "  p_ttest = \u001b[32mcol_double()\u001b[39m,\n",
      "  probes = \u001b[32mcol_double()\u001b[39m,\n",
      "  weight = \u001b[32mcol_double()\u001b[39m\n",
      ")\n",
      "\n",
      "Parsed with column specification:\n",
      "cols(\n",
      "  chromosome = \u001b[31mcol_character()\u001b[39m,\n",
      "  start = \u001b[32mcol_double()\u001b[39m,\n",
      "  end = \u001b[32mcol_double()\u001b[39m,\n",
      "  gene = \u001b[31mcol_character()\u001b[39m,\n",
      "  log2 = \u001b[32mcol_double()\u001b[39m,\n",
      "  cn = \u001b[32mcol_double()\u001b[39m,\n",
      "  depth = \u001b[32mcol_double()\u001b[39m,\n",
      "  p_ttest = \u001b[32mcol_double()\u001b[39m,\n",
      "  probes = \u001b[32mcol_double()\u001b[39m,\n",
      "  weight = \u001b[32mcol_double()\u001b[39m\n",
      ")\n",
      "\n",
      "Parsed with column specification:\n",
      "cols(\n",
      "  chromosome = \u001b[31mcol_character()\u001b[39m,\n",
      "  start = \u001b[32mcol_double()\u001b[39m,\n",
      "  end = \u001b[32mcol_double()\u001b[39m,\n",
      "  gene = \u001b[31mcol_character()\u001b[39m,\n",
      "  log2 = \u001b[32mcol_double()\u001b[39m,\n",
      "  cn = \u001b[32mcol_double()\u001b[39m,\n",
      "  depth = \u001b[32mcol_double()\u001b[39m,\n",
      "  p_ttest = \u001b[32mcol_double()\u001b[39m,\n",
      "  probes = \u001b[32mcol_double()\u001b[39m,\n",
      "  weight = \u001b[32mcol_double()\u001b[39m\n",
      ")\n",
      "\n",
      "Parsed with column specification:\n",
      "cols(\n",
      "  chromosome = \u001b[31mcol_character()\u001b[39m,\n",
      "  start = \u001b[32mcol_double()\u001b[39m,\n",
      "  end = \u001b[32mcol_double()\u001b[39m,\n",
      "  gene = \u001b[31mcol_character()\u001b[39m,\n",
      "  log2 = \u001b[32mcol_double()\u001b[39m,\n",
      "  cn = \u001b[32mcol_double()\u001b[39m,\n",
      "  depth = \u001b[32mcol_double()\u001b[39m,\n",
      "  p_ttest = \u001b[32mcol_double()\u001b[39m,\n",
      "  probes = \u001b[32mcol_double()\u001b[39m,\n",
      "  weight = \u001b[32mcol_double()\u001b[39m\n",
      ")\n",
      "\n",
      "Parsed with column specification:\n",
      "cols(\n",
      "  chromosome = \u001b[31mcol_character()\u001b[39m,\n",
      "  start = \u001b[32mcol_double()\u001b[39m,\n",
      "  end = \u001b[32mcol_double()\u001b[39m,\n",
      "  gene = \u001b[31mcol_character()\u001b[39m,\n",
      "  log2 = \u001b[32mcol_double()\u001b[39m,\n",
      "  cn = \u001b[32mcol_double()\u001b[39m,\n",
      "  depth = \u001b[32mcol_double()\u001b[39m,\n",
      "  p_ttest = \u001b[32mcol_double()\u001b[39m,\n",
      "  probes = \u001b[32mcol_double()\u001b[39m,\n",
      "  weight = \u001b[32mcol_double()\u001b[39m\n",
      ")\n",
      "\n",
      "Parsed with column specification:\n",
      "cols(\n",
      "  chromosome = \u001b[31mcol_character()\u001b[39m,\n",
      "  start = \u001b[32mcol_double()\u001b[39m,\n",
      "  end = \u001b[32mcol_double()\u001b[39m,\n",
      "  gene = \u001b[31mcol_character()\u001b[39m,\n",
      "  log2 = \u001b[32mcol_double()\u001b[39m,\n",
      "  cn = \u001b[32mcol_double()\u001b[39m,\n",
      "  depth = \u001b[32mcol_double()\u001b[39m,\n",
      "  p_ttest = \u001b[32mcol_double()\u001b[39m,\n",
      "  probes = \u001b[32mcol_double()\u001b[39m,\n",
      "  weight = \u001b[32mcol_double()\u001b[39m\n",
      ")\n",
      "\n",
      "Parsed with column specification:\n",
      "cols(\n",
      "  chromosome = \u001b[31mcol_character()\u001b[39m,\n",
      "  start = \u001b[32mcol_double()\u001b[39m,\n",
      "  end = \u001b[32mcol_double()\u001b[39m,\n",
      "  gene = \u001b[31mcol_character()\u001b[39m,\n",
      "  log2 = \u001b[32mcol_double()\u001b[39m,\n",
      "  cn = \u001b[32mcol_double()\u001b[39m,\n",
      "  depth = \u001b[32mcol_double()\u001b[39m,\n",
      "  p_ttest = \u001b[32mcol_double()\u001b[39m,\n",
      "  probes = \u001b[32mcol_double()\u001b[39m,\n",
      "  weight = \u001b[32mcol_double()\u001b[39m\n",
      ")\n",
      "\n"
     ]
    }
   ],
   "source": [
    "mt_cnv <- do.call(cbind, lapply(fns, read_cns))"
   ]
  },
  {
   "cell_type": "code",
   "execution_count": 8,
   "metadata": {},
   "outputs": [],
   "source": [
    "colnames(mt_cnv) <- sapply(strsplit(colnames(mt_cnv), '\\\\/'), `[[`, 10)\n",
    "colnames(mt_cnv) <- gsub(\"PE1[GZ]_ZZM_\", \"\", colnames(mt_cnv))\n",
    "colnames(mt_cnv) <- gsub(\"marked_dup.call.cns\", \"\", colnames(mt_cnv))\n",
    "colnames(mt_cnv) <- gsub(\"-DNA.\", \"\", colnames(mt_cnv))\n",
    "colnames(mt_cnv) <- gsub(\"\\\\.$\", \"\", colnames(mt_cnv))\n",
    "colnames(mt_cnv) <- paste0(\"D\", colnames(mt_cnv))"
   ]
  },
  {
   "cell_type": "code",
   "execution_count": 13,
   "metadata": {},
   "outputs": [],
   "source": [
    "mt_cnv <- mt_cnv[, c(\"D20170327-tumor\", \"D20170412-tumor\", \"D20171109-tumor\", \"D20171220-tumor\",\"D20180108-tumor\", \"D20180108-tumor-center\",\n",
    "           \"D20180110-tumor\", \"D20180110-TC\")]"
   ]
  },
  {
   "cell_type": "code",
   "execution_count": 9,
   "metadata": {},
   "outputs": [],
   "source": [
    "mt_cnv <- mt_cnv[, c(\"D20180110-tumor\", \"D20180110-TC\",\"D20171220-tumor\", \"D20170327-tumor\",\"D20180108-tumor\",\"D20180108-tumor-center\",\n",
    "                     \"D20170412-tumor\", \"D20171109-tumor\")]"
   ]
  },
  {
   "cell_type": "code",
   "execution_count": 11,
   "metadata": {},
   "outputs": [],
   "source": [
    "colnames(mt_cnv) <- c(\"D20180110 (Tumor Core)\", \"D20180110 (Tumor Edge)\",\n",
    "                      \"D20171220 (Tumor)\", \n",
    "                      \"D20170327 (Tumor)\",\n",
    "                      \"D20180108 (Tumor Edge)\",\n",
    "                      \"D20180108 (Tumor Core)\",\n",
    "                      \"D20170412 (Tumor)\", \n",
    "                      \"D20171109 (Tumor)\")"
   ]
  },
  {
   "cell_type": "markdown",
   "metadata": {},
   "source": [
    "### RNA"
   ]
  },
  {
   "cell_type": "code",
   "execution_count": 12,
   "metadata": {},
   "outputs": [],
   "source": [
    "mt_rna <- read.table(\"/mnt/d/Projects/scHCC-tumor/analyses/inferCNV/output_dir_bulkHCC/infercnv.observations.txt\")"
   ]
  },
  {
   "cell_type": "code",
   "execution_count": 13,
   "metadata": {},
   "outputs": [],
   "source": [
    "ov_genes <- intersect(rownames(mt_cnv), rownames(mt_rna))"
   ]
  },
  {
   "cell_type": "code",
   "execution_count": 14,
   "metadata": {},
   "outputs": [],
   "source": [
    "mt_cnv <- mt_cnv[ov_genes,]\n",
    "mt_rna <- mt_rna[ov_genes,]"
   ]
  },
  {
   "cell_type": "code",
   "execution_count": 15,
   "metadata": {},
   "outputs": [],
   "source": [
    "mt_rna <- mt_rna[, c('D20180110.tumor', 'D20180110.TC', 'D20171220.tumor', 'D20170322.tumor', 'D20180108.tumor','D20180108.TC', 'D20170412.tumor','D20171109.T')]"
   ]
  },
  {
   "cell_type": "code",
   "execution_count": 17,
   "metadata": {},
   "outputs": [],
   "source": [
    "colnames(mt_rna) <- c('D20180110 (Tumor Core)', \n",
    "                      'D20180110 (Tumor Edge)', \n",
    "                      'D20171220 (Tumor)', \n",
    "                      'D20170322 (Tumor)', \n",
    "                      'D20180108 (Tumor Edge)',\n",
    "                      'D20180108 (Tumor Core)', \n",
    "                      'D20170412 (Tumor)',\n",
    "                      'D20171109 (Tumor)')"
   ]
  },
  {
   "cell_type": "code",
   "execution_count": 18,
   "metadata": {},
   "outputs": [],
   "source": [
    "gene_order <- gene_order[ov_genes,]"
   ]
  },
  {
   "cell_type": "code",
   "execution_count": 20,
   "metadata": {},
   "outputs": [],
   "source": [
    "exome_info <- data.frame(donor = sapply(strsplit(colnames(mt_cnv), \" \"), `[[`, 1), \n",
    "                        tissue = sapply(strsplit(colnames(mt_cnv), \" \"), `[[`, 2),\n",
    "                        celltype_analysis = 'WES',\n",
    "                        reference = 'WES', stringsAsFactors = F)\n",
    "#exome_info[which(exome_info$tissue == 'TC'), \"tissue\"] <- 'TumorCore'\n",
    "#exome_info[which(exome_info$tissue == 'T'), \"tissue\"] <- 'Tumor'\n",
    "#exome_info[which(exome_info$tissue == 'tumor'), \"tissue\"] <- 'Tumor'\n"
   ]
  },
  {
   "cell_type": "code",
   "execution_count": 25,
   "metadata": {},
   "outputs": [],
   "source": [
    "exome_info$tissue <- gsub(\"\\\\(|\\\\)\",\"\", str_extract(colnames(mt_rna), pattern = \"\\\\(.+\\\\)\"))"
   ]
  },
  {
   "cell_type": "code",
   "execution_count": 26,
   "metadata": {},
   "outputs": [],
   "source": [
    "rna_info <- data.frame(donor = sapply(strsplit(colnames(mt_cnv), \" \"), `[[`, 1), \n",
    "                        tissue = sapply(strsplit(colnames(mt_cnv), \" \"), `[[`, 2), \n",
    "                       celltype_analysis = 'bulkRNA',\n",
    "                       reference = 'bulkRNA',\n",
    "                       stringsAsFactors = F)\n",
    "rna_info$tissue <- gsub(\"\\\\(|\\\\)\",\"\", str_extract(colnames(mt_rna), pattern = \"\\\\(.+\\\\)\"))\n",
    "rownames(rna_info) <- colnames(mt_rna)\n"
   ]
  },
  {
   "cell_type": "code",
   "execution_count": 28,
   "metadata": {},
   "outputs": [],
   "source": [
    "mt_bulk <- cbind(mt_cnv, mt_rna)\n",
    "bulk_info <- rbind(exome_info, rna_info)\n",
    "gene_order$chr <- factor(gene_order$chrom, levels = paste0(\"chr\", 1:22))\n",
    "gene_order <- gene_order[order(gene_order$chr),]\n",
    "mt_bulk <- mt_bulk[order(gene_order$chr),]"
   ]
  },
  {
   "cell_type": "code",
   "execution_count": 33,
   "metadata": {},
   "outputs": [
    {
     "data": {
      "text/html": [
       "<strong>png:</strong> 2"
      ],
      "text/latex": [
       "\\textbf{png:} 2"
      ],
      "text/markdown": [
       "**png:** 2"
      ],
      "text/plain": [
       "png \n",
       "  2 "
      ]
     },
     "metadata": {},
     "output_type": "display_data"
    }
   ],
   "source": [
    "library(ComplexHeatmap)\n",
    "ha = HeatmapAnnotation(df = bulk_info)\n",
    "#mt = mt - rowMeans(mt)\n",
    "col_fun <- circlize::colorRamp2(c(-1, 0, 1), c(\"darkblue\", \"white\", \"darkred\"))\n",
    "mt <- t(mt_bulk)\n",
    "mt <- mt - rowMeans(mt)\n",
    "mt[mt > 1] = 1\n",
    "mt[mt < -1] = -1\n",
    "ht <- Heatmap(mt, col = col_fun,   heatmap_legend_param = list(title = \"\"), cluster_rows = FALSE, cluster_columns = FALSE, row_names_side = \"left\",\n",
    "              clustering_method_columns = 'ward.D2', show_column_names = F, show_row_names = T, column_title_rot = 90, \n",
    "              column_split = gene_order$chr, row_split = bulk_info$reference, border = TRUE)\n",
    "\n",
    "pdf(\"./figures/heatmap_inferCNV_WES_and_bulkRNA_modified.pdf\", width = 24, height = 3)\n",
    "draw(ht)\n",
    "dev.off()"
   ]
  },
  {
   "cell_type": "markdown",
   "metadata": {},
   "source": [
    "### Visualize"
   ]
  },
  {
   "cell_type": "code",
   "execution_count": 14,
   "metadata": {},
   "outputs": [],
   "source": [
    "BASE_DIR = '/mnt/d/Projects/scHCC-tumor'\n",
    "sce = readRDS(file.path(BASE_DIR, \n",
    "                     \"data/processed/anndata/20200308/anndata_SmartSeq2_CD45_QC_Global_NonImmune_ForDownstreamAnalysis.rds\"))"
   ]
  },
  {
   "cell_type": "code",
   "execution_count": 15,
   "metadata": {},
   "outputs": [],
   "source": [
    "colnames(mt_obs) <- gsub(\"\\\\.\", \"-\", colnames(mt_obs))"
   ]
  },
  {
   "cell_type": "code",
   "execution_count": 16,
   "metadata": {},
   "outputs": [
    {
     "name": "stderr",
     "output_type": "stream",
     "text": [
      "Loading required package: SingleCellExperiment\n",
      "\n",
      "Loading required package: SummarizedExperiment\n",
      "\n",
      "Loading required package: Biobase\n",
      "\n",
      "Welcome to Bioconductor\n",
      "\n",
      "    Vignettes contain introductory material; view with\n",
      "    'browseVignettes()'. To cite Bioconductor, see\n",
      "    'citation(\"Biobase\")', and for packages 'citation(\"pkgname\")'.\n",
      "\n",
      "\n",
      "Loading required package: DelayedArray\n",
      "\n",
      "Loading required package: matrixStats\n",
      "\n",
      "\n",
      "Attaching package: ‘matrixStats’\n",
      "\n",
      "\n",
      "The following objects are masked from ‘package:Biobase’:\n",
      "\n",
      "    anyMissing, rowMedians\n",
      "\n",
      "\n",
      "The following object is masked from ‘package:dplyr’:\n",
      "\n",
      "    count\n",
      "\n",
      "\n",
      "Loading required package: BiocParallel\n",
      "\n",
      "\n",
      "Attaching package: ‘DelayedArray’\n",
      "\n",
      "\n",
      "The following objects are masked from ‘package:matrixStats’:\n",
      "\n",
      "    colMaxs, colMins, colRanges, rowMaxs, rowMins, rowRanges\n",
      "\n",
      "\n",
      "The following object is masked from ‘package:purrr’:\n",
      "\n",
      "    simplify\n",
      "\n",
      "\n",
      "The following objects are masked from ‘package:base’:\n",
      "\n",
      "    aperm, apply, rowsum\n",
      "\n",
      "\n"
     ]
    }
   ],
   "source": [
    "library(scater)\n",
    "coldata <- as.data.frame(colData(sce))"
   ]
  },
  {
   "cell_type": "code",
   "execution_count": 17,
   "metadata": {},
   "outputs": [],
   "source": [
    "coldata <- coldata[colnames(mt_obs), ]"
   ]
  },
  {
   "cell_type": "code",
   "execution_count": 18,
   "metadata": {},
   "outputs": [],
   "source": [
    "coldata$reference <- ifelse(grepl(\"Hepa\", coldata$celltype_analysis), \"Normal\", \"Tumor\")\n",
    "coldata$donor <- factor(coldata$donor, levels = c(\"D20180110\", \"D20171220\", \"D20170327\", \"D20170322\", \"D20180108\", \"D20171215\", \"D20170412\", \n",
    "                                                  \"D20171109\", \"D20171229\", \"D20170227\"))"
   ]
  },
  {
   "cell_type": "code",
   "execution_count": 19,
   "metadata": {},
   "outputs": [],
   "source": [
    "coldata <- coldata[order(coldata$reference, coldata$donor, coldata$tissue, coldata$celltype_analysis),]"
   ]
  },
  {
   "cell_type": "code",
   "execution_count": 20,
   "metadata": {},
   "outputs": [],
   "source": [
    "mt_obs <- mt_obs[, rownames(coldata)]"
   ]
  },
  {
   "cell_type": "code",
   "execution_count": 21,
   "metadata": {},
   "outputs": [],
   "source": [
    "#gene_order <- gene_order[rownames(mt_obs),]\n",
    "gene_order$chr <- factor(gene_order$chrom, levels = paste0(\"chr\", 1:22))\n",
    "gene_order <- gene_order[order(gene_order$chr),]"
   ]
  },
  {
   "cell_type": "code",
   "execution_count": 22,
   "metadata": {},
   "outputs": [],
   "source": [
    "mt_obs <- mt_obs[order(gene_order$chr),]"
   ]
  },
  {
   "cell_type": "code",
   "execution_count": 23,
   "metadata": {},
   "outputs": [],
   "source": [
    "cell_info <- coldata[, c(\"donor\", \"tissue\", \"celltype_analysis\", \"reference\" )]"
   ]
  },
  {
   "cell_type": "code",
   "execution_count": 24,
   "metadata": {},
   "outputs": [],
   "source": [
    "mt_cnv <- mt_cnv[rownames(mt_obs),]"
   ]
  },
  {
   "cell_type": "code",
   "execution_count": 25,
   "metadata": {},
   "outputs": [],
   "source": [
    "exome_info <- data.frame(donor = sapply(strsplit(colnames(mt_cnv), \"-\"), `[[`, 1), \n",
    "                        tissue = sapply(strsplit(colnames(mt_cnv), \"-\"), `[[`, 2),\n",
    "                        celltype_analysis = 'WES',\n",
    "                        reference = 'WES', stringsAsFactors = F)\n",
    "exome_info[which(exome_info$tissue == 'TC'), \"tissue\"] <- 'TumorCore'\n",
    "exome_info[which(exome_info$tissue == 'T'), \"tissue\"] <- 'Tumor'\n",
    "exome_info[which(exome_info$tissue == 'tumor'), \"tissue\"] <- 'Tumor'\n"
   ]
  },
  {
   "cell_type": "code",
   "execution_count": 26,
   "metadata": {},
   "outputs": [],
   "source": [
    "mt_final <- cbind(mt_cnv, mt_obs)\n",
    "mt_info <- rbind(cell_info, exome_info)"
   ]
  },
  {
   "cell_type": "code",
   "execution_count": 214,
   "metadata": {},
   "outputs": [
    {
     "data": {
      "text/html": [
       "<strong>png:</strong> 2"
      ],
      "text/latex": [
       "\\textbf{png:} 2"
      ],
      "text/markdown": [
       "**png:** 2"
      ],
      "text/plain": [
       "png \n",
       "  2 "
      ]
     },
     "metadata": {},
     "output_type": "display_data"
    }
   ],
   "source": [
    "library(ComplexHeatmap)\n",
    "ha = HeatmapAnnotation(df = mt_info)\n",
    "#mt = mt - rowMeans(mt)\n",
    "col_fun <- circlize::colorRamp2(c(-0.5, 0, 0.5), c(\"darkblue\", \"white\", \"darkred\"))\n",
    "mt <- t(mt_final)\n",
    "mt <- mt - rowMeans(mt)\n",
    "mt[mt > 1] = 1\n",
    "mt[mt < -1] = -1\n",
    "ht <- Heatmap(mt, col = col_fun,  cluster_rows = FALSE, cluster_columns = FALSE, \n",
    "              clustering_method_columns = 'ward.D2', show_column_names = F, show_row_names = F,  \n",
    "              column_split = gene_order$chrom, row_split = mt_info$reference, border = TRUE) + \n",
    "rowAnnotation(df = mt_info) \n",
    "\n",
    "pdf(\"./figures/heatmap_inferCNV_hepatocytes_and_WES.pdf\", width = 24, height = 9)\n",
    "draw(ht)\n",
    "dev.off()"
   ]
  },
  {
   "cell_type": "code",
   "execution_count": 28,
   "metadata": {},
   "outputs": [
    {
     "data": {
      "text/html": [
       "<style>\n",
       ".list-inline {list-style: none; margin:0; padding: 0}\n",
       ".list-inline>li {display: inline-block}\n",
       ".list-inline>li:not(:last-child)::after {content: \"\\00b7\"; padding: 0 .5ex}\n",
       "</style>\n",
       "<ol class=list-inline><li>'D20170327-tumor'</li><li>'D20170412-tumor'</li><li>'D20171109-tumor'</li><li>'D20171220-tumor'</li><li>'D20180108-tumor'</li><li>'D20180108-tumor-center'</li><li>'D20180110-tumor'</li><li>'D20180110-TC'</li></ol>\n"
      ],
      "text/latex": [
       "\\begin{enumerate*}\n",
       "\\item 'D20170327-tumor'\n",
       "\\item 'D20170412-tumor'\n",
       "\\item 'D20171109-tumor'\n",
       "\\item 'D20171220-tumor'\n",
       "\\item 'D20180108-tumor'\n",
       "\\item 'D20180108-tumor-center'\n",
       "\\item 'D20180110-tumor'\n",
       "\\item 'D20180110-TC'\n",
       "\\end{enumerate*}\n"
      ],
      "text/markdown": [
       "1. 'D20170327-tumor'\n",
       "2. 'D20170412-tumor'\n",
       "3. 'D20171109-tumor'\n",
       "4. 'D20171220-tumor'\n",
       "5. 'D20180108-tumor'\n",
       "6. 'D20180108-tumor-center'\n",
       "7. 'D20180110-tumor'\n",
       "8. 'D20180110-TC'\n",
       "\n",
       "\n"
      ],
      "text/plain": [
       "[1] \"D20170327-tumor\"        \"D20170412-tumor\"        \"D20171109-tumor\"       \n",
       "[4] \"D20171220-tumor\"        \"D20180108-tumor\"        \"D20180108-tumor-center\"\n",
       "[7] \"D20180110-tumor\"        \"D20180110-TC\"          "
      ]
     },
     "metadata": {},
     "output_type": "display_data"
    }
   ],
   "source": []
  },
  {
   "cell_type": "code",
   "execution_count": 27,
   "metadata": {},
   "outputs": [
    {
     "name": "stderr",
     "output_type": "stream",
     "text": [
      "Loading required package: grid\n",
      "\n",
      "========================================\n",
      "ComplexHeatmap version 2.2.0\n",
      "Bioconductor page: http://bioconductor.org/packages/ComplexHeatmap/\n",
      "Github page: https://github.com/jokergoo/ComplexHeatmap\n",
      "Documentation: http://jokergoo.github.io/ComplexHeatmap-reference\n",
      "\n",
      "If you use it in published research, please cite:\n",
      "Gu, Z. Complex heatmaps reveal patterns and correlations in multidimensional \n",
      "  genomic data. Bioinformatics 2016.\n",
      "========================================\n",
      "\n",
      "\n"
     ]
    },
    {
     "data": {
      "text/html": [
       "<strong>png:</strong> 2"
      ],
      "text/latex": [
       "\\textbf{png:} 2"
      ],
      "text/markdown": [
       "**png:** 2"
      ],
      "text/plain": [
       "png \n",
       "  2 "
      ]
     },
     "metadata": {},
     "output_type": "display_data"
    }
   ],
   "source": [
    "library(ComplexHeatmap)\n",
    "ha = HeatmapAnnotation(df = exome_info)\n",
    "#mt = mt - rowMeans(mt)\n",
    "col_fun <- circlize::colorRamp2(c(-1, 0, 1), c(\"darkblue\", \"white\", \"darkred\"))\n",
    "mt <- t(mt_cnv)\n",
    "mt <- mt - rowMeans(mt)\n",
    "mt[mt > 1] = 1\n",
    "mt[mt < -1] = -1\n",
    "ht <- Heatmap(mt, col = col_fun,  cluster_rows = FALSE, cluster_columns = FALSE, \n",
    "              clustering_method_columns = 'ward.D2', show_column_names = F, show_row_names = T,  \n",
    "              column_split = gene_order$chr, border = TRUE)\n",
    "\n",
    "pdf(\"./figures/heatmap_inferCNV_WES.pdf\", width = 24, height = 9)\n",
    "draw(ht)\n",
    "dev.off()"
   ]
  }
 ],
 "metadata": {
  "kernelspec": {
   "display_name": "R 4.0 in Py3.7",
   "language": "R",
   "name": "ir4py37"
  },
  "language_info": {
   "codemirror_mode": "r",
   "file_extension": ".r",
   "mimetype": "text/x-r-source",
   "name": "R",
   "pygments_lexer": "r",
   "version": "4.0.2"
  }
 },
 "nbformat": 4,
 "nbformat_minor": 4
}
