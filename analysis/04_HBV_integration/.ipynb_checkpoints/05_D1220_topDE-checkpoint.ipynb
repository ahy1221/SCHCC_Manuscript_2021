{
 "cells": [
  {
   "cell_type": "code",
   "execution_count": 10,
   "id": "8057efc1-a533-43d0-9528-f0cc7a5b6f8f",
   "metadata": {},
   "outputs": [],
   "source": [
    "suppressPackageStartupMessages({\n",
    "    library(scater)\n",
    "    library(tidyverse)\n",
    "    library(gprofiler2)\n",
    "    library(msigdbr)\n",
    "    library(fgsea)\n",
    "    library(edgeR)\n",
    "    library(clusterProfiler)\n",
    "\n",
    "})\n",
    "sce <- readRDS('../../data/expression/sce/sce_Smartseq2_scHCC-CD45_featureCounts_qc_clustered_tumor_D1220.rds')\n",
    "sce$leiden <- paste0(\"C0\", sce$leiden)"
   ]
  },
  {
   "cell_type": "code",
   "execution_count": 4,
   "id": "54e50e9e-f975-4aa0-9f91-d358bb7b7fd5",
   "metadata": {},
   "outputs": [],
   "source": [
    "dge <- scran::convertTo(sce, type = \"edgeR\")\n",
    "dge$genes$Start <- NULL\n",
    "dge$genes$End <- NULL\n",
    "dge$genes$Strand <- NULL\n",
    "keep <- rowData(sce)$Biotype == 'protein_coding'\n",
    "dge <- dge[keep,]"
   ]
  },
  {
   "cell_type": "code",
   "execution_count": 18,
   "id": "5e6bdf42-b326-49bc-8c96-583d02b7d2f5",
   "metadata": {},
   "outputs": [],
   "source": [
    "dge$genes$varm <- NULL"
   ]
  },
  {
   "cell_type": "code",
   "execution_count": 19,
   "id": "418ff856-bf3d-494a-a529-8b2aa15495b1",
   "metadata": {},
   "outputs": [],
   "source": [
    "design <- model.matrix(~ 0 + leiden, data = dge$samples)"
   ]
  },
  {
   "cell_type": "code",
   "execution_count": 22,
   "id": "84b71e23-f89d-4610-b203-3ddd6835469b",
   "metadata": {},
   "outputs": [],
   "source": [
    "cont <- makeContrasts(C00=leidenC00-((leidenC01+leidenC02)/2), \n",
    "                      C01=leidenC01-((leidenC00+leidenC02)/2),\n",
    "                      C02=leidenC02-((leidenC00+leidenC01)/2),\n",
    "                      levels = design)\n",
    "dge <- estimateDisp(dge, design, robust=TRUE)\n",
    "fit <- glmQLFit(dge, design)"
   ]
  },
  {
   "cell_type": "code",
   "execution_count": 174,
   "id": "8d9956ac-81cd-4e31-9104-5dc4174de395",
   "metadata": {},
   "outputs": [],
   "source": [
    "qlf <- glmQLFTest(fit, contrast = cont[, 1])\n",
    "out_de <- topTags(qlf, n = Inf)\n",
    "deC00 <- out_de$table\n",
    "qlf <- glmQLFTest(fit, contrast = cont[, 2])\n",
    "out_de <- topTags(qlf, n = Inf)\n",
    "deC01 <- out_de$table\n",
    "\n",
    "qlf <- glmQLFTest(fit, contrast = cont[, 3])\n",
    "out_de <- topTags(qlf, n = Inf)\n",
    "deC02 <- out_de$table\n",
    "\n"
   ]
  },
  {
   "cell_type": "code",
   "execution_count": 175,
   "id": "5fa8f9f7-f4c0-4503-b172-7fba1fa1cff4",
   "metadata": {},
   "outputs": [],
   "source": [
    "deC00 <- as.data.frame(deC00) %>% tibble::rownames_to_column('gene') \n",
    "deC01 <- as.data.frame(deC01) %>% tibble::rownames_to_column('gene')\n",
    "deC02 <- as.data.frame(deC02) %>% tibble::rownames_to_column('gene')"
   ]
  },
  {
   "cell_type": "code",
   "execution_count": 176,
   "id": "aca0dd73-c929-4e5a-95eb-466f44fc74ff",
   "metadata": {},
   "outputs": [],
   "source": [
    "readr::write_tsv(deC00, file = \"./out/DE_edgeR_C00.tsv\")\n",
    "readr::write_tsv(deC01, file = \"./out/DE_edgeR_C01.tsv\")\n",
    "readr::write_tsv(deC02, file = \"./out/DE_edgeR_C02.tsv\")"
   ]
  },
  {
   "cell_type": "code",
   "execution_count": 177,
   "id": "532785f7-a1ae-44d8-b783-151cd72702b3",
   "metadata": {},
   "outputs": [],
   "source": [
    "msigdbr_df = msigdbr(species = \"human\", category = c(\"C2\")) %>% \n",
    "    filter(gs_subcat %in% c('CP', 'CP:KEGG',  'CP:PID' ))\n"
   ]
  },
  {
   "cell_type": "markdown",
   "id": "0be88a36-2de8-4fa3-a5f5-b84691573735",
   "metadata": {},
   "source": [
    "# clusterProfiler"
   ]
  },
  {
   "cell_type": "code",
   "execution_count": 178,
   "id": "3b8a8958-9ed2-4740-a873-be4589472791",
   "metadata": {},
   "outputs": [],
   "source": [
    "\n",
    "\n",
    "up_genes <- deC01 %>% filter(logFC > 0.5 & FDR < 0.01) %>% .$gene\n",
    "msigdbr_t2g = msigdbr_df %>% dplyr::distinct(gs_name,gene_symbol ) %>% as.data.frame()\n",
    "enrichRes <- enricher(gene = up_genes, TERM2GENE = msigdbr_t2g)@result\n",
    "readr::write_tsv(enrichRes, file = \"out/clusterProfiler_C01_logFC0.5_FDR0.01.tsv\")\n"
   ]
  },
  {
   "cell_type": "code",
   "execution_count": 179,
   "id": "aa414fe9-1da7-4456-94d8-6cf1b020d02e",
   "metadata": {},
   "outputs": [],
   "source": [
    "up_genes <- deC00 %>% filter(logFC > 0.5 & FDR < 0.01) %>% .$gene\n",
    "msigdbr_t2g = msigdbr_df %>% dplyr::distinct(gs_name,gene_symbol ) %>% as.data.frame()\n",
    "enrichRes <- enricher(gene = up_genes, TERM2GENE = msigdbr_t2g)@result\n",
    "readr::write_tsv(enrichRes, file = \"out/clusterProfiler_C00_logFC0.5_FDR0.01.tsv\")\n",
    "\n"
   ]
  },
  {
   "cell_type": "code",
   "execution_count": 180,
   "id": "542645cc-37a5-4e65-b96d-08569d7bf498",
   "metadata": {},
   "outputs": [],
   "source": [
    "up_genes <- deC02 %>% filter(logFC > 0.5 & FDR < 0.01) %>% .$gene\n",
    "msigdbr_t2g = msigdbr_df %>% dplyr::distinct(gs_name,gene_symbol ) %>% as.data.frame()\n",
    "enrichRes <- enricher(gene = up_genes, TERM2GENE = msigdbr_t2g)@result\n",
    "readr::write_tsv(enrichRes, file = \"out/clusterProfiler_C02_logFC0.5_FDR0.01.tsv\")"
   ]
  },
  {
   "cell_type": "code",
   "execution_count": 160,
   "id": "0e9737ff-0f2e-4736-97a5-446c1ff5c62b",
   "metadata": {},
   "outputs": [
    {
     "data": {
      "text/html": [
       "<table class=\"dataframe\">\n",
       "<caption>A data.frame: 11 × 10</caption>\n",
       "<thead>\n",
       "\t<tr><th scope=col>pathway</th><th scope=col>ID</th><th scope=col>Description</th><th scope=col>GeneRatio</th><th scope=col>BgRatio</th><th scope=col>pvalue</th><th scope=col>p.adjust</th><th scope=col>qvalue</th><th scope=col>geneID</th><th scope=col>Count</th></tr>\n",
       "\t<tr><th scope=col>&lt;chr&gt;</th><th scope=col>&lt;chr&gt;</th><th scope=col>&lt;chr&gt;</th><th scope=col>&lt;chr&gt;</th><th scope=col>&lt;chr&gt;</th><th scope=col>&lt;dbl&gt;</th><th scope=col>&lt;dbl&gt;</th><th scope=col>&lt;dbl&gt;</th><th scope=col>&lt;chr&gt;</th><th scope=col>&lt;int&gt;</th></tr>\n",
       "</thead>\n",
       "<tbody>\n",
       "\t<tr><td>PID_AURORA_A_PATHWAY                             </td><td>PID_AURORA_A_PATHWAY                             </td><td>PID_AURORA_A_PATHWAY                             </td><td>5/75</td><td>31/6834 </td><td>1.892229e-05</td><td>0.00181654</td><td>0.001573538</td><td>DLGAP5/AURKA/BIRC5/AURKB/TACC3 </td><td>5</td></tr>\n",
       "\t<tr><td>PID_AURORA_B_PATHWAY                             </td><td>PID_AURORA_B_PATHWAY                             </td><td>PID_AURORA_B_PATHWAY                             </td><td>4/75</td><td>39/6834 </td><td>8.228977e-04</td><td>0.02109193</td><td>0.018270419</td><td>KIF2C/AURKA/BIRC5/AURKB        </td><td>4</td></tr>\n",
       "\t<tr><td>KEGG_PPAR_SIGNALING_PATHWAY                      </td><td>KEGG_PPAR_SIGNALING_PATHWAY                      </td><td>KEGG_PPAR_SIGNALING_PATHWAY                      </td><td>5/75</td><td>69/6834 </td><td>9.051772e-04</td><td>0.02109193</td><td>0.018270419</td><td>APOC3/APOA2/FABP1/APOA1/HMGCS2 </td><td>5</td></tr>\n",
       "\t<tr><td>PID_FOXM1_PATHWAY                                </td><td>PID_FOXM1_PATHWAY                                </td><td>PID_FOXM1_PATHWAY                                </td><td>4/75</td><td>40/6834 </td><td>9.067913e-04</td><td>0.02109193</td><td>0.018270419</td><td>NEK2/BIRC5/CCNB2/AURKB         </td><td>4</td></tr>\n",
       "\t<tr><td>KEGG_DRUG_METABOLISM_CYTOCHROME_P450             </td><td>KEGG_DRUG_METABOLISM_CYTOCHROME_P450             </td><td>KEGG_DRUG_METABOLISM_CYTOCHROME_P450             </td><td>5/75</td><td>72/6834 </td><td>1.098538e-03</td><td>0.02109193</td><td>0.018270419</td><td>GSTA2/CYP2E1/GSTA1/GSTA5/CYP2D6</td><td>5</td></tr>\n",
       "\t<tr><td>PID_HNF3B_PATHWAY                                </td><td>PID_HNF3B_PATHWAY                                </td><td>PID_HNF3B_PATHWAY                                </td><td>4/75</td><td>45/6834 </td><td>1.418452e-03</td><td>0.02269523</td><td>0.019659243</td><td>APOA1/TTR/AFP/PKLR             </td><td>4</td></tr>\n",
       "\t<tr><td>PID_MYC_ACTIV_PATHWAY                            </td><td>PID_MYC_ACTIV_PATHWAY                            </td><td>PID_MYC_ACTIV_PATHWAY                            </td><td>5/75</td><td>79/6834 </td><td>1.667378e-03</td><td>0.02286690</td><td>0.019807947</td><td>PEG10/TK1/PMAIP1/BIRC5/MYCT1   </td><td>5</td></tr>\n",
       "\t<tr><td>KEGG_GLUTATHIONE_METABOLISM                      </td><td>KEGG_GLUTATHIONE_METABOLISM                      </td><td>KEGG_GLUTATHIONE_METABOLISM                      </td><td>4/75</td><td>50/6834 </td><td>2.103753e-03</td><td>0.02524504</td><td>0.021867961</td><td>GSTA2/GSTA1/GSTA5/RRM2         </td><td>4</td></tr>\n",
       "\t<tr><td>KEGG_BUTANOATE_METABOLISM                        </td><td>KEGG_BUTANOATE_METABOLISM                        </td><td>KEGG_BUTANOATE_METABOLISM                        </td><td>3/75</td><td>34/6834 </td><td>5.951251e-03</td><td>0.06348001</td><td>0.054988168</td><td>AKR1B10/HMGCS2/ACSM1           </td><td>3</td></tr>\n",
       "\t<tr><td>KEGG_METABOLISM_OF_XENOBIOTICS_BY_CYTOCHROME_P450</td><td>KEGG_METABOLISM_OF_XENOBIOTICS_BY_CYTOCHROME_P450</td><td>KEGG_METABOLISM_OF_XENOBIOTICS_BY_CYTOCHROME_P450</td><td>4/75</td><td>70/6834 </td><td>7.103925e-03</td><td>0.06819768</td><td>0.059074745</td><td>GSTA2/CYP2E1/GSTA1/GSTA5       </td><td>4</td></tr>\n",
       "\t<tr><td>KEGG_CELL_CYCLE                                  </td><td>KEGG_CELL_CYCLE                                  </td><td>KEGG_CELL_CYCLE                                  </td><td>5/75</td><td>125/6834</td><td>1.176073e-02</td><td>0.10263912</td><td>0.088908883</td><td>TTK/BUB1B/PTTG1/CCNB2/MAD2L1   </td><td>5</td></tr>\n",
       "</tbody>\n",
       "</table>\n"
      ],
      "text/latex": [
       "A data.frame: 11 × 10\n",
       "\\begin{tabular}{llllllllll}\n",
       " pathway & ID & Description & GeneRatio & BgRatio & pvalue & p.adjust & qvalue & geneID & Count\\\\\n",
       " <chr> & <chr> & <chr> & <chr> & <chr> & <dbl> & <dbl> & <dbl> & <chr> & <int>\\\\\n",
       "\\hline\n",
       "\t PID\\_AURORA\\_A\\_PATHWAY                              & PID\\_AURORA\\_A\\_PATHWAY                              & PID\\_AURORA\\_A\\_PATHWAY                              & 5/75 & 31/6834  & 1.892229e-05 & 0.00181654 & 0.001573538 & DLGAP5/AURKA/BIRC5/AURKB/TACC3  & 5\\\\\n",
       "\t PID\\_AURORA\\_B\\_PATHWAY                              & PID\\_AURORA\\_B\\_PATHWAY                              & PID\\_AURORA\\_B\\_PATHWAY                              & 4/75 & 39/6834  & 8.228977e-04 & 0.02109193 & 0.018270419 & KIF2C/AURKA/BIRC5/AURKB         & 4\\\\\n",
       "\t KEGG\\_PPAR\\_SIGNALING\\_PATHWAY                       & KEGG\\_PPAR\\_SIGNALING\\_PATHWAY                       & KEGG\\_PPAR\\_SIGNALING\\_PATHWAY                       & 5/75 & 69/6834  & 9.051772e-04 & 0.02109193 & 0.018270419 & APOC3/APOA2/FABP1/APOA1/HMGCS2  & 5\\\\\n",
       "\t PID\\_FOXM1\\_PATHWAY                                 & PID\\_FOXM1\\_PATHWAY                                 & PID\\_FOXM1\\_PATHWAY                                 & 4/75 & 40/6834  & 9.067913e-04 & 0.02109193 & 0.018270419 & NEK2/BIRC5/CCNB2/AURKB          & 4\\\\\n",
       "\t KEGG\\_DRUG\\_METABOLISM\\_CYTOCHROME\\_P450              & KEGG\\_DRUG\\_METABOLISM\\_CYTOCHROME\\_P450              & KEGG\\_DRUG\\_METABOLISM\\_CYTOCHROME\\_P450              & 5/75 & 72/6834  & 1.098538e-03 & 0.02109193 & 0.018270419 & GSTA2/CYP2E1/GSTA1/GSTA5/CYP2D6 & 5\\\\\n",
       "\t PID\\_HNF3B\\_PATHWAY                                 & PID\\_HNF3B\\_PATHWAY                                 & PID\\_HNF3B\\_PATHWAY                                 & 4/75 & 45/6834  & 1.418452e-03 & 0.02269523 & 0.019659243 & APOA1/TTR/AFP/PKLR              & 4\\\\\n",
       "\t PID\\_MYC\\_ACTIV\\_PATHWAY                             & PID\\_MYC\\_ACTIV\\_PATHWAY                             & PID\\_MYC\\_ACTIV\\_PATHWAY                             & 5/75 & 79/6834  & 1.667378e-03 & 0.02286690 & 0.019807947 & PEG10/TK1/PMAIP1/BIRC5/MYCT1    & 5\\\\\n",
       "\t KEGG\\_GLUTATHIONE\\_METABOLISM                       & KEGG\\_GLUTATHIONE\\_METABOLISM                       & KEGG\\_GLUTATHIONE\\_METABOLISM                       & 4/75 & 50/6834  & 2.103753e-03 & 0.02524504 & 0.021867961 & GSTA2/GSTA1/GSTA5/RRM2          & 4\\\\\n",
       "\t KEGG\\_BUTANOATE\\_METABOLISM                         & KEGG\\_BUTANOATE\\_METABOLISM                         & KEGG\\_BUTANOATE\\_METABOLISM                         & 3/75 & 34/6834  & 5.951251e-03 & 0.06348001 & 0.054988168 & AKR1B10/HMGCS2/ACSM1            & 3\\\\\n",
       "\t KEGG\\_METABOLISM\\_OF\\_XENOBIOTICS\\_BY\\_CYTOCHROME\\_P450 & KEGG\\_METABOLISM\\_OF\\_XENOBIOTICS\\_BY\\_CYTOCHROME\\_P450 & KEGG\\_METABOLISM\\_OF\\_XENOBIOTICS\\_BY\\_CYTOCHROME\\_P450 & 4/75 & 70/6834  & 7.103925e-03 & 0.06819768 & 0.059074745 & GSTA2/CYP2E1/GSTA1/GSTA5        & 4\\\\\n",
       "\t KEGG\\_CELL\\_CYCLE                                   & KEGG\\_CELL\\_CYCLE                                   & KEGG\\_CELL\\_CYCLE                                   & 5/75 & 125/6834 & 1.176073e-02 & 0.10263912 & 0.088908883 & TTK/BUB1B/PTTG1/CCNB2/MAD2L1    & 5\\\\\n",
       "\\end{tabular}\n"
      ],
      "text/markdown": [
       "\n",
       "A data.frame: 11 × 10\n",
       "\n",
       "| pathway &lt;chr&gt; | ID &lt;chr&gt; | Description &lt;chr&gt; | GeneRatio &lt;chr&gt; | BgRatio &lt;chr&gt; | pvalue &lt;dbl&gt; | p.adjust &lt;dbl&gt; | qvalue &lt;dbl&gt; | geneID &lt;chr&gt; | Count &lt;int&gt; |\n",
       "|---|---|---|---|---|---|---|---|---|---|\n",
       "| PID_AURORA_A_PATHWAY                              | PID_AURORA_A_PATHWAY                              | PID_AURORA_A_PATHWAY                              | 5/75 | 31/6834  | 1.892229e-05 | 0.00181654 | 0.001573538 | DLGAP5/AURKA/BIRC5/AURKB/TACC3  | 5 |\n",
       "| PID_AURORA_B_PATHWAY                              | PID_AURORA_B_PATHWAY                              | PID_AURORA_B_PATHWAY                              | 4/75 | 39/6834  | 8.228977e-04 | 0.02109193 | 0.018270419 | KIF2C/AURKA/BIRC5/AURKB         | 4 |\n",
       "| KEGG_PPAR_SIGNALING_PATHWAY                       | KEGG_PPAR_SIGNALING_PATHWAY                       | KEGG_PPAR_SIGNALING_PATHWAY                       | 5/75 | 69/6834  | 9.051772e-04 | 0.02109193 | 0.018270419 | APOC3/APOA2/FABP1/APOA1/HMGCS2  | 5 |\n",
       "| PID_FOXM1_PATHWAY                                 | PID_FOXM1_PATHWAY                                 | PID_FOXM1_PATHWAY                                 | 4/75 | 40/6834  | 9.067913e-04 | 0.02109193 | 0.018270419 | NEK2/BIRC5/CCNB2/AURKB          | 4 |\n",
       "| KEGG_DRUG_METABOLISM_CYTOCHROME_P450              | KEGG_DRUG_METABOLISM_CYTOCHROME_P450              | KEGG_DRUG_METABOLISM_CYTOCHROME_P450              | 5/75 | 72/6834  | 1.098538e-03 | 0.02109193 | 0.018270419 | GSTA2/CYP2E1/GSTA1/GSTA5/CYP2D6 | 5 |\n",
       "| PID_HNF3B_PATHWAY                                 | PID_HNF3B_PATHWAY                                 | PID_HNF3B_PATHWAY                                 | 4/75 | 45/6834  | 1.418452e-03 | 0.02269523 | 0.019659243 | APOA1/TTR/AFP/PKLR              | 4 |\n",
       "| PID_MYC_ACTIV_PATHWAY                             | PID_MYC_ACTIV_PATHWAY                             | PID_MYC_ACTIV_PATHWAY                             | 5/75 | 79/6834  | 1.667378e-03 | 0.02286690 | 0.019807947 | PEG10/TK1/PMAIP1/BIRC5/MYCT1    | 5 |\n",
       "| KEGG_GLUTATHIONE_METABOLISM                       | KEGG_GLUTATHIONE_METABOLISM                       | KEGG_GLUTATHIONE_METABOLISM                       | 4/75 | 50/6834  | 2.103753e-03 | 0.02524504 | 0.021867961 | GSTA2/GSTA1/GSTA5/RRM2          | 4 |\n",
       "| KEGG_BUTANOATE_METABOLISM                         | KEGG_BUTANOATE_METABOLISM                         | KEGG_BUTANOATE_METABOLISM                         | 3/75 | 34/6834  | 5.951251e-03 | 0.06348001 | 0.054988168 | AKR1B10/HMGCS2/ACSM1            | 3 |\n",
       "| KEGG_METABOLISM_OF_XENOBIOTICS_BY_CYTOCHROME_P450 | KEGG_METABOLISM_OF_XENOBIOTICS_BY_CYTOCHROME_P450 | KEGG_METABOLISM_OF_XENOBIOTICS_BY_CYTOCHROME_P450 | 4/75 | 70/6834  | 7.103925e-03 | 0.06819768 | 0.059074745 | GSTA2/CYP2E1/GSTA1/GSTA5        | 4 |\n",
       "| KEGG_CELL_CYCLE                                   | KEGG_CELL_CYCLE                                   | KEGG_CELL_CYCLE                                   | 5/75 | 125/6834 | 1.176073e-02 | 0.10263912 | 0.088908883 | TTK/BUB1B/PTTG1/CCNB2/MAD2L1    | 5 |\n",
       "\n"
      ],
      "text/plain": [
       "   pathway                                          \n",
       "1  PID_AURORA_A_PATHWAY                             \n",
       "2  PID_AURORA_B_PATHWAY                             \n",
       "3  KEGG_PPAR_SIGNALING_PATHWAY                      \n",
       "4  PID_FOXM1_PATHWAY                                \n",
       "5  KEGG_DRUG_METABOLISM_CYTOCHROME_P450             \n",
       "6  PID_HNF3B_PATHWAY                                \n",
       "7  PID_MYC_ACTIV_PATHWAY                            \n",
       "8  KEGG_GLUTATHIONE_METABOLISM                      \n",
       "9  KEGG_BUTANOATE_METABOLISM                        \n",
       "10 KEGG_METABOLISM_OF_XENOBIOTICS_BY_CYTOCHROME_P450\n",
       "11 KEGG_CELL_CYCLE                                  \n",
       "   ID                                               \n",
       "1  PID_AURORA_A_PATHWAY                             \n",
       "2  PID_AURORA_B_PATHWAY                             \n",
       "3  KEGG_PPAR_SIGNALING_PATHWAY                      \n",
       "4  PID_FOXM1_PATHWAY                                \n",
       "5  KEGG_DRUG_METABOLISM_CYTOCHROME_P450             \n",
       "6  PID_HNF3B_PATHWAY                                \n",
       "7  PID_MYC_ACTIV_PATHWAY                            \n",
       "8  KEGG_GLUTATHIONE_METABOLISM                      \n",
       "9  KEGG_BUTANOATE_METABOLISM                        \n",
       "10 KEGG_METABOLISM_OF_XENOBIOTICS_BY_CYTOCHROME_P450\n",
       "11 KEGG_CELL_CYCLE                                  \n",
       "   Description                                       GeneRatio BgRatio \n",
       "1  PID_AURORA_A_PATHWAY                              5/75      31/6834 \n",
       "2  PID_AURORA_B_PATHWAY                              4/75      39/6834 \n",
       "3  KEGG_PPAR_SIGNALING_PATHWAY                       5/75      69/6834 \n",
       "4  PID_FOXM1_PATHWAY                                 4/75      40/6834 \n",
       "5  KEGG_DRUG_METABOLISM_CYTOCHROME_P450              5/75      72/6834 \n",
       "6  PID_HNF3B_PATHWAY                                 4/75      45/6834 \n",
       "7  PID_MYC_ACTIV_PATHWAY                             5/75      79/6834 \n",
       "8  KEGG_GLUTATHIONE_METABOLISM                       4/75      50/6834 \n",
       "9  KEGG_BUTANOATE_METABOLISM                         3/75      34/6834 \n",
       "10 KEGG_METABOLISM_OF_XENOBIOTICS_BY_CYTOCHROME_P450 4/75      70/6834 \n",
       "11 KEGG_CELL_CYCLE                                   5/75      125/6834\n",
       "   pvalue       p.adjust   qvalue      geneID                          Count\n",
       "1  1.892229e-05 0.00181654 0.001573538 DLGAP5/AURKA/BIRC5/AURKB/TACC3  5    \n",
       "2  8.228977e-04 0.02109193 0.018270419 KIF2C/AURKA/BIRC5/AURKB         4    \n",
       "3  9.051772e-04 0.02109193 0.018270419 APOC3/APOA2/FABP1/APOA1/HMGCS2  5    \n",
       "4  9.067913e-04 0.02109193 0.018270419 NEK2/BIRC5/CCNB2/AURKB          4    \n",
       "5  1.098538e-03 0.02109193 0.018270419 GSTA2/CYP2E1/GSTA1/GSTA5/CYP2D6 5    \n",
       "6  1.418452e-03 0.02269523 0.019659243 APOA1/TTR/AFP/PKLR              4    \n",
       "7  1.667378e-03 0.02286690 0.019807947 PEG10/TK1/PMAIP1/BIRC5/MYCT1    5    \n",
       "8  2.103753e-03 0.02524504 0.021867961 GSTA2/GSTA1/GSTA5/RRM2          4    \n",
       "9  5.951251e-03 0.06348001 0.054988168 AKR1B10/HMGCS2/ACSM1            3    \n",
       "10 7.103925e-03 0.06819768 0.059074745 GSTA2/CYP2E1/GSTA1/GSTA5        4    \n",
       "11 1.176073e-02 0.10263912 0.088908883 TTK/BUB1B/PTTG1/CCNB2/MAD2L1    5    "
      ]
     },
     "metadata": {},
     "output_type": "display_data"
    }
   ],
   "source": []
  },
  {
   "cell_type": "markdown",
   "id": "6c2c5e8d-ef62-4a24-a917-c60fa5a5ce5e",
   "metadata": {},
   "source": [
    "# fgsea"
   ]
  },
  {
   "cell_type": "code",
   "execution_count": 142,
   "id": "1ab11e6f-dbdd-4f31-9c6d-e557458aea17",
   "metadata": {},
   "outputs": [
    {
     "name": "stderr",
     "output_type": "stream",
     "text": [
      "Warning message in preparePathwaysAndStats(pathways, stats, minSize, maxSize, gseaParam, :\n",
      "“There are ties in the preranked stats (40.71% of the list).\n",
      "The order of those tied genes will be arbitrary, which may produce unexpected results.”\n",
      "Warning message in preparePathwaysAndStats(pathways, stats, minSize, maxSize, gseaParam, :\n",
      "“All values in the stats vector are greater than zero and scoreType is \"std\", maybe you should switch to scoreType = \"pos\".”\n",
      "Warning message in fgseaMultilevel(...):\n",
      "“There were 3 pathways for which P-values were not calculated properly due to unbalanced (positive and negative) gene-level statistic values. For such pathways pval, padj, NES, log2err are set to NA. You can try to increase the value of the argument nPermSimple (for example set it nPermSimple = 10000)”\n"
     ]
    }
   ],
   "source": [
    "rankedGene <- deC00$FDR\n",
    "names(rankedGene) <- rownames(deC00)\n",
    "rankedGene <- sort(rankedGene, decreasing = F)\n",
    "msigdbr_list = split(x = msigdbr_df$gene_symbol, f = msigdbr_df$gs_name)\n",
    "fgseaRes <- fgsea(pathways = msigdbr_list, rankedGene,  eps      = 0.0,\n",
    "                  minSize  = 15,\n",
    "                  maxSize  = 500)\n"
   ]
  },
  {
   "cell_type": "code",
   "execution_count": 143,
   "id": "5feab4b7-4d59-4388-a323-d606c9698ff3",
   "metadata": {},
   "outputs": [
    {
     "data": {
      "text/html": [
       "<table class=\"dataframe\">\n",
       "<caption>A data.table: 5 × 8</caption>\n",
       "<thead>\n",
       "\t<tr><th scope=col>pathway</th><th scope=col>pval</th><th scope=col>padj</th><th scope=col>log2err</th><th scope=col>ES</th><th scope=col>NES</th><th scope=col>size</th><th scope=col>leadingEdge</th></tr>\n",
       "\t<tr><th scope=col>&lt;chr&gt;</th><th scope=col>&lt;dbl&gt;</th><th scope=col>&lt;dbl&gt;</th><th scope=col>&lt;dbl&gt;</th><th scope=col>&lt;dbl&gt;</th><th scope=col>&lt;dbl&gt;</th><th scope=col>&lt;int&gt;</th><th scope=col>&lt;list&gt;</th></tr>\n",
       "</thead>\n",
       "<tbody>\n",
       "\t<tr><td>KEGG_WNT_SIGNALING_PATHWAY  </td><td>0.9850150</td><td>1</td><td>0.005627082</td><td>0.4961042</td><td>0.9210113</td><td>150</td><td>PRICKLE1, NFATC4  , WNT16   , PLCB2   , WNT8B   , WNT10B  , FOSL1   , VANGL2  , CER1    , CAMK2B  , CAMK2A  , WNT11   , NKD2    , WNT3A   , WNT6    , WNT10A  , WNT7A   , DKK2    , WNT8A   , WNT2    , DKK4    , PRKACG  , PPP3R2  , WNT1    , CHP2    , WNT9B   , FZD3    , LEF1    , DVL1    , PRKACA  , SFRP4   , WNT7B   , FZD1    , CTBP2   , CCND1   , SOX17   , SIAH1   , MAPK9   , CTNNB1  , CREBBP  , CHP1    , FZD8    , RHOA    , PPARD   , TBL1X   , SFRP1   , PRKCB   , WNT4    , PRKCG   , MAPK8   , FZD10   , TBL1Y   , PPP2R5E , PPP2R5B , MAPK10  , RUVBL1  , CSNK1A1L, FZD9    , RAC1    , CSNK2A2 </td></tr>\n",
       "\t<tr><td>PID_WNT_CANONICAL_PATHWAY   </td><td>0.4755245</td><td>1</td><td>0.047925897</td><td>0.5821124</td><td>0.9991102</td><td> 20</td><td>PIP5K1B, NKD2   , WNT3A  , DVL1   , CTNNB1 </td></tr>\n",
       "\t<tr><td>PID_WNT_NONCANONICAL_PATHWAY</td><td>0.9970030</td><td>1</td><td>0.002501325</td><td>0.4424538</td><td>0.7817545</td><td> 32</td><td>CAMK2A, DVL1  , CTHRC1, MAPK9 , RHOA  , MAPK8 , MAPK10, RAC1  , ARRB2 , FZD6  </td></tr>\n",
       "\t<tr><td>PID_WNT_SIGNALING_PATHWAY   </td><td>0.4815185</td><td>1</td><td>0.047353425</td><td>0.5701008</td><td>0.9997383</td><td> 28</td><td>RSPO1  , WNT3A  , WNT7A  , WNT2   , WNT1   , KREMEN2, CTHRC1 , WNT7B  , FZD1   , FZD8   , FZD10  , FZD9   </td></tr>\n",
       "\t<tr><td>WNT_SIGNALING               </td><td>0.4915085</td><td>1</td><td>0.046415496</td><td>0.5444844</td><td>0.9975693</td><td> 86</td><td>WNT16 , FOSL1 , WNT11 , WNT3A , WNT6  , WNT10A, WNT7A , WNT8A , WNT2  , FSHB  , FGF4  , WNT1  , PYGO1 , FOXN1 , FRZB  , FZD3  , B2M   , LEF1  , RPL13A, DVL1  , SFRP4 , ACTB  , WNT7B , FZD1  , GAPDH , CTBP2 , CCND1 , SOX17 , CTNNB1, TLE2  , RHOU  , FBXW4 , FZD8  </td></tr>\n",
       "</tbody>\n",
       "</table>\n"
      ],
      "text/latex": [
       "A data.table: 5 × 8\n",
       "\\begin{tabular}{llllllll}\n",
       " pathway & pval & padj & log2err & ES & NES & size & leadingEdge\\\\\n",
       " <chr> & <dbl> & <dbl> & <dbl> & <dbl> & <dbl> & <int> & <list>\\\\\n",
       "\\hline\n",
       "\t KEGG\\_WNT\\_SIGNALING\\_PATHWAY   & 0.9850150 & 1 & 0.005627082 & 0.4961042 & 0.9210113 & 150 & PRICKLE1, NFATC4  , WNT16   , PLCB2   , WNT8B   , WNT10B  , FOSL1   , VANGL2  , CER1    , CAMK2B  , CAMK2A  , WNT11   , NKD2    , WNT3A   , WNT6    , WNT10A  , WNT7A   , DKK2    , WNT8A   , WNT2    , DKK4    , PRKACG  , PPP3R2  , WNT1    , CHP2    , WNT9B   , FZD3    , LEF1    , DVL1    , PRKACA  , SFRP4   , WNT7B   , FZD1    , CTBP2   , CCND1   , SOX17   , SIAH1   , MAPK9   , CTNNB1  , CREBBP  , CHP1    , FZD8    , RHOA    , PPARD   , TBL1X   , SFRP1   , PRKCB   , WNT4    , PRKCG   , MAPK8   , FZD10   , TBL1Y   , PPP2R5E , PPP2R5B , MAPK10  , RUVBL1  , CSNK1A1L, FZD9    , RAC1    , CSNK2A2 \\\\\n",
       "\t PID\\_WNT\\_CANONICAL\\_PATHWAY    & 0.4755245 & 1 & 0.047925897 & 0.5821124 & 0.9991102 &  20 & PIP5K1B, NKD2   , WNT3A  , DVL1   , CTNNB1 \\\\\n",
       "\t PID\\_WNT\\_NONCANONICAL\\_PATHWAY & 0.9970030 & 1 & 0.002501325 & 0.4424538 & 0.7817545 &  32 & CAMK2A, DVL1  , CTHRC1, MAPK9 , RHOA  , MAPK8 , MAPK10, RAC1  , ARRB2 , FZD6  \\\\\n",
       "\t PID\\_WNT\\_SIGNALING\\_PATHWAY    & 0.4815185 & 1 & 0.047353425 & 0.5701008 & 0.9997383 &  28 & RSPO1  , WNT3A  , WNT7A  , WNT2   , WNT1   , KREMEN2, CTHRC1 , WNT7B  , FZD1   , FZD8   , FZD10  , FZD9   \\\\\n",
       "\t WNT\\_SIGNALING                & 0.4915085 & 1 & 0.046415496 & 0.5444844 & 0.9975693 &  86 & WNT16 , FOSL1 , WNT11 , WNT3A , WNT6  , WNT10A, WNT7A , WNT8A , WNT2  , FSHB  , FGF4  , WNT1  , PYGO1 , FOXN1 , FRZB  , FZD3  , B2M   , LEF1  , RPL13A, DVL1  , SFRP4 , ACTB  , WNT7B , FZD1  , GAPDH , CTBP2 , CCND1 , SOX17 , CTNNB1, TLE2  , RHOU  , FBXW4 , FZD8  \\\\\n",
       "\\end{tabular}\n"
      ],
      "text/markdown": [
       "\n",
       "A data.table: 5 × 8\n",
       "\n",
       "| pathway &lt;chr&gt; | pval &lt;dbl&gt; | padj &lt;dbl&gt; | log2err &lt;dbl&gt; | ES &lt;dbl&gt; | NES &lt;dbl&gt; | size &lt;int&gt; | leadingEdge &lt;list&gt; |\n",
       "|---|---|---|---|---|---|---|---|\n",
       "| KEGG_WNT_SIGNALING_PATHWAY   | 0.9850150 | 1 | 0.005627082 | 0.4961042 | 0.9210113 | 150 | PRICKLE1, NFATC4  , WNT16   , PLCB2   , WNT8B   , WNT10B  , FOSL1   , VANGL2  , CER1    , CAMK2B  , CAMK2A  , WNT11   , NKD2    , WNT3A   , WNT6    , WNT10A  , WNT7A   , DKK2    , WNT8A   , WNT2    , DKK4    , PRKACG  , PPP3R2  , WNT1    , CHP2    , WNT9B   , FZD3    , LEF1    , DVL1    , PRKACA  , SFRP4   , WNT7B   , FZD1    , CTBP2   , CCND1   , SOX17   , SIAH1   , MAPK9   , CTNNB1  , CREBBP  , CHP1    , FZD8    , RHOA    , PPARD   , TBL1X   , SFRP1   , PRKCB   , WNT4    , PRKCG   , MAPK8   , FZD10   , TBL1Y   , PPP2R5E , PPP2R5B , MAPK10  , RUVBL1  , CSNK1A1L, FZD9    , RAC1    , CSNK2A2  |\n",
       "| PID_WNT_CANONICAL_PATHWAY    | 0.4755245 | 1 | 0.047925897 | 0.5821124 | 0.9991102 |  20 | PIP5K1B, NKD2   , WNT3A  , DVL1   , CTNNB1  |\n",
       "| PID_WNT_NONCANONICAL_PATHWAY | 0.9970030 | 1 | 0.002501325 | 0.4424538 | 0.7817545 |  32 | CAMK2A, DVL1  , CTHRC1, MAPK9 , RHOA  , MAPK8 , MAPK10, RAC1  , ARRB2 , FZD6   |\n",
       "| PID_WNT_SIGNALING_PATHWAY    | 0.4815185 | 1 | 0.047353425 | 0.5701008 | 0.9997383 |  28 | RSPO1  , WNT3A  , WNT7A  , WNT2   , WNT1   , KREMEN2, CTHRC1 , WNT7B  , FZD1   , FZD8   , FZD10  , FZD9    |\n",
       "| WNT_SIGNALING                | 0.4915085 | 1 | 0.046415496 | 0.5444844 | 0.9975693 |  86 | WNT16 , FOSL1 , WNT11 , WNT3A , WNT6  , WNT10A, WNT7A , WNT8A , WNT2  , FSHB  , FGF4  , WNT1  , PYGO1 , FOXN1 , FRZB  , FZD3  , B2M   , LEF1  , RPL13A, DVL1  , SFRP4 , ACTB  , WNT7B , FZD1  , GAPDH , CTBP2 , CCND1 , SOX17 , CTNNB1, TLE2  , RHOU  , FBXW4 , FZD8   |\n",
       "\n"
      ],
      "text/plain": [
       "  pathway                      pval      padj log2err     ES        NES      \n",
       "1 KEGG_WNT_SIGNALING_PATHWAY   0.9850150 1    0.005627082 0.4961042 0.9210113\n",
       "2 PID_WNT_CANONICAL_PATHWAY    0.4755245 1    0.047925897 0.5821124 0.9991102\n",
       "3 PID_WNT_NONCANONICAL_PATHWAY 0.9970030 1    0.002501325 0.4424538 0.7817545\n",
       "4 PID_WNT_SIGNALING_PATHWAY    0.4815185 1    0.047353425 0.5701008 0.9997383\n",
       "5 WNT_SIGNALING                0.4915085 1    0.046415496 0.5444844 0.9975693\n",
       "  size\n",
       "1 150 \n",
       "2  20 \n",
       "3  32 \n",
       "4  28 \n",
       "5  86 \n",
       "  leadingEdge                                                                                                                                                                                                                                                                                                                                                                                                                                                                                                                                                                                                           \n",
       "1 PRICKLE1, NFATC4  , WNT16   , PLCB2   , WNT8B   , WNT10B  , FOSL1   , VANGL2  , CER1    , CAMK2B  , CAMK2A  , WNT11   , NKD2    , WNT3A   , WNT6    , WNT10A  , WNT7A   , DKK2    , WNT8A   , WNT2    , DKK4    , PRKACG  , PPP3R2  , WNT1    , CHP2    , WNT9B   , FZD3    , LEF1    , DVL1    , PRKACA  , SFRP4   , WNT7B   , FZD1    , CTBP2   , CCND1   , SOX17   , SIAH1   , MAPK9   , CTNNB1  , CREBBP  , CHP1    , FZD8    , RHOA    , PPARD   , TBL1X   , SFRP1   , PRKCB   , WNT4    , PRKCG   , MAPK8   , FZD10   , TBL1Y   , PPP2R5E , PPP2R5B , MAPK10  , RUVBL1  , CSNK1A1L, FZD9    , RAC1    , CSNK2A2 \n",
       "2 PIP5K1B, NKD2   , WNT3A  , DVL1   , CTNNB1                                                                                                                                                                                                                                                                                                                                                                                                                                                                                                                                                                            \n",
       "3 CAMK2A, DVL1  , CTHRC1, MAPK9 , RHOA  , MAPK8 , MAPK10, RAC1  , ARRB2 , FZD6                                                                                                                                                                                                                                                                                                                                                                                                                                                                                                                                          \n",
       "4 RSPO1  , WNT3A  , WNT7A  , WNT2   , WNT1   , KREMEN2, CTHRC1 , WNT7B  , FZD1   , FZD8   , FZD10  , FZD9                                                                                                                                                                                                                                                                                                                                                                                                                                                                                                               \n",
       "5 WNT16 , FOSL1 , WNT11 , WNT3A , WNT6  , WNT10A, WNT7A , WNT8A , WNT2  , FSHB  , FGF4  , WNT1  , PYGO1 , FOXN1 , FRZB  , FZD3  , B2M   , LEF1  , RPL13A, DVL1  , SFRP4 , ACTB  , WNT7B , FZD1  , GAPDH , CTBP2 , CCND1 , SOX17 , CTNNB1, TLE2  , RHOU  , FBXW4 , FZD8                                                                                                                                                                                                                                                                                                                                                  "
      ]
     },
     "metadata": {},
     "output_type": "display_data"
    }
   ],
   "source": [
    "fgseaRes[grepl('WNT', fgseaRes$pathway ),]"
   ]
  },
  {
   "cell_type": "code",
   "execution_count": 116,
   "id": "11c3df49-c432-4e75-8058-6a96569e26d1",
   "metadata": {},
   "outputs": [
    {
     "data": {
      "text/html": [
       "<table class=\"dataframe\">\n",
       "<caption>A data.table: 3 × 8</caption>\n",
       "<thead>\n",
       "\t<tr><th scope=col>pathway</th><th scope=col>pval</th><th scope=col>padj</th><th scope=col>log2err</th><th scope=col>ES</th><th scope=col>NES</th><th scope=col>size</th><th scope=col>leadingEdge</th></tr>\n",
       "\t<tr><th scope=col>&lt;chr&gt;</th><th scope=col>&lt;dbl&gt;</th><th scope=col>&lt;dbl&gt;</th><th scope=col>&lt;dbl&gt;</th><th scope=col>&lt;dbl&gt;</th><th scope=col>&lt;dbl&gt;</th><th scope=col>&lt;int&gt;</th><th scope=col>&lt;list&gt;</th></tr>\n",
       "</thead>\n",
       "<tbody>\n",
       "\t<tr><td>KEGG_ABC_TRANSPORTERS                       </td><td>0.0006789311</td><td>0.01666978</td><td>0.4772708</td><td>0.5131282</td><td>1.988943</td><td>21</td><td>ABCG5 , ABCB4 , ABCB7 , ABCB6 , ABCC2 , ABCB10, ABCA5 , ABCC6 , ABCG8 , ABCC4 , ABCA10, ABCG1 , ABCB5 , ABCA9 , ABCD1 , ABCB11, ABCA6 </td></tr>\n",
       "\t<tr><td>KEGG_GLYCINE_SERINE_AND_THREONINE_METABOLISM</td><td>0.0010102900</td><td>0.01666978</td><td>0.4550599</td><td>0.5293008</td><td>1.989956</td><td>19</td><td>DAO  , GNMT , SARDH, GLDC , AMT  , PIPOX, DMGDH, BHMT </td></tr>\n",
       "\t<tr><td>KEGG_NEUROACTIVE_LIGAND_RECEPTOR_INTERACTION</td><td>0.0019421549</td><td>0.02746762</td><td>0.4550599</td><td>0.4202726</td><td>1.843221</td><td>35</td><td>ADRA1A , GRIK2  , ADRB2  , LTB4R2 , THRB   , S1PR1  , AGTR1  , CHRNE  , ADORA2A, SSTR1  , GHR    , LTB4R  , P2RY4  , S1PR2  , AVPR1A , GRIN2A , PRLR   , GPR50  , PLG    , P2RX7  , GABRB3 , PRSS3  </td></tr>\n",
       "</tbody>\n",
       "</table>\n"
      ],
      "text/latex": [
       "A data.table: 3 × 8\n",
       "\\begin{tabular}{llllllll}\n",
       " pathway & pval & padj & log2err & ES & NES & size & leadingEdge\\\\\n",
       " <chr> & <dbl> & <dbl> & <dbl> & <dbl> & <dbl> & <int> & <list>\\\\\n",
       "\\hline\n",
       "\t KEGG\\_ABC\\_TRANSPORTERS                        & 0.0006789311 & 0.01666978 & 0.4772708 & 0.5131282 & 1.988943 & 21 & ABCG5 , ABCB4 , ABCB7 , ABCB6 , ABCC2 , ABCB10, ABCA5 , ABCC6 , ABCG8 , ABCC4 , ABCA10, ABCG1 , ABCB5 , ABCA9 , ABCD1 , ABCB11, ABCA6 \\\\\n",
       "\t KEGG\\_GLYCINE\\_SERINE\\_AND\\_THREONINE\\_METABOLISM & 0.0010102900 & 0.01666978 & 0.4550599 & 0.5293008 & 1.989956 & 19 & DAO  , GNMT , SARDH, GLDC , AMT  , PIPOX, DMGDH, BHMT \\\\\n",
       "\t KEGG\\_NEUROACTIVE\\_LIGAND\\_RECEPTOR\\_INTERACTION & 0.0019421549 & 0.02746762 & 0.4550599 & 0.4202726 & 1.843221 & 35 & ADRA1A , GRIK2  , ADRB2  , LTB4R2 , THRB   , S1PR1  , AGTR1  , CHRNE  , ADORA2A, SSTR1  , GHR    , LTB4R  , P2RY4  , S1PR2  , AVPR1A , GRIN2A , PRLR   , GPR50  , PLG    , P2RX7  , GABRB3 , PRSS3  \\\\\n",
       "\\end{tabular}\n"
      ],
      "text/markdown": [
       "\n",
       "A data.table: 3 × 8\n",
       "\n",
       "| pathway &lt;chr&gt; | pval &lt;dbl&gt; | padj &lt;dbl&gt; | log2err &lt;dbl&gt; | ES &lt;dbl&gt; | NES &lt;dbl&gt; | size &lt;int&gt; | leadingEdge &lt;list&gt; |\n",
       "|---|---|---|---|---|---|---|---|\n",
       "| KEGG_ABC_TRANSPORTERS                        | 0.0006789311 | 0.01666978 | 0.4772708 | 0.5131282 | 1.988943 | 21 | ABCG5 , ABCB4 , ABCB7 , ABCB6 , ABCC2 , ABCB10, ABCA5 , ABCC6 , ABCG8 , ABCC4 , ABCA10, ABCG1 , ABCB5 , ABCA9 , ABCD1 , ABCB11, ABCA6  |\n",
       "| KEGG_GLYCINE_SERINE_AND_THREONINE_METABOLISM | 0.0010102900 | 0.01666978 | 0.4550599 | 0.5293008 | 1.989956 | 19 | DAO  , GNMT , SARDH, GLDC , AMT  , PIPOX, DMGDH, BHMT  |\n",
       "| KEGG_NEUROACTIVE_LIGAND_RECEPTOR_INTERACTION | 0.0019421549 | 0.02746762 | 0.4550599 | 0.4202726 | 1.843221 | 35 | ADRA1A , GRIK2  , ADRB2  , LTB4R2 , THRB   , S1PR1  , AGTR1  , CHRNE  , ADORA2A, SSTR1  , GHR    , LTB4R  , P2RY4  , S1PR2  , AVPR1A , GRIN2A , PRLR   , GPR50  , PLG    , P2RX7  , GABRB3 , PRSS3   |\n",
       "\n"
      ],
      "text/plain": [
       "  pathway                                      pval         padj      \n",
       "1 KEGG_ABC_TRANSPORTERS                        0.0006789311 0.01666978\n",
       "2 KEGG_GLYCINE_SERINE_AND_THREONINE_METABOLISM 0.0010102900 0.01666978\n",
       "3 KEGG_NEUROACTIVE_LIGAND_RECEPTOR_INTERACTION 0.0019421549 0.02746762\n",
       "  log2err   ES        NES      size\n",
       "1 0.4772708 0.5131282 1.988943 21  \n",
       "2 0.4550599 0.5293008 1.989956 19  \n",
       "3 0.4550599 0.4202726 1.843221 35  \n",
       "  leadingEdge                                                                                                                                                                                         \n",
       "1 ABCG5 , ABCB4 , ABCB7 , ABCB6 , ABCC2 , ABCB10, ABCA5 , ABCC6 , ABCG8 , ABCC4 , ABCA10, ABCG1 , ABCB5 , ABCA9 , ABCD1 , ABCB11, ABCA6                                                               \n",
       "2 DAO  , GNMT , SARDH, GLDC , AMT  , PIPOX, DMGDH, BHMT                                                                                                                                               \n",
       "3 ADRA1A , GRIK2  , ADRB2  , LTB4R2 , THRB   , S1PR1  , AGTR1  , CHRNE  , ADORA2A, SSTR1  , GHR    , LTB4R  , P2RY4  , S1PR2  , AVPR1A , GRIN2A , PRLR   , GPR50  , PLG    , P2RX7  , GABRB3 , PRSS3  "
      ]
     },
     "metadata": {},
     "output_type": "display_data"
    }
   ],
   "source": [
    "fgseaRes[fgseaRes$padj < 0.05 & fgseaRes$ES > 0,]"
   ]
  },
  {
   "cell_type": "code",
   "execution_count": 113,
   "id": "685afbf4-8ce0-4299-802b-070d6ceb29e7",
   "metadata": {},
   "outputs": [],
   "source": [
    "rankedGene <- deC01$logFC\n",
    "names(rankedGene) <- deC01$gene\n",
    "rankedGene <- sort(rankedGene, decreasing = T)\n",
    "msigdbr_list = split(x = msigdbr_df$gene_symbol, f = msigdbr_df$gs_name)\n",
    "fgseaRes <- fgsea(pathways = msigdbr_list, rankedGene,  eps      = 0.0,\n",
    "                  minSize  = 15,\n",
    "                  maxSize  = 500)\n"
   ]
  },
  {
   "cell_type": "code",
   "execution_count": 114,
   "id": "ba1a8d65-d7d6-4222-992c-03e874fe3b3d",
   "metadata": {},
   "outputs": [
    {
     "data": {
      "text/html": [
       "<table class=\"dataframe\">\n",
       "<caption>A data.table: 26 × 8</caption>\n",
       "<thead>\n",
       "\t<tr><th scope=col>pathway</th><th scope=col>pval</th><th scope=col>padj</th><th scope=col>log2err</th><th scope=col>ES</th><th scope=col>NES</th><th scope=col>size</th><th scope=col>leadingEdge</th></tr>\n",
       "\t<tr><th scope=col>&lt;chr&gt;</th><th scope=col>&lt;dbl&gt;</th><th scope=col>&lt;dbl&gt;</th><th scope=col>&lt;dbl&gt;</th><th scope=col>&lt;dbl&gt;</th><th scope=col>&lt;dbl&gt;</th><th scope=col>&lt;int&gt;</th><th scope=col>&lt;list&gt;</th></tr>\n",
       "</thead>\n",
       "<tbody>\n",
       "\t<tr><td>KEGG_ALLOGRAFT_REJECTION                                 </td><td>2.945930e-06</td><td>2.520407e-05</td><td>0.6272567</td><td>0.7127011</td><td>2.486311</td><td> 15</td><td>HLA-DRB5, HLA-DMB , HLA-DQB1, HLA-DPA1, HLA-DRB1, HLA-DPB1, HLA-DMA , HLA-DQA1, HLA-DRA , HLA-F   , HLA-G   </td></tr>\n",
       "\t<tr><td>KEGG_ANTIGEN_PROCESSING_AND_PRESENTATION                 </td><td>4.555633e-07</td><td>5.011196e-06</td><td>0.6749629</td><td>0.6292622</td><td>2.608252</td><td> 25</td><td>HLA-DRB5, HLA-DMB , HLA-DQB1, HLA-DPA1, HLA-DRB1, HLA-DPB1, HLA-DMA , HLA-DQA1, CIITA   , HLA-DRA , TAP2    , HLA-F   , HSPA2   , HLA-G   </td></tr>\n",
       "\t<tr><td>KEGG_ARRHYTHMOGENIC_RIGHT_VENTRICULAR_CARDIOMYOPATHY_ARVC</td><td>3.499618e-03</td><td>7.485294e-03</td><td>0.4317077</td><td>0.5473406</td><td>1.909439</td><td> 15</td><td>ITGB8   , ITGA3   , ITGB6   , CACNA2D3, ITGB4   , CACNB4  , ITGA2   , SGCB    , ITGAV   </td></tr>\n",
       "\t<tr><td>KEGG_AXON_GUIDANCE                                       </td><td>1.436630e-02</td><td>2.514102e-02</td><td>0.3807304</td><td>0.3776793</td><td>1.646455</td><td> 31</td><td>NTN4  , SEMA3E, DCC   , EFNA5 , PAK3  , EPHB6 , SRGAP1, ROBO3 , SEMA4F, ABLIM2, EFNA4 , SLIT3 , GSK3B , SEMA5B, SEMA3B, NFATC4, EPHA2 , RGS3  , SLIT2 , EFNB1 , RND1  , EPHB1 , SEMA5A, PPP3R1</td></tr>\n",
       "\t<tr><td>KEGG_CELL_ADHESION_MOLECULES_CAMS                        </td><td>1.835740e-09</td><td>7.067598e-08</td><td>0.7881868</td><td>0.6642877</td><td>2.826335</td><td> 29</td><td>HLA-DRB5, HLA-DMB , HLA-DQB1, HLA-DPA1, CD274   , SDC3    , VCAN    , CLDN2   , HLA-DRB1, NEO1    , CLDN10  , ITGB8   , ITGAM   , HLA-DPB1, HLA-DMA , HLA-DQA1, HLA-DRA , HLA-F   , CADM1   , HLA-G   </td></tr>\n",
       "\t<tr><td>KEGG_CYTOKINE_CYTOKINE_RECEPTOR_INTERACTION              </td><td>3.954887e-04</td><td>1.171255e-03</td><td>0.4984931</td><td>0.4341610</td><td>2.096808</td><td> 47</td><td>TGFB2    , CCL28    , PDGFRA   , CXCL11   , LIF      , IL15     , CXCL2    , CCL2     , IL15RA   , CSF1     , TNFSF15  , TNFRSF11B, PLEKHO2  , CXCL3    , CXCL1    , CXCL5    , FLT3LG   , PF4V1    , IL2RG    , TNFSF13  , EDA2R    , LTB      , IL7      , ACVR1    , CXCL9    </td></tr>\n",
       "\t<tr><td>KEGG_DILATED_CARDIOMYOPATHY                              </td><td>1.304015e-02</td><td>2.335097e-02</td><td>0.3807304</td><td>0.4178665</td><td>1.732030</td><td> 25</td><td>TGFB2   , ADCY5   , ITGB8   , ITGA3   , ITGB6   , TTN     , CACNA2D3, ITGB4   , CACNB4  , ITGA2   , SGCB    , ITGAV   , TNNT2   </td></tr>\n",
       "\t<tr><td>KEGG_ECM_RECEPTOR_INTERACTION                            </td><td>1.837474e-02</td><td>2.947614e-02</td><td>0.3524879</td><td>0.4585338</td><td>1.730214</td><td> 18</td><td>SDC3 , LAMC2, ITGB8, ITGA3, CD47 , ITGB6, ITGB4, SPP1 , ITGA2, TNC  , ITGAV</td></tr>\n",
       "\t<tr><td>KEGG_ENDOCYTOSIS                                         </td><td>2.384816e-02</td><td>3.747569e-02</td><td>0.3524879</td><td>0.3943838</td><td>1.601268</td><td> 24</td><td>DNM1     , PDGFRA   , RAB11FIP5, HLA-F    , HSPA2    , IL2RG    , HLA-G    , ARAP2    , EHD1     , RAB11FIP2, CHMP4C   , ASAP2    , SMURF2   </td></tr>\n",
       "\t<tr><td>KEGG_FOCAL_ADHESION                                      </td><td>2.704562e-03</td><td>6.432954e-03</td><td>0.4317077</td><td>0.4303575</td><td>1.914328</td><td> 33</td><td>RASGRF1, PDGFRA , LAMC2  , ITGB8  , ITGA3  , PAK3   , ITGB6  , PIK3R3 , FLNA   , PDGFD  , ITGB4  , SPP1   , ITGA2  , PIK3CD , GSK3B  , TNC    , ITGAV  </td></tr>\n",
       "\t<tr><td>KEGG_GRAFT_VERSUS_HOST_DISEASE                           </td><td>2.945930e-06</td><td>2.520407e-05</td><td>0.6272567</td><td>0.7127011</td><td>2.486311</td><td> 15</td><td>HLA-DRB5, HLA-DMB , HLA-DQB1, HLA-DPA1, HLA-DRB1, HLA-DPB1, HLA-DMA , HLA-DQA1, HLA-DRA , HLA-F   , HLA-G   </td></tr>\n",
       "\t<tr><td>KEGG_HEMATOPOIETIC_CELL_LINEAGE                          </td><td>2.826110e-03</td><td>6.432954e-03</td><td>0.4317077</td><td>0.5378962</td><td>1.928845</td><td> 16</td><td>HLA-DRB5, HLA-DRB1, CSF1    , ITGAM   , ITGA3   , FLT3LG  , HLA-DRA , ITGA2   , IL7     </td></tr>\n",
       "\t<tr><td>KEGG_HYPERTROPHIC_CARDIOMYOPATHY_HCM                     </td><td>4.135509e-03</td><td>8.379847e-03</td><td>0.4070179</td><td>0.4814919</td><td>1.879456</td><td> 20</td><td>TGFB2   , ITGB8   , ITGA3   , ITGB6   , TTN     , CACNA2D3, ITGB4   , CACNB4  , ITGA2   , SGCB    , ITGAV   , TNNT2   </td></tr>\n",
       "\t<tr><td>KEGG_INTESTINAL_IMMUNE_NETWORK_FOR_IGA_PRODUCTION        </td><td>4.896414e-08</td><td>9.425596e-07</td><td>0.7195128</td><td>0.7512082</td><td>2.762240</td><td> 17</td><td>HLA-DRB5, HLA-DMB , HLA-DQB1, HLA-DPA1, CCL28   , IL15    , HLA-DRB1, IL15RA  , HLA-DPB1, HLA-DMA , HLA-DQA1, MAP3K14 , HLA-DRA , PIGR    , TNFSF13 </td></tr>\n",
       "\t<tr><td>KEGG_LEISHMANIA_INFECTION                                </td><td>2.595998e-07</td><td>3.331531e-06</td><td>0.6749629</td><td>0.6828321</td><td>2.665368</td><td> 20</td><td>HLA-DRB5, TGFB2   , HLA-DMB , HLA-DQB1, HLA-DPA1, HLA-DRB1, ITGAM   , HLA-DPB1, HLA-DMA , HLA-DQA1, NCF2    , HLA-DRA </td></tr>\n",
       "\t<tr><td>KEGG_MAPK_SIGNALING_PATHWAY                              </td><td>1.448333e-03</td><td>3.717389e-03</td><td>0.4550599</td><td>0.4469407</td><td>1.968020</td><td> 32</td><td>RASGRF1 , TGFB2   , PDGFRA  , FGFR1   , DUSP5   , NR4A1   , DUSP10  , MAP3K14 , RASGRF2 , FLNA    , CACNA2D3, MAP4K3  , HSPA2   , RPS6KA5 , CACNB4  , MAP3K8  , GADD45B , NFATC4  , NFKB2   , FGF12   , PRKACB  </td></tr>\n",
       "\t<tr><td>KEGG_NOD_LIKE_RECEPTOR_SIGNALING_PATHWAY                 </td><td>3.812313e-04</td><td>1.171255e-03</td><td>0.4984931</td><td>0.6004357</td><td>2.153106</td><td> 16</td><td>CXCL2 , CCL2  , CASP1 , PYCARD, CASP8 , NOD1  , CXCL1 </td></tr>\n",
       "\t<tr><td>KEGG_PATHWAYS_IN_CANCER                                  </td><td>9.957554e-04</td><td>2.738327e-03</td><td>0.4550599</td><td>0.3722802</td><td>1.901190</td><td> 60</td><td>TGFB2 , ARNT2 , FZD1  , PDGFRA, FGFR1 , DCC   , CDKN2A, CDKN2B, MMP1  , LAMC2 , AXIN2 , CASP8 , TGFA  , ITGA3 , FLT3LG, PTCH1 , PIK3R3, TRAF5 , FZD3  </td></tr>\n",
       "\t<tr><td>KEGG_SMALL_CELL_LUNG_CANCER                              </td><td>6.437461e-03</td><td>1.239211e-02</td><td>0.4070179</td><td>0.5143011</td><td>1.844235</td><td> 16</td><td>CDKN2B, LAMC2 , ITGA3 , PIK3R3, TRAF5 , CDK2  , ITGA2 , PIK3CD, TRAF1 , ITGAV </td></tr>\n",
       "\t<tr><td>KEGG_SYSTEMIC_LUPUS_ERYTHEMATOSUS                        </td><td>3.878613e-04</td><td>1.171255e-03</td><td>0.4984931</td><td>0.5974623</td><td>2.196907</td><td> 17</td><td>HLA-DRB5, HLA-DMB , HLA-DQB1, HLA-DPA1, HLA-DRB1, HLA-DPB1, HLA-DMA , HLA-DQA1, HLA-DRA </td></tr>\n",
       "\t<tr><td>KEGG_TYPE_I_DIABETES_MELLITUS                            </td><td>2.133064e-05</td><td>8.644521e-05</td><td>0.5756103</td><td>0.6636242</td><td>2.440188</td><td> 17</td><td>HLA-DRB5, HLA-DMB , HLA-DQB1, HLA-DPA1, HLA-DRB1, HLA-DPB1, HLA-DMA , HLA-DQA1, HLA-DRA , HLA-F   , HLA-G   </td></tr>\n",
       "\t<tr><td>KEGG_VIRAL_MYOCARDITIS                                   </td><td>1.687844e-05</td><td>7.220220e-05</td><td>0.5756103</td><td>0.6029414</td><td>2.415692</td><td> 22</td><td>HLA-DRB5, HLA-DMB , HLA-DQB1, HLA-DPA1, HLA-DRB1, CASP8   , HLA-DPB1, HLA-DMA , HLA-DQA1, HLA-DRA , HLA-F   , HLA-G   </td></tr>\n",
       "\t<tr><td>NABA_ECM_AFFILIATED                                      </td><td>1.633215e-03</td><td>4.056696e-03</td><td>0.4550599</td><td>0.4808586</td><td>2.015964</td><td> 26</td><td>MUC13  , ANXA8L1, SEMA3E , ANXA8  , ANXA3  , SDC3   , COLEC12, LGALS9 , GPC1   , SEMA4F , PLXDC2 </td></tr>\n",
       "\t<tr><td>NABA_MATRISOME                                           </td><td>1.592807e-02</td><td>2.666221e-02</td><td>0.3524879</td><td>0.2258943</td><td>1.466145</td><td>195</td><td>MUC13   , MMP7    , ANXA8L1 , TGFB2   , NTN4    , SEMA3E  , CCL28   , ANXA8   , ANXA3   , CXCL11  , LIF     , IL15    , CXCL2   , SDC3    , CCL2    , VCAN    , MMP10   , COLEC12 , CSF1    , MMP1    , LAMC2   , EREG    , TNFSF15 , AREG    , TGFA    , SFRP5   , CXCL3   , LGALS9  , GPC1    , CXCL1   , ADAMTSL5, EFEMP1  , HAPLN3  , CXCL5   , PIK3IP1 , FGFBP2  , FLT3LG  , S100A3  , TIMP4   , SEMA4F  , TIMP2   , NRG3    , ADAMTS10, PLXDC2  , PF4V1   , THSD4   , PDGFD   , CTSC    , SULF1   </td></tr>\n",
       "\t<tr><td>NABA_MATRISOME_ASSOCIATED                                </td><td>3.311233e-03</td><td>7.284713e-03</td><td>0.4317077</td><td>0.2658942</td><td>1.661834</td><td>150</td><td>MUC13   , MMP7    , ANXA8L1 , TGFB2   , SEMA3E  , CCL28   , ANXA8   , ANXA3   , CXCL11  , LIF     , IL15    , CXCL2   , SDC3    , CCL2    , MMP10   , COLEC12 , CSF1    , MMP1    , EREG    , TNFSF15 , AREG    , TGFA    , SFRP5   , CXCL3   , LGALS9  , GPC1    , CXCL1   , ADAMTSL5, CXCL5   , PIK3IP1 , FGFBP2  , FLT3LG  , S100A3  , TIMP4   , SEMA4F  , TIMP2   , NRG3    , ADAMTS10, PLXDC2  , PF4V1   , PDGFD   , CTSC    , SULF1   </td></tr>\n",
       "\t<tr><td>NABA_SECRETED_FACTORS                                    </td><td>7.222791e-03</td><td>1.356475e-02</td><td>0.4070179</td><td>0.3169618</td><td>1.704811</td><td> 74</td><td>TGFB2  , CCL28  , CXCL11 , LIF    , IL15   , CXCL2  , CCL2   , CSF1   , EREG   , TNFSF15, AREG   , TGFA   , SFRP5  , CXCL3  , CXCL1  , CXCL5  , PIK3IP1, FGFBP2 , FLT3LG , S100A3 , NRG3   , PF4V1  , PDGFD  , FSTL3  , LEFTY1 , S100A6 , TNFSF13, S100A2 </td></tr>\n",
       "</tbody>\n",
       "</table>\n"
      ],
      "text/latex": [
       "A data.table: 26 × 8\n",
       "\\begin{tabular}{llllllll}\n",
       " pathway & pval & padj & log2err & ES & NES & size & leadingEdge\\\\\n",
       " <chr> & <dbl> & <dbl> & <dbl> & <dbl> & <dbl> & <int> & <list>\\\\\n",
       "\\hline\n",
       "\t KEGG\\_ALLOGRAFT\\_REJECTION                                  & 2.945930e-06 & 2.520407e-05 & 0.6272567 & 0.7127011 & 2.486311 &  15 & HLA-DRB5, HLA-DMB , HLA-DQB1, HLA-DPA1, HLA-DRB1, HLA-DPB1, HLA-DMA , HLA-DQA1, HLA-DRA , HLA-F   , HLA-G   \\\\\n",
       "\t KEGG\\_ANTIGEN\\_PROCESSING\\_AND\\_PRESENTATION                  & 4.555633e-07 & 5.011196e-06 & 0.6749629 & 0.6292622 & 2.608252 &  25 & HLA-DRB5, HLA-DMB , HLA-DQB1, HLA-DPA1, HLA-DRB1, HLA-DPB1, HLA-DMA , HLA-DQA1, CIITA   , HLA-DRA , TAP2    , HLA-F   , HSPA2   , HLA-G   \\\\\n",
       "\t KEGG\\_ARRHYTHMOGENIC\\_RIGHT\\_VENTRICULAR\\_CARDIOMYOPATHY\\_ARVC & 3.499618e-03 & 7.485294e-03 & 0.4317077 & 0.5473406 & 1.909439 &  15 & ITGB8   , ITGA3   , ITGB6   , CACNA2D3, ITGB4   , CACNB4  , ITGA2   , SGCB    , ITGAV   \\\\\n",
       "\t KEGG\\_AXON\\_GUIDANCE                                        & 1.436630e-02 & 2.514102e-02 & 0.3807304 & 0.3776793 & 1.646455 &  31 & NTN4  , SEMA3E, DCC   , EFNA5 , PAK3  , EPHB6 , SRGAP1, ROBO3 , SEMA4F, ABLIM2, EFNA4 , SLIT3 , GSK3B , SEMA5B, SEMA3B, NFATC4, EPHA2 , RGS3  , SLIT2 , EFNB1 , RND1  , EPHB1 , SEMA5A, PPP3R1\\\\\n",
       "\t KEGG\\_CELL\\_ADHESION\\_MOLECULES\\_CAMS                         & 1.835740e-09 & 7.067598e-08 & 0.7881868 & 0.6642877 & 2.826335 &  29 & HLA-DRB5, HLA-DMB , HLA-DQB1, HLA-DPA1, CD274   , SDC3    , VCAN    , CLDN2   , HLA-DRB1, NEO1    , CLDN10  , ITGB8   , ITGAM   , HLA-DPB1, HLA-DMA , HLA-DQA1, HLA-DRA , HLA-F   , CADM1   , HLA-G   \\\\\n",
       "\t KEGG\\_CYTOKINE\\_CYTOKINE\\_RECEPTOR\\_INTERACTION               & 3.954887e-04 & 1.171255e-03 & 0.4984931 & 0.4341610 & 2.096808 &  47 & TGFB2    , CCL28    , PDGFRA   , CXCL11   , LIF      , IL15     , CXCL2    , CCL2     , IL15RA   , CSF1     , TNFSF15  , TNFRSF11B, PLEKHO2  , CXCL3    , CXCL1    , CXCL5    , FLT3LG   , PF4V1    , IL2RG    , TNFSF13  , EDA2R    , LTB      , IL7      , ACVR1    , CXCL9    \\\\\n",
       "\t KEGG\\_DILATED\\_CARDIOMYOPATHY                               & 1.304015e-02 & 2.335097e-02 & 0.3807304 & 0.4178665 & 1.732030 &  25 & TGFB2   , ADCY5   , ITGB8   , ITGA3   , ITGB6   , TTN     , CACNA2D3, ITGB4   , CACNB4  , ITGA2   , SGCB    , ITGAV   , TNNT2   \\\\\n",
       "\t KEGG\\_ECM\\_RECEPTOR\\_INTERACTION                             & 1.837474e-02 & 2.947614e-02 & 0.3524879 & 0.4585338 & 1.730214 &  18 & SDC3 , LAMC2, ITGB8, ITGA3, CD47 , ITGB6, ITGB4, SPP1 , ITGA2, TNC  , ITGAV\\\\\n",
       "\t KEGG\\_ENDOCYTOSIS                                          & 2.384816e-02 & 3.747569e-02 & 0.3524879 & 0.3943838 & 1.601268 &  24 & DNM1     , PDGFRA   , RAB11FIP5, HLA-F    , HSPA2    , IL2RG    , HLA-G    , ARAP2    , EHD1     , RAB11FIP2, CHMP4C   , ASAP2    , SMURF2   \\\\\n",
       "\t KEGG\\_FOCAL\\_ADHESION                                       & 2.704562e-03 & 6.432954e-03 & 0.4317077 & 0.4303575 & 1.914328 &  33 & RASGRF1, PDGFRA , LAMC2  , ITGB8  , ITGA3  , PAK3   , ITGB6  , PIK3R3 , FLNA   , PDGFD  , ITGB4  , SPP1   , ITGA2  , PIK3CD , GSK3B  , TNC    , ITGAV  \\\\\n",
       "\t KEGG\\_GRAFT\\_VERSUS\\_HOST\\_DISEASE                            & 2.945930e-06 & 2.520407e-05 & 0.6272567 & 0.7127011 & 2.486311 &  15 & HLA-DRB5, HLA-DMB , HLA-DQB1, HLA-DPA1, HLA-DRB1, HLA-DPB1, HLA-DMA , HLA-DQA1, HLA-DRA , HLA-F   , HLA-G   \\\\\n",
       "\t KEGG\\_HEMATOPOIETIC\\_CELL\\_LINEAGE                           & 2.826110e-03 & 6.432954e-03 & 0.4317077 & 0.5378962 & 1.928845 &  16 & HLA-DRB5, HLA-DRB1, CSF1    , ITGAM   , ITGA3   , FLT3LG  , HLA-DRA , ITGA2   , IL7     \\\\\n",
       "\t KEGG\\_HYPERTROPHIC\\_CARDIOMYOPATHY\\_HCM                      & 4.135509e-03 & 8.379847e-03 & 0.4070179 & 0.4814919 & 1.879456 &  20 & TGFB2   , ITGB8   , ITGA3   , ITGB6   , TTN     , CACNA2D3, ITGB4   , CACNB4  , ITGA2   , SGCB    , ITGAV   , TNNT2   \\\\\n",
       "\t KEGG\\_INTESTINAL\\_IMMUNE\\_NETWORK\\_FOR\\_IGA\\_PRODUCTION         & 4.896414e-08 & 9.425596e-07 & 0.7195128 & 0.7512082 & 2.762240 &  17 & HLA-DRB5, HLA-DMB , HLA-DQB1, HLA-DPA1, CCL28   , IL15    , HLA-DRB1, IL15RA  , HLA-DPB1, HLA-DMA , HLA-DQA1, MAP3K14 , HLA-DRA , PIGR    , TNFSF13 \\\\\n",
       "\t KEGG\\_LEISHMANIA\\_INFECTION                                 & 2.595998e-07 & 3.331531e-06 & 0.6749629 & 0.6828321 & 2.665368 &  20 & HLA-DRB5, TGFB2   , HLA-DMB , HLA-DQB1, HLA-DPA1, HLA-DRB1, ITGAM   , HLA-DPB1, HLA-DMA , HLA-DQA1, NCF2    , HLA-DRA \\\\\n",
       "\t KEGG\\_MAPK\\_SIGNALING\\_PATHWAY                               & 1.448333e-03 & 3.717389e-03 & 0.4550599 & 0.4469407 & 1.968020 &  32 & RASGRF1 , TGFB2   , PDGFRA  , FGFR1   , DUSP5   , NR4A1   , DUSP10  , MAP3K14 , RASGRF2 , FLNA    , CACNA2D3, MAP4K3  , HSPA2   , RPS6KA5 , CACNB4  , MAP3K8  , GADD45B , NFATC4  , NFKB2   , FGF12   , PRKACB  \\\\\n",
       "\t KEGG\\_NOD\\_LIKE\\_RECEPTOR\\_SIGNALING\\_PATHWAY                  & 3.812313e-04 & 1.171255e-03 & 0.4984931 & 0.6004357 & 2.153106 &  16 & CXCL2 , CCL2  , CASP1 , PYCARD, CASP8 , NOD1  , CXCL1 \\\\\n",
       "\t KEGG\\_PATHWAYS\\_IN\\_CANCER                                   & 9.957554e-04 & 2.738327e-03 & 0.4550599 & 0.3722802 & 1.901190 &  60 & TGFB2 , ARNT2 , FZD1  , PDGFRA, FGFR1 , DCC   , CDKN2A, CDKN2B, MMP1  , LAMC2 , AXIN2 , CASP8 , TGFA  , ITGA3 , FLT3LG, PTCH1 , PIK3R3, TRAF5 , FZD3  \\\\\n",
       "\t KEGG\\_SMALL\\_CELL\\_LUNG\\_CANCER                               & 6.437461e-03 & 1.239211e-02 & 0.4070179 & 0.5143011 & 1.844235 &  16 & CDKN2B, LAMC2 , ITGA3 , PIK3R3, TRAF5 , CDK2  , ITGA2 , PIK3CD, TRAF1 , ITGAV \\\\\n",
       "\t KEGG\\_SYSTEMIC\\_LUPUS\\_ERYTHEMATOSUS                         & 3.878613e-04 & 1.171255e-03 & 0.4984931 & 0.5974623 & 2.196907 &  17 & HLA-DRB5, HLA-DMB , HLA-DQB1, HLA-DPA1, HLA-DRB1, HLA-DPB1, HLA-DMA , HLA-DQA1, HLA-DRA \\\\\n",
       "\t KEGG\\_TYPE\\_I\\_DIABETES\\_MELLITUS                             & 2.133064e-05 & 8.644521e-05 & 0.5756103 & 0.6636242 & 2.440188 &  17 & HLA-DRB5, HLA-DMB , HLA-DQB1, HLA-DPA1, HLA-DRB1, HLA-DPB1, HLA-DMA , HLA-DQA1, HLA-DRA , HLA-F   , HLA-G   \\\\\n",
       "\t KEGG\\_VIRAL\\_MYOCARDITIS                                    & 1.687844e-05 & 7.220220e-05 & 0.5756103 & 0.6029414 & 2.415692 &  22 & HLA-DRB5, HLA-DMB , HLA-DQB1, HLA-DPA1, HLA-DRB1, CASP8   , HLA-DPB1, HLA-DMA , HLA-DQA1, HLA-DRA , HLA-F   , HLA-G   \\\\\n",
       "\t NABA\\_ECM\\_AFFILIATED                                       & 1.633215e-03 & 4.056696e-03 & 0.4550599 & 0.4808586 & 2.015964 &  26 & MUC13  , ANXA8L1, SEMA3E , ANXA8  , ANXA3  , SDC3   , COLEC12, LGALS9 , GPC1   , SEMA4F , PLXDC2 \\\\\n",
       "\t NABA\\_MATRISOME                                            & 1.592807e-02 & 2.666221e-02 & 0.3524879 & 0.2258943 & 1.466145 & 195 & MUC13   , MMP7    , ANXA8L1 , TGFB2   , NTN4    , SEMA3E  , CCL28   , ANXA8   , ANXA3   , CXCL11  , LIF     , IL15    , CXCL2   , SDC3    , CCL2    , VCAN    , MMP10   , COLEC12 , CSF1    , MMP1    , LAMC2   , EREG    , TNFSF15 , AREG    , TGFA    , SFRP5   , CXCL3   , LGALS9  , GPC1    , CXCL1   , ADAMTSL5, EFEMP1  , HAPLN3  , CXCL5   , PIK3IP1 , FGFBP2  , FLT3LG  , S100A3  , TIMP4   , SEMA4F  , TIMP2   , NRG3    , ADAMTS10, PLXDC2  , PF4V1   , THSD4   , PDGFD   , CTSC    , SULF1   \\\\\n",
       "\t NABA\\_MATRISOME\\_ASSOCIATED                                 & 3.311233e-03 & 7.284713e-03 & 0.4317077 & 0.2658942 & 1.661834 & 150 & MUC13   , MMP7    , ANXA8L1 , TGFB2   , SEMA3E  , CCL28   , ANXA8   , ANXA3   , CXCL11  , LIF     , IL15    , CXCL2   , SDC3    , CCL2    , MMP10   , COLEC12 , CSF1    , MMP1    , EREG    , TNFSF15 , AREG    , TGFA    , SFRP5   , CXCL3   , LGALS9  , GPC1    , CXCL1   , ADAMTSL5, CXCL5   , PIK3IP1 , FGFBP2  , FLT3LG  , S100A3  , TIMP4   , SEMA4F  , TIMP2   , NRG3    , ADAMTS10, PLXDC2  , PF4V1   , PDGFD   , CTSC    , SULF1   \\\\\n",
       "\t NABA\\_SECRETED\\_FACTORS                                     & 7.222791e-03 & 1.356475e-02 & 0.4070179 & 0.3169618 & 1.704811 &  74 & TGFB2  , CCL28  , CXCL11 , LIF    , IL15   , CXCL2  , CCL2   , CSF1   , EREG   , TNFSF15, AREG   , TGFA   , SFRP5  , CXCL3  , CXCL1  , CXCL5  , PIK3IP1, FGFBP2 , FLT3LG , S100A3 , NRG3   , PF4V1  , PDGFD  , FSTL3  , LEFTY1 , S100A6 , TNFSF13, S100A2 \\\\\n",
       "\\end{tabular}\n"
      ],
      "text/markdown": [
       "\n",
       "A data.table: 26 × 8\n",
       "\n",
       "| pathway &lt;chr&gt; | pval &lt;dbl&gt; | padj &lt;dbl&gt; | log2err &lt;dbl&gt; | ES &lt;dbl&gt; | NES &lt;dbl&gt; | size &lt;int&gt; | leadingEdge &lt;list&gt; |\n",
       "|---|---|---|---|---|---|---|---|\n",
       "| KEGG_ALLOGRAFT_REJECTION                                  | 2.945930e-06 | 2.520407e-05 | 0.6272567 | 0.7127011 | 2.486311 |  15 | HLA-DRB5, HLA-DMB , HLA-DQB1, HLA-DPA1, HLA-DRB1, HLA-DPB1, HLA-DMA , HLA-DQA1, HLA-DRA , HLA-F   , HLA-G    |\n",
       "| KEGG_ANTIGEN_PROCESSING_AND_PRESENTATION                  | 4.555633e-07 | 5.011196e-06 | 0.6749629 | 0.6292622 | 2.608252 |  25 | HLA-DRB5, HLA-DMB , HLA-DQB1, HLA-DPA1, HLA-DRB1, HLA-DPB1, HLA-DMA , HLA-DQA1, CIITA   , HLA-DRA , TAP2    , HLA-F   , HSPA2   , HLA-G    |\n",
       "| KEGG_ARRHYTHMOGENIC_RIGHT_VENTRICULAR_CARDIOMYOPATHY_ARVC | 3.499618e-03 | 7.485294e-03 | 0.4317077 | 0.5473406 | 1.909439 |  15 | ITGB8   , ITGA3   , ITGB6   , CACNA2D3, ITGB4   , CACNB4  , ITGA2   , SGCB    , ITGAV    |\n",
       "| KEGG_AXON_GUIDANCE                                        | 1.436630e-02 | 2.514102e-02 | 0.3807304 | 0.3776793 | 1.646455 |  31 | NTN4  , SEMA3E, DCC   , EFNA5 , PAK3  , EPHB6 , SRGAP1, ROBO3 , SEMA4F, ABLIM2, EFNA4 , SLIT3 , GSK3B , SEMA5B, SEMA3B, NFATC4, EPHA2 , RGS3  , SLIT2 , EFNB1 , RND1  , EPHB1 , SEMA5A, PPP3R1 |\n",
       "| KEGG_CELL_ADHESION_MOLECULES_CAMS                         | 1.835740e-09 | 7.067598e-08 | 0.7881868 | 0.6642877 | 2.826335 |  29 | HLA-DRB5, HLA-DMB , HLA-DQB1, HLA-DPA1, CD274   , SDC3    , VCAN    , CLDN2   , HLA-DRB1, NEO1    , CLDN10  , ITGB8   , ITGAM   , HLA-DPB1, HLA-DMA , HLA-DQA1, HLA-DRA , HLA-F   , CADM1   , HLA-G    |\n",
       "| KEGG_CYTOKINE_CYTOKINE_RECEPTOR_INTERACTION               | 3.954887e-04 | 1.171255e-03 | 0.4984931 | 0.4341610 | 2.096808 |  47 | TGFB2    , CCL28    , PDGFRA   , CXCL11   , LIF      , IL15     , CXCL2    , CCL2     , IL15RA   , CSF1     , TNFSF15  , TNFRSF11B, PLEKHO2  , CXCL3    , CXCL1    , CXCL5    , FLT3LG   , PF4V1    , IL2RG    , TNFSF13  , EDA2R    , LTB      , IL7      , ACVR1    , CXCL9     |\n",
       "| KEGG_DILATED_CARDIOMYOPATHY                               | 1.304015e-02 | 2.335097e-02 | 0.3807304 | 0.4178665 | 1.732030 |  25 | TGFB2   , ADCY5   , ITGB8   , ITGA3   , ITGB6   , TTN     , CACNA2D3, ITGB4   , CACNB4  , ITGA2   , SGCB    , ITGAV   , TNNT2    |\n",
       "| KEGG_ECM_RECEPTOR_INTERACTION                             | 1.837474e-02 | 2.947614e-02 | 0.3524879 | 0.4585338 | 1.730214 |  18 | SDC3 , LAMC2, ITGB8, ITGA3, CD47 , ITGB6, ITGB4, SPP1 , ITGA2, TNC  , ITGAV |\n",
       "| KEGG_ENDOCYTOSIS                                          | 2.384816e-02 | 3.747569e-02 | 0.3524879 | 0.3943838 | 1.601268 |  24 | DNM1     , PDGFRA   , RAB11FIP5, HLA-F    , HSPA2    , IL2RG    , HLA-G    , ARAP2    , EHD1     , RAB11FIP2, CHMP4C   , ASAP2    , SMURF2    |\n",
       "| KEGG_FOCAL_ADHESION                                       | 2.704562e-03 | 6.432954e-03 | 0.4317077 | 0.4303575 | 1.914328 |  33 | RASGRF1, PDGFRA , LAMC2  , ITGB8  , ITGA3  , PAK3   , ITGB6  , PIK3R3 , FLNA   , PDGFD  , ITGB4  , SPP1   , ITGA2  , PIK3CD , GSK3B  , TNC    , ITGAV   |\n",
       "| KEGG_GRAFT_VERSUS_HOST_DISEASE                            | 2.945930e-06 | 2.520407e-05 | 0.6272567 | 0.7127011 | 2.486311 |  15 | HLA-DRB5, HLA-DMB , HLA-DQB1, HLA-DPA1, HLA-DRB1, HLA-DPB1, HLA-DMA , HLA-DQA1, HLA-DRA , HLA-F   , HLA-G    |\n",
       "| KEGG_HEMATOPOIETIC_CELL_LINEAGE                           | 2.826110e-03 | 6.432954e-03 | 0.4317077 | 0.5378962 | 1.928845 |  16 | HLA-DRB5, HLA-DRB1, CSF1    , ITGAM   , ITGA3   , FLT3LG  , HLA-DRA , ITGA2   , IL7      |\n",
       "| KEGG_HYPERTROPHIC_CARDIOMYOPATHY_HCM                      | 4.135509e-03 | 8.379847e-03 | 0.4070179 | 0.4814919 | 1.879456 |  20 | TGFB2   , ITGB8   , ITGA3   , ITGB6   , TTN     , CACNA2D3, ITGB4   , CACNB4  , ITGA2   , SGCB    , ITGAV   , TNNT2    |\n",
       "| KEGG_INTESTINAL_IMMUNE_NETWORK_FOR_IGA_PRODUCTION         | 4.896414e-08 | 9.425596e-07 | 0.7195128 | 0.7512082 | 2.762240 |  17 | HLA-DRB5, HLA-DMB , HLA-DQB1, HLA-DPA1, CCL28   , IL15    , HLA-DRB1, IL15RA  , HLA-DPB1, HLA-DMA , HLA-DQA1, MAP3K14 , HLA-DRA , PIGR    , TNFSF13  |\n",
       "| KEGG_LEISHMANIA_INFECTION                                 | 2.595998e-07 | 3.331531e-06 | 0.6749629 | 0.6828321 | 2.665368 |  20 | HLA-DRB5, TGFB2   , HLA-DMB , HLA-DQB1, HLA-DPA1, HLA-DRB1, ITGAM   , HLA-DPB1, HLA-DMA , HLA-DQA1, NCF2    , HLA-DRA  |\n",
       "| KEGG_MAPK_SIGNALING_PATHWAY                               | 1.448333e-03 | 3.717389e-03 | 0.4550599 | 0.4469407 | 1.968020 |  32 | RASGRF1 , TGFB2   , PDGFRA  , FGFR1   , DUSP5   , NR4A1   , DUSP10  , MAP3K14 , RASGRF2 , FLNA    , CACNA2D3, MAP4K3  , HSPA2   , RPS6KA5 , CACNB4  , MAP3K8  , GADD45B , NFATC4  , NFKB2   , FGF12   , PRKACB   |\n",
       "| KEGG_NOD_LIKE_RECEPTOR_SIGNALING_PATHWAY                  | 3.812313e-04 | 1.171255e-03 | 0.4984931 | 0.6004357 | 2.153106 |  16 | CXCL2 , CCL2  , CASP1 , PYCARD, CASP8 , NOD1  , CXCL1  |\n",
       "| KEGG_PATHWAYS_IN_CANCER                                   | 9.957554e-04 | 2.738327e-03 | 0.4550599 | 0.3722802 | 1.901190 |  60 | TGFB2 , ARNT2 , FZD1  , PDGFRA, FGFR1 , DCC   , CDKN2A, CDKN2B, MMP1  , LAMC2 , AXIN2 , CASP8 , TGFA  , ITGA3 , FLT3LG, PTCH1 , PIK3R3, TRAF5 , FZD3   |\n",
       "| KEGG_SMALL_CELL_LUNG_CANCER                               | 6.437461e-03 | 1.239211e-02 | 0.4070179 | 0.5143011 | 1.844235 |  16 | CDKN2B, LAMC2 , ITGA3 , PIK3R3, TRAF5 , CDK2  , ITGA2 , PIK3CD, TRAF1 , ITGAV  |\n",
       "| KEGG_SYSTEMIC_LUPUS_ERYTHEMATOSUS                         | 3.878613e-04 | 1.171255e-03 | 0.4984931 | 0.5974623 | 2.196907 |  17 | HLA-DRB5, HLA-DMB , HLA-DQB1, HLA-DPA1, HLA-DRB1, HLA-DPB1, HLA-DMA , HLA-DQA1, HLA-DRA  |\n",
       "| KEGG_TYPE_I_DIABETES_MELLITUS                             | 2.133064e-05 | 8.644521e-05 | 0.5756103 | 0.6636242 | 2.440188 |  17 | HLA-DRB5, HLA-DMB , HLA-DQB1, HLA-DPA1, HLA-DRB1, HLA-DPB1, HLA-DMA , HLA-DQA1, HLA-DRA , HLA-F   , HLA-G    |\n",
       "| KEGG_VIRAL_MYOCARDITIS                                    | 1.687844e-05 | 7.220220e-05 | 0.5756103 | 0.6029414 | 2.415692 |  22 | HLA-DRB5, HLA-DMB , HLA-DQB1, HLA-DPA1, HLA-DRB1, CASP8   , HLA-DPB1, HLA-DMA , HLA-DQA1, HLA-DRA , HLA-F   , HLA-G    |\n",
       "| NABA_ECM_AFFILIATED                                       | 1.633215e-03 | 4.056696e-03 | 0.4550599 | 0.4808586 | 2.015964 |  26 | MUC13  , ANXA8L1, SEMA3E , ANXA8  , ANXA3  , SDC3   , COLEC12, LGALS9 , GPC1   , SEMA4F , PLXDC2  |\n",
       "| NABA_MATRISOME                                            | 1.592807e-02 | 2.666221e-02 | 0.3524879 | 0.2258943 | 1.466145 | 195 | MUC13   , MMP7    , ANXA8L1 , TGFB2   , NTN4    , SEMA3E  , CCL28   , ANXA8   , ANXA3   , CXCL11  , LIF     , IL15    , CXCL2   , SDC3    , CCL2    , VCAN    , MMP10   , COLEC12 , CSF1    , MMP1    , LAMC2   , EREG    , TNFSF15 , AREG    , TGFA    , SFRP5   , CXCL3   , LGALS9  , GPC1    , CXCL1   , ADAMTSL5, EFEMP1  , HAPLN3  , CXCL5   , PIK3IP1 , FGFBP2  , FLT3LG  , S100A3  , TIMP4   , SEMA4F  , TIMP2   , NRG3    , ADAMTS10, PLXDC2  , PF4V1   , THSD4   , PDGFD   , CTSC    , SULF1    |\n",
       "| NABA_MATRISOME_ASSOCIATED                                 | 3.311233e-03 | 7.284713e-03 | 0.4317077 | 0.2658942 | 1.661834 | 150 | MUC13   , MMP7    , ANXA8L1 , TGFB2   , SEMA3E  , CCL28   , ANXA8   , ANXA3   , CXCL11  , LIF     , IL15    , CXCL2   , SDC3    , CCL2    , MMP10   , COLEC12 , CSF1    , MMP1    , EREG    , TNFSF15 , AREG    , TGFA    , SFRP5   , CXCL3   , LGALS9  , GPC1    , CXCL1   , ADAMTSL5, CXCL5   , PIK3IP1 , FGFBP2  , FLT3LG  , S100A3  , TIMP4   , SEMA4F  , TIMP2   , NRG3    , ADAMTS10, PLXDC2  , PF4V1   , PDGFD   , CTSC    , SULF1    |\n",
       "| NABA_SECRETED_FACTORS                                     | 7.222791e-03 | 1.356475e-02 | 0.4070179 | 0.3169618 | 1.704811 |  74 | TGFB2  , CCL28  , CXCL11 , LIF    , IL15   , CXCL2  , CCL2   , CSF1   , EREG   , TNFSF15, AREG   , TGFA   , SFRP5  , CXCL3  , CXCL1  , CXCL5  , PIK3IP1, FGFBP2 , FLT3LG , S100A3 , NRG3   , PF4V1  , PDGFD  , FSTL3  , LEFTY1 , S100A6 , TNFSF13, S100A2  |\n",
       "\n"
      ],
      "text/plain": [
       "   pathway                                                   pval        \n",
       "1  KEGG_ALLOGRAFT_REJECTION                                  2.945930e-06\n",
       "2  KEGG_ANTIGEN_PROCESSING_AND_PRESENTATION                  4.555633e-07\n",
       "3  KEGG_ARRHYTHMOGENIC_RIGHT_VENTRICULAR_CARDIOMYOPATHY_ARVC 3.499618e-03\n",
       "4  KEGG_AXON_GUIDANCE                                        1.436630e-02\n",
       "5  KEGG_CELL_ADHESION_MOLECULES_CAMS                         1.835740e-09\n",
       "6  KEGG_CYTOKINE_CYTOKINE_RECEPTOR_INTERACTION               3.954887e-04\n",
       "7  KEGG_DILATED_CARDIOMYOPATHY                               1.304015e-02\n",
       "8  KEGG_ECM_RECEPTOR_INTERACTION                             1.837474e-02\n",
       "9  KEGG_ENDOCYTOSIS                                          2.384816e-02\n",
       "10 KEGG_FOCAL_ADHESION                                       2.704562e-03\n",
       "11 KEGG_GRAFT_VERSUS_HOST_DISEASE                            2.945930e-06\n",
       "12 KEGG_HEMATOPOIETIC_CELL_LINEAGE                           2.826110e-03\n",
       "13 KEGG_HYPERTROPHIC_CARDIOMYOPATHY_HCM                      4.135509e-03\n",
       "14 KEGG_INTESTINAL_IMMUNE_NETWORK_FOR_IGA_PRODUCTION         4.896414e-08\n",
       "15 KEGG_LEISHMANIA_INFECTION                                 2.595998e-07\n",
       "16 KEGG_MAPK_SIGNALING_PATHWAY                               1.448333e-03\n",
       "17 KEGG_NOD_LIKE_RECEPTOR_SIGNALING_PATHWAY                  3.812313e-04\n",
       "18 KEGG_PATHWAYS_IN_CANCER                                   9.957554e-04\n",
       "19 KEGG_SMALL_CELL_LUNG_CANCER                               6.437461e-03\n",
       "20 KEGG_SYSTEMIC_LUPUS_ERYTHEMATOSUS                         3.878613e-04\n",
       "21 KEGG_TYPE_I_DIABETES_MELLITUS                             2.133064e-05\n",
       "22 KEGG_VIRAL_MYOCARDITIS                                    1.687844e-05\n",
       "23 NABA_ECM_AFFILIATED                                       1.633215e-03\n",
       "24 NABA_MATRISOME                                            1.592807e-02\n",
       "25 NABA_MATRISOME_ASSOCIATED                                 3.311233e-03\n",
       "26 NABA_SECRETED_FACTORS                                     7.222791e-03\n",
       "   padj         log2err   ES        NES      size\n",
       "1  2.520407e-05 0.6272567 0.7127011 2.486311  15 \n",
       "2  5.011196e-06 0.6749629 0.6292622 2.608252  25 \n",
       "3  7.485294e-03 0.4317077 0.5473406 1.909439  15 \n",
       "4  2.514102e-02 0.3807304 0.3776793 1.646455  31 \n",
       "5  7.067598e-08 0.7881868 0.6642877 2.826335  29 \n",
       "6  1.171255e-03 0.4984931 0.4341610 2.096808  47 \n",
       "7  2.335097e-02 0.3807304 0.4178665 1.732030  25 \n",
       "8  2.947614e-02 0.3524879 0.4585338 1.730214  18 \n",
       "9  3.747569e-02 0.3524879 0.3943838 1.601268  24 \n",
       "10 6.432954e-03 0.4317077 0.4303575 1.914328  33 \n",
       "11 2.520407e-05 0.6272567 0.7127011 2.486311  15 \n",
       "12 6.432954e-03 0.4317077 0.5378962 1.928845  16 \n",
       "13 8.379847e-03 0.4070179 0.4814919 1.879456  20 \n",
       "14 9.425596e-07 0.7195128 0.7512082 2.762240  17 \n",
       "15 3.331531e-06 0.6749629 0.6828321 2.665368  20 \n",
       "16 3.717389e-03 0.4550599 0.4469407 1.968020  32 \n",
       "17 1.171255e-03 0.4984931 0.6004357 2.153106  16 \n",
       "18 2.738327e-03 0.4550599 0.3722802 1.901190  60 \n",
       "19 1.239211e-02 0.4070179 0.5143011 1.844235  16 \n",
       "20 1.171255e-03 0.4984931 0.5974623 2.196907  17 \n",
       "21 8.644521e-05 0.5756103 0.6636242 2.440188  17 \n",
       "22 7.220220e-05 0.5756103 0.6029414 2.415692  22 \n",
       "23 4.056696e-03 0.4550599 0.4808586 2.015964  26 \n",
       "24 2.666221e-02 0.3524879 0.2258943 1.466145 195 \n",
       "25 7.284713e-03 0.4317077 0.2658942 1.661834 150 \n",
       "26 1.356475e-02 0.4070179 0.3169618 1.704811  74 \n",
       "   leadingEdge                                                                                                                                                                                                                                                                                                                                                                                                                                                                                             \n",
       "1  HLA-DRB5, HLA-DMB , HLA-DQB1, HLA-DPA1, HLA-DRB1, HLA-DPB1, HLA-DMA , HLA-DQA1, HLA-DRA , HLA-F   , HLA-G                                                                                                                                                                                                                                                                                                                                                                                               \n",
       "2  HLA-DRB5, HLA-DMB , HLA-DQB1, HLA-DPA1, HLA-DRB1, HLA-DPB1, HLA-DMA , HLA-DQA1, CIITA   , HLA-DRA , TAP2    , HLA-F   , HSPA2   , HLA-G                                                                                                                                                                                                                                                                                                                                                                 \n",
       "3  ITGB8   , ITGA3   , ITGB6   , CACNA2D3, ITGB4   , CACNB4  , ITGA2   , SGCB    , ITGAV                                                                                                                                                                                                                                                                                                                                                                                                                   \n",
       "4  NTN4  , SEMA3E, DCC   , EFNA5 , PAK3  , EPHB6 , SRGAP1, ROBO3 , SEMA4F, ABLIM2, EFNA4 , SLIT3 , GSK3B , SEMA5B, SEMA3B, NFATC4, EPHA2 , RGS3  , SLIT2 , EFNB1 , RND1  , EPHB1 , SEMA5A, PPP3R1                                                                                                                                                                                                                                                                                                          \n",
       "5  HLA-DRB5, HLA-DMB , HLA-DQB1, HLA-DPA1, CD274   , SDC3    , VCAN    , CLDN2   , HLA-DRB1, NEO1    , CLDN10  , ITGB8   , ITGAM   , HLA-DPB1, HLA-DMA , HLA-DQA1, HLA-DRA , HLA-F   , CADM1   , HLA-G                                                                                                                                                                                                                                                                                                     \n",
       "6  TGFB2    , CCL28    , PDGFRA   , CXCL11   , LIF      , IL15     , CXCL2    , CCL2     , IL15RA   , CSF1     , TNFSF15  , TNFRSF11B, PLEKHO2  , CXCL3    , CXCL1    , CXCL5    , FLT3LG   , PF4V1    , IL2RG    , TNFSF13  , EDA2R    , LTB      , IL7      , ACVR1    , CXCL9                                                                                                                                                                                                                           \n",
       "7  TGFB2   , ADCY5   , ITGB8   , ITGA3   , ITGB6   , TTN     , CACNA2D3, ITGB4   , CACNB4  , ITGA2   , SGCB    , ITGAV   , TNNT2                                                                                                                                                                                                                                                                                                                                                                           \n",
       "8  SDC3 , LAMC2, ITGB8, ITGA3, CD47 , ITGB6, ITGB4, SPP1 , ITGA2, TNC  , ITGAV                                                                                                                                                                                                                                                                                                                                                                                                                             \n",
       "9  DNM1     , PDGFRA   , RAB11FIP5, HLA-F    , HSPA2    , IL2RG    , HLA-G    , ARAP2    , EHD1     , RAB11FIP2, CHMP4C   , ASAP2    , SMURF2                                                                                                                                                                                                                                                                                                                                                              \n",
       "10 RASGRF1, PDGFRA , LAMC2  , ITGB8  , ITGA3  , PAK3   , ITGB6  , PIK3R3 , FLNA   , PDGFD  , ITGB4  , SPP1   , ITGA2  , PIK3CD , GSK3B  , TNC    , ITGAV                                                                                                                                                                                                                                                                                                                                                   \n",
       "11 HLA-DRB5, HLA-DMB , HLA-DQB1, HLA-DPA1, HLA-DRB1, HLA-DPB1, HLA-DMA , HLA-DQA1, HLA-DRA , HLA-F   , HLA-G                                                                                                                                                                                                                                                                                                                                                                                               \n",
       "12 HLA-DRB5, HLA-DRB1, CSF1    , ITGAM   , ITGA3   , FLT3LG  , HLA-DRA , ITGA2   , IL7                                                                                                                                                                                                                                                                                                                                                                                                                     \n",
       "13 TGFB2   , ITGB8   , ITGA3   , ITGB6   , TTN     , CACNA2D3, ITGB4   , CACNB4  , ITGA2   , SGCB    , ITGAV   , TNNT2                                                                                                                                                                                                                                                                                                                                                                                     \n",
       "14 HLA-DRB5, HLA-DMB , HLA-DQB1, HLA-DPA1, CCL28   , IL15    , HLA-DRB1, IL15RA  , HLA-DPB1, HLA-DMA , HLA-DQA1, MAP3K14 , HLA-DRA , PIGR    , TNFSF13                                                                                                                                                                                                                                                                                                                                                     \n",
       "15 HLA-DRB5, TGFB2   , HLA-DMB , HLA-DQB1, HLA-DPA1, HLA-DRB1, ITGAM   , HLA-DPB1, HLA-DMA , HLA-DQA1, NCF2    , HLA-DRA                                                                                                                                                                                                                                                                                                                                                                                   \n",
       "16 RASGRF1 , TGFB2   , PDGFRA  , FGFR1   , DUSP5   , NR4A1   , DUSP10  , MAP3K14 , RASGRF2 , FLNA    , CACNA2D3, MAP4K3  , HSPA2   , RPS6KA5 , CACNB4  , MAP3K8  , GADD45B , NFATC4  , NFKB2   , FGF12   , PRKACB                                                                                                                                                                                                                                                                                          \n",
       "17 CXCL2 , CCL2  , CASP1 , PYCARD, CASP8 , NOD1  , CXCL1                                                                                                                                                                                                                                                                                                                                                                                                                                                   \n",
       "18 TGFB2 , ARNT2 , FZD1  , PDGFRA, FGFR1 , DCC   , CDKN2A, CDKN2B, MMP1  , LAMC2 , AXIN2 , CASP8 , TGFA  , ITGA3 , FLT3LG, PTCH1 , PIK3R3, TRAF5 , FZD3                                                                                                                                                                                                                                                                                                                                                    \n",
       "19 CDKN2B, LAMC2 , ITGA3 , PIK3R3, TRAF5 , CDK2  , ITGA2 , PIK3CD, TRAF1 , ITGAV                                                                                                                                                                                                                                                                                                                                                                                                                           \n",
       "20 HLA-DRB5, HLA-DMB , HLA-DQB1, HLA-DPA1, HLA-DRB1, HLA-DPB1, HLA-DMA , HLA-DQA1, HLA-DRA                                                                                                                                                                                                                                                                                                                                                                                                                 \n",
       "21 HLA-DRB5, HLA-DMB , HLA-DQB1, HLA-DPA1, HLA-DRB1, HLA-DPB1, HLA-DMA , HLA-DQA1, HLA-DRA , HLA-F   , HLA-G                                                                                                                                                                                                                                                                                                                                                                                               \n",
       "22 HLA-DRB5, HLA-DMB , HLA-DQB1, HLA-DPA1, HLA-DRB1, CASP8   , HLA-DPB1, HLA-DMA , HLA-DQA1, HLA-DRA , HLA-F   , HLA-G                                                                                                                                                                                                                                                                                                                                                                                     \n",
       "23 MUC13  , ANXA8L1, SEMA3E , ANXA8  , ANXA3  , SDC3   , COLEC12, LGALS9 , GPC1   , SEMA4F , PLXDC2                                                                                                                                                                                                                                                                                                                                                                                                        \n",
       "24 MUC13   , MMP7    , ANXA8L1 , TGFB2   , NTN4    , SEMA3E  , CCL28   , ANXA8   , ANXA3   , CXCL11  , LIF     , IL15    , CXCL2   , SDC3    , CCL2    , VCAN    , MMP10   , COLEC12 , CSF1    , MMP1    , LAMC2   , EREG    , TNFSF15 , AREG    , TGFA    , SFRP5   , CXCL3   , LGALS9  , GPC1    , CXCL1   , ADAMTSL5, EFEMP1  , HAPLN3  , CXCL5   , PIK3IP1 , FGFBP2  , FLT3LG  , S100A3  , TIMP4   , SEMA4F  , TIMP2   , NRG3    , ADAMTS10, PLXDC2  , PF4V1   , THSD4   , PDGFD   , CTSC    , SULF1   \n",
       "25 MUC13   , MMP7    , ANXA8L1 , TGFB2   , SEMA3E  , CCL28   , ANXA8   , ANXA3   , CXCL11  , LIF     , IL15    , CXCL2   , SDC3    , CCL2    , MMP10   , COLEC12 , CSF1    , MMP1    , EREG    , TNFSF15 , AREG    , TGFA    , SFRP5   , CXCL3   , LGALS9  , GPC1    , CXCL1   , ADAMTSL5, CXCL5   , PIK3IP1 , FGFBP2  , FLT3LG  , S100A3  , TIMP4   , SEMA4F  , TIMP2   , NRG3    , ADAMTS10, PLXDC2  , PF4V1   , PDGFD   , CTSC    , SULF1                                                               \n",
       "26 TGFB2  , CCL28  , CXCL11 , LIF    , IL15   , CXCL2  , CCL2   , CSF1   , EREG   , TNFSF15, AREG   , TGFA   , SFRP5  , CXCL3  , CXCL1  , CXCL5  , PIK3IP1, FGFBP2 , FLT3LG , S100A3 , NRG3   , PF4V1  , PDGFD  , FSTL3  , LEFTY1 , S100A6 , TNFSF13, S100A2                                                                                                                                                                                                                                               "
      ]
     },
     "metadata": {},
     "output_type": "display_data"
    }
   ],
   "source": [
    "fgseaRes[fgseaRes$padj < 0.05 & fgseaRes$ES > 0,]"
   ]
  },
  {
   "cell_type": "code",
   "execution_count": 117,
   "id": "1e5805e8-5430-45b3-a7a0-2313e241ae7b",
   "metadata": {},
   "outputs": [],
   "source": [
    "rankedGene <- deC02$logFC\n",
    "names(rankedGene) <- deC02$gene\n",
    "rankedGene <- sort(rankedGene, decreasing = T)\n",
    "msigdbr_list = split(x = msigdbr_df$gene_symbol, f = msigdbr_df$gs_name)\n",
    "fgseaRes <- fgsea(pathways = msigdbr_list, rankedGene,  eps      = 0.0,\n",
    "                  minSize  = 15,\n",
    "                  maxSize  = 500)"
   ]
  },
  {
   "cell_type": "code",
   "execution_count": 118,
   "id": "34f2431b-33f2-4d13-ab3b-eecce92096cb",
   "metadata": {},
   "outputs": [
    {
     "data": {
      "text/html": [
       "<table class=\"dataframe\">\n",
       "<caption>A data.table: 3 × 8</caption>\n",
       "<thead>\n",
       "\t<tr><th scope=col>pathway</th><th scope=col>pval</th><th scope=col>padj</th><th scope=col>log2err</th><th scope=col>ES</th><th scope=col>NES</th><th scope=col>size</th><th scope=col>leadingEdge</th></tr>\n",
       "\t<tr><th scope=col>&lt;chr&gt;</th><th scope=col>&lt;dbl&gt;</th><th scope=col>&lt;dbl&gt;</th><th scope=col>&lt;dbl&gt;</th><th scope=col>&lt;dbl&gt;</th><th scope=col>&lt;dbl&gt;</th><th scope=col>&lt;int&gt;</th><th scope=col>&lt;list&gt;</th></tr>\n",
       "</thead>\n",
       "<tbody>\n",
       "\t<tr><td>KEGG_RIBOSOME        </td><td>1.331215e-48</td><td>1.025036e-46</td><td>1.8202395</td><td>0.9044426</td><td>8.278150</td><td>50</td><td>RPS20 , RPS21 , RPL28 , RPS17 , RPL36 , RPL35A, RPS29 , RPL35 , RPL26 , RPL23 , RPLP2 , RPS25 , RPL32 , RPL11 , RPL27A, RPL34 , RPS15 , RPL27 , RPS24 , RPS10 , RPL17 , RPS11 , RPL23A, RPL30 , RPS18 , RPSA  , RPL14 , RPL29 , RPL13 , RPLP1 , RPS19 , RPS6  , RPL31 , RPS12 , RPS23 , RPL8  , RPL10 , RPL10A, RPL7A , RPS13 , RPS16 , RPS5  , RPL6  , RPL4  , RPS4X , RPL13A, RPS7  , RPL3  , RPLP0 </td></tr>\n",
       "\t<tr><td>KEGG_SPLICEOSOME     </td><td>2.625331e-05</td><td>1.010752e-03</td><td>0.5756103</td><td>0.3536293</td><td>2.605765</td><td>34</td><td>SRSF3  , TRA2A  , PRPF6  , SRSF1  , EFTUD2 , SRSF5  , CCDC12 , SF3B4  , SRSF7  , USP39  , ACIN1  , LSM8   , EIF4A3 , DDX23  , TCERG1 , THOC2  , TRA2B  , WBP11  , SRSF6  , RBM25  , HSPA6  , BUD31  , THOC1  , DDX39B , PRPF38B, PRPF19 , PPIL1  </td></tr>\n",
       "\t<tr><td>PID_MYC_ACTIV_PATHWAY</td><td>4.077749e-04</td><td>1.046622e-02</td><td>0.4984931</td><td>0.3977994</td><td>2.199468</td><td>21</td><td>TK1     , PEG10   , MYCT1   , PMAIP1  , BIRC5   , RPL11   , NME2    , GAPDH   , HSP90AA1, MTDH    , SUPT7L  , TP53    , TFRC    , CDK4    , HUWE1   , PDCD10  </td></tr>\n",
       "</tbody>\n",
       "</table>\n"
      ],
      "text/latex": [
       "A data.table: 3 × 8\n",
       "\\begin{tabular}{llllllll}\n",
       " pathway & pval & padj & log2err & ES & NES & size & leadingEdge\\\\\n",
       " <chr> & <dbl> & <dbl> & <dbl> & <dbl> & <dbl> & <int> & <list>\\\\\n",
       "\\hline\n",
       "\t KEGG\\_RIBOSOME         & 1.331215e-48 & 1.025036e-46 & 1.8202395 & 0.9044426 & 8.278150 & 50 & RPS20 , RPS21 , RPL28 , RPS17 , RPL36 , RPL35A, RPS29 , RPL35 , RPL26 , RPL23 , RPLP2 , RPS25 , RPL32 , RPL11 , RPL27A, RPL34 , RPS15 , RPL27 , RPS24 , RPS10 , RPL17 , RPS11 , RPL23A, RPL30 , RPS18 , RPSA  , RPL14 , RPL29 , RPL13 , RPLP1 , RPS19 , RPS6  , RPL31 , RPS12 , RPS23 , RPL8  , RPL10 , RPL10A, RPL7A , RPS13 , RPS16 , RPS5  , RPL6  , RPL4  , RPS4X , RPL13A, RPS7  , RPL3  , RPLP0 \\\\\n",
       "\t KEGG\\_SPLICEOSOME      & 2.625331e-05 & 1.010752e-03 & 0.5756103 & 0.3536293 & 2.605765 & 34 & SRSF3  , TRA2A  , PRPF6  , SRSF1  , EFTUD2 , SRSF5  , CCDC12 , SF3B4  , SRSF7  , USP39  , ACIN1  , LSM8   , EIF4A3 , DDX23  , TCERG1 , THOC2  , TRA2B  , WBP11  , SRSF6  , RBM25  , HSPA6  , BUD31  , THOC1  , DDX39B , PRPF38B, PRPF19 , PPIL1  \\\\\n",
       "\t PID\\_MYC\\_ACTIV\\_PATHWAY & 4.077749e-04 & 1.046622e-02 & 0.4984931 & 0.3977994 & 2.199468 & 21 & TK1     , PEG10   , MYCT1   , PMAIP1  , BIRC5   , RPL11   , NME2    , GAPDH   , HSP90AA1, MTDH    , SUPT7L  , TP53    , TFRC    , CDK4    , HUWE1   , PDCD10  \\\\\n",
       "\\end{tabular}\n"
      ],
      "text/markdown": [
       "\n",
       "A data.table: 3 × 8\n",
       "\n",
       "| pathway &lt;chr&gt; | pval &lt;dbl&gt; | padj &lt;dbl&gt; | log2err &lt;dbl&gt; | ES &lt;dbl&gt; | NES &lt;dbl&gt; | size &lt;int&gt; | leadingEdge &lt;list&gt; |\n",
       "|---|---|---|---|---|---|---|---|\n",
       "| KEGG_RIBOSOME         | 1.331215e-48 | 1.025036e-46 | 1.8202395 | 0.9044426 | 8.278150 | 50 | RPS20 , RPS21 , RPL28 , RPS17 , RPL36 , RPL35A, RPS29 , RPL35 , RPL26 , RPL23 , RPLP2 , RPS25 , RPL32 , RPL11 , RPL27A, RPL34 , RPS15 , RPL27 , RPS24 , RPS10 , RPL17 , RPS11 , RPL23A, RPL30 , RPS18 , RPSA  , RPL14 , RPL29 , RPL13 , RPLP1 , RPS19 , RPS6  , RPL31 , RPS12 , RPS23 , RPL8  , RPL10 , RPL10A, RPL7A , RPS13 , RPS16 , RPS5  , RPL6  , RPL4  , RPS4X , RPL13A, RPS7  , RPL3  , RPLP0  |\n",
       "| KEGG_SPLICEOSOME      | 2.625331e-05 | 1.010752e-03 | 0.5756103 | 0.3536293 | 2.605765 | 34 | SRSF3  , TRA2A  , PRPF6  , SRSF1  , EFTUD2 , SRSF5  , CCDC12 , SF3B4  , SRSF7  , USP39  , ACIN1  , LSM8   , EIF4A3 , DDX23  , TCERG1 , THOC2  , TRA2B  , WBP11  , SRSF6  , RBM25  , HSPA6  , BUD31  , THOC1  , DDX39B , PRPF38B, PRPF19 , PPIL1   |\n",
       "| PID_MYC_ACTIV_PATHWAY | 4.077749e-04 | 1.046622e-02 | 0.4984931 | 0.3977994 | 2.199468 | 21 | TK1     , PEG10   , MYCT1   , PMAIP1  , BIRC5   , RPL11   , NME2    , GAPDH   , HSP90AA1, MTDH    , SUPT7L  , TP53    , TFRC    , CDK4    , HUWE1   , PDCD10   |\n",
       "\n"
      ],
      "text/plain": [
       "  pathway               pval         padj         log2err   ES        NES     \n",
       "1 KEGG_RIBOSOME         1.331215e-48 1.025036e-46 1.8202395 0.9044426 8.278150\n",
       "2 KEGG_SPLICEOSOME      2.625331e-05 1.010752e-03 0.5756103 0.3536293 2.605765\n",
       "3 PID_MYC_ACTIV_PATHWAY 4.077749e-04 1.046622e-02 0.4984931 0.3977994 2.199468\n",
       "  size\n",
       "1 50  \n",
       "2 34  \n",
       "3 21  \n",
       "  leadingEdge                                                                                                                                                                                                                                                                                                                                                                                           \n",
       "1 RPS20 , RPS21 , RPL28 , RPS17 , RPL36 , RPL35A, RPS29 , RPL35 , RPL26 , RPL23 , RPLP2 , RPS25 , RPL32 , RPL11 , RPL27A, RPL34 , RPS15 , RPL27 , RPS24 , RPS10 , RPL17 , RPS11 , RPL23A, RPL30 , RPS18 , RPSA  , RPL14 , RPL29 , RPL13 , RPLP1 , RPS19 , RPS6  , RPL31 , RPS12 , RPS23 , RPL8  , RPL10 , RPL10A, RPL7A , RPS13 , RPS16 , RPS5  , RPL6  , RPL4  , RPS4X , RPL13A, RPS7  , RPL3  , RPLP0 \n",
       "2 SRSF3  , TRA2A  , PRPF6  , SRSF1  , EFTUD2 , SRSF5  , CCDC12 , SF3B4  , SRSF7  , USP39  , ACIN1  , LSM8   , EIF4A3 , DDX23  , TCERG1 , THOC2  , TRA2B  , WBP11  , SRSF6  , RBM25  , HSPA6  , BUD31  , THOC1  , DDX39B , PRPF38B, PRPF19 , PPIL1                                                                                                                                                       \n",
       "3 TK1     , PEG10   , MYCT1   , PMAIP1  , BIRC5   , RPL11   , NME2    , GAPDH   , HSP90AA1, MTDH    , SUPT7L  , TP53    , TFRC    , CDK4    , HUWE1   , PDCD10                                                                                                                                                                                                                                          "
      ]
     },
     "metadata": {},
     "output_type": "display_data"
    }
   ],
   "source": [
    "fgseaRes[fgseaRes$padj < 0.05 & fgseaRes$ES > 0,]"
   ]
  },
  {
   "cell_type": "code",
   "execution_count": 98,
   "id": "6e738f0a-4eed-44e7-8bb0-8ad028d3512e",
   "metadata": {},
   "outputs": [
    {
     "data": {
      "text/html": [
       "<table class=\"dataframe\">\n",
       "<caption>A data.table: 4 × 8</caption>\n",
       "<thead>\n",
       "\t<tr><th scope=col>pathway</th><th scope=col>pval</th><th scope=col>padj</th><th scope=col>log2err</th><th scope=col>ES</th><th scope=col>NES</th><th scope=col>size</th><th scope=col>leadingEdge</th></tr>\n",
       "\t<tr><th scope=col>&lt;chr&gt;</th><th scope=col>&lt;dbl&gt;</th><th scope=col>&lt;dbl&gt;</th><th scope=col>&lt;dbl&gt;</th><th scope=col>&lt;dbl&gt;</th><th scope=col>&lt;dbl&gt;</th><th scope=col>&lt;int&gt;</th><th scope=col>&lt;list&gt;</th></tr>\n",
       "</thead>\n",
       "<tbody>\n",
       "\t<tr><td>KEGG_ABC_TRANSPORTERS                       </td><td>0.0009097645</td><td>0.04962500</td><td>0.4772708</td><td> 0.5300604</td><td> 2.027387</td><td>20</td><td>ABCG5 , ABCB4 , ABCB7 , ABCB6 , ABCC2 , ABCB10, ABCA5 , ABCC6 , ABCG8 , ABCC4 , ABCA10, ABCG1 , ABCB5 , ABCA9 , ABCD1 , ABCB11, ABCA6 </td></tr>\n",
       "\t<tr><td>KEGG_GLYCINE_SERINE_AND_THREONINE_METABOLISM</td><td>0.0010614973</td><td>0.04962500</td><td>0.4550599</td><td> 0.5445680</td><td> 1.992429</td><td>17</td><td>DAO  , GNMT , SARDH, GLDC , AMT  , PIPOX, DMGDH, BHMT </td></tr>\n",
       "\t<tr><td>KEGG_NEUROACTIVE_LIGAND_RECEPTOR_INTERACTION</td><td>0.0006617611</td><td>0.04962500</td><td>0.4772708</td><td> 0.4512258</td><td> 1.949338</td><td>32</td><td>ADRA1A , GRIK2  , ADRB2  , LTB4R2 , THRB   , S1PR1  , AGTR1  , CHRNE  , ADORA2A, SSTR1  , GHR    , LTB4R  , P2RY4  , S1PR2  , AVPR1A , GRIN2A , PRLR   , GPR50  , PLG    , P2RX7  , GABRB3 , PRSS3  </td></tr>\n",
       "\t<tr><td>KEGG_OXIDATIVE_PHOSPHORYLATION              </td><td>0.0001320730</td><td>0.02469765</td><td>0.5188481</td><td>-0.5187091</td><td>-2.616767</td><td>16</td><td>UQCRFS1 , NDUFS3  , NDUFC2  , NDUFS4  , SDHA    , NDUFA8  , COX11   , ATP6V1G3, ATP6V1C1, NDUFA10 , ATP6V0A1, NDUFA9  , NDUFS1  , LHPP    </td></tr>\n",
       "</tbody>\n",
       "</table>\n"
      ],
      "text/latex": [
       "A data.table: 4 × 8\n",
       "\\begin{tabular}{llllllll}\n",
       " pathway & pval & padj & log2err & ES & NES & size & leadingEdge\\\\\n",
       " <chr> & <dbl> & <dbl> & <dbl> & <dbl> & <dbl> & <int> & <list>\\\\\n",
       "\\hline\n",
       "\t KEGG\\_ABC\\_TRANSPORTERS                        & 0.0009097645 & 0.04962500 & 0.4772708 &  0.5300604 &  2.027387 & 20 & ABCG5 , ABCB4 , ABCB7 , ABCB6 , ABCC2 , ABCB10, ABCA5 , ABCC6 , ABCG8 , ABCC4 , ABCA10, ABCG1 , ABCB5 , ABCA9 , ABCD1 , ABCB11, ABCA6 \\\\\n",
       "\t KEGG\\_GLYCINE\\_SERINE\\_AND\\_THREONINE\\_METABOLISM & 0.0010614973 & 0.04962500 & 0.4550599 &  0.5445680 &  1.992429 & 17 & DAO  , GNMT , SARDH, GLDC , AMT  , PIPOX, DMGDH, BHMT \\\\\n",
       "\t KEGG\\_NEUROACTIVE\\_LIGAND\\_RECEPTOR\\_INTERACTION & 0.0006617611 & 0.04962500 & 0.4772708 &  0.4512258 &  1.949338 & 32 & ADRA1A , GRIK2  , ADRB2  , LTB4R2 , THRB   , S1PR1  , AGTR1  , CHRNE  , ADORA2A, SSTR1  , GHR    , LTB4R  , P2RY4  , S1PR2  , AVPR1A , GRIN2A , PRLR   , GPR50  , PLG    , P2RX7  , GABRB3 , PRSS3  \\\\\n",
       "\t KEGG\\_OXIDATIVE\\_PHOSPHORYLATION               & 0.0001320730 & 0.02469765 & 0.5188481 & -0.5187091 & -2.616767 & 16 & UQCRFS1 , NDUFS3  , NDUFC2  , NDUFS4  , SDHA    , NDUFA8  , COX11   , ATP6V1G3, ATP6V1C1, NDUFA10 , ATP6V0A1, NDUFA9  , NDUFS1  , LHPP    \\\\\n",
       "\\end{tabular}\n"
      ],
      "text/markdown": [
       "\n",
       "A data.table: 4 × 8\n",
       "\n",
       "| pathway &lt;chr&gt; | pval &lt;dbl&gt; | padj &lt;dbl&gt; | log2err &lt;dbl&gt; | ES &lt;dbl&gt; | NES &lt;dbl&gt; | size &lt;int&gt; | leadingEdge &lt;list&gt; |\n",
       "|---|---|---|---|---|---|---|---|\n",
       "| KEGG_ABC_TRANSPORTERS                        | 0.0009097645 | 0.04962500 | 0.4772708 |  0.5300604 |  2.027387 | 20 | ABCG5 , ABCB4 , ABCB7 , ABCB6 , ABCC2 , ABCB10, ABCA5 , ABCC6 , ABCG8 , ABCC4 , ABCA10, ABCG1 , ABCB5 , ABCA9 , ABCD1 , ABCB11, ABCA6  |\n",
       "| KEGG_GLYCINE_SERINE_AND_THREONINE_METABOLISM | 0.0010614973 | 0.04962500 | 0.4550599 |  0.5445680 |  1.992429 | 17 | DAO  , GNMT , SARDH, GLDC , AMT  , PIPOX, DMGDH, BHMT  |\n",
       "| KEGG_NEUROACTIVE_LIGAND_RECEPTOR_INTERACTION | 0.0006617611 | 0.04962500 | 0.4772708 |  0.4512258 |  1.949338 | 32 | ADRA1A , GRIK2  , ADRB2  , LTB4R2 , THRB   , S1PR1  , AGTR1  , CHRNE  , ADORA2A, SSTR1  , GHR    , LTB4R  , P2RY4  , S1PR2  , AVPR1A , GRIN2A , PRLR   , GPR50  , PLG    , P2RX7  , GABRB3 , PRSS3   |\n",
       "| KEGG_OXIDATIVE_PHOSPHORYLATION               | 0.0001320730 | 0.02469765 | 0.5188481 | -0.5187091 | -2.616767 | 16 | UQCRFS1 , NDUFS3  , NDUFC2  , NDUFS4  , SDHA    , NDUFA8  , COX11   , ATP6V1G3, ATP6V1C1, NDUFA10 , ATP6V0A1, NDUFA9  , NDUFS1  , LHPP     |\n",
       "\n"
      ],
      "text/plain": [
       "  pathway                                      pval         padj      \n",
       "1 KEGG_ABC_TRANSPORTERS                        0.0009097645 0.04962500\n",
       "2 KEGG_GLYCINE_SERINE_AND_THREONINE_METABOLISM 0.0010614973 0.04962500\n",
       "3 KEGG_NEUROACTIVE_LIGAND_RECEPTOR_INTERACTION 0.0006617611 0.04962500\n",
       "4 KEGG_OXIDATIVE_PHOSPHORYLATION               0.0001320730 0.02469765\n",
       "  log2err   ES         NES       size\n",
       "1 0.4772708  0.5300604  2.027387 20  \n",
       "2 0.4550599  0.5445680  1.992429 17  \n",
       "3 0.4772708  0.4512258  1.949338 32  \n",
       "4 0.5188481 -0.5187091 -2.616767 16  \n",
       "  leadingEdge                                                                                                                                                                                         \n",
       "1 ABCG5 , ABCB4 , ABCB7 , ABCB6 , ABCC2 , ABCB10, ABCA5 , ABCC6 , ABCG8 , ABCC4 , ABCA10, ABCG1 , ABCB5 , ABCA9 , ABCD1 , ABCB11, ABCA6                                                               \n",
       "2 DAO  , GNMT , SARDH, GLDC , AMT  , PIPOX, DMGDH, BHMT                                                                                                                                               \n",
       "3 ADRA1A , GRIK2  , ADRB2  , LTB4R2 , THRB   , S1PR1  , AGTR1  , CHRNE  , ADORA2A, SSTR1  , GHR    , LTB4R  , P2RY4  , S1PR2  , AVPR1A , GRIN2A , PRLR   , GPR50  , PLG    , P2RX7  , GABRB3 , PRSS3  \n",
       "4 UQCRFS1 , NDUFS3  , NDUFC2  , NDUFS4  , SDHA    , NDUFA8  , COX11   , ATP6V1G3, ATP6V1C1, NDUFA10 , ATP6V0A1, NDUFA9  , NDUFS1  , LHPP                                                              "
      ]
     },
     "metadata": {},
     "output_type": "display_data"
    }
   ],
   "source": [
    "fgseaRes[fgseaRes$padj < 0.1,]"
   ]
  },
  {
   "cell_type": "code",
   "execution_count": 27,
   "id": "e637badb-bee9-4886-8079-ebbd019b5e4c",
   "metadata": {},
   "outputs": [
    {
     "data": {
      "text/plain": [
       "DataFrame with 19814 rows and 11 columns\n",
       "                       Geneid         Chr    Length      Symbol        Biotype\n",
       "                  <character> <character> <numeric> <character>    <character>\n",
       "SMLR1       ENSG00000256162.2        chr6      2512       SMLR1 protein_coding\n",
       "APOC3      ENSG00000110245.10       chr11       866       APOC3 protein_coding\n",
       "F12         ENSG00000131187.8        chr5      2769         F12 protein_coding\n",
       "MYH4        ENSG00000264424.1       chr17      6016        MYH4 protein_coding\n",
       "ADRA1A     ENSG00000120907.16        chr8      5848      ADRA1A protein_coding\n",
       "...                       ...         ...       ...         ...            ...\n",
       "DAZ3       ENSG00000187191.13        chrY      3516        DAZ3 protein_coding\n",
       "DAZ4        ENSG00000205916.9        chrY      4371        DAZ4 protein_coding\n",
       "BPY2C       ENSG00000185894.7        chrY      1436       BPY2C protein_coding\n",
       "AC006328.4  ENSG00000280301.1        chrY       501  AC006328.4 protein_coding\n",
       "CDY1        ENSG00000172288.7        chrY      2625        CDY1 protein_coding\n",
       "           highly_variable     logFC    logCPM         F      PValue\n",
       "                 <logical> <numeric> <numeric> <numeric>   <numeric>\n",
       "SMLR1                 TRUE   3.52452   7.11572  143.0462 6.50840e-25\n",
       "APOC3                 TRUE   2.38254   7.56943  129.7664 3.16825e-23\n",
       "F12                   TRUE   2.86298   7.38868  121.3028 4.11111e-22\n",
       "MYH4                  TRUE   4.48038   6.42024  113.9185 4.08085e-21\n",
       "ADRA1A               FALSE   3.93032   6.39403   90.8669 7.77160e-18\n",
       "...                    ...       ...       ...       ...         ...\n",
       "DAZ3                 FALSE         0   5.63308         0           1\n",
       "DAZ4                 FALSE         0   5.63308         0           1\n",
       "BPY2C                FALSE         0   5.63308         0           1\n",
       "AC006328.4           FALSE         0   5.63308         0           1\n",
       "CDY1                 FALSE         0   5.63308         0           1\n",
       "                   FDR\n",
       "             <numeric>\n",
       "SMLR1      1.28957e-20\n",
       "APOC3      3.13879e-19\n",
       "F12        2.71525e-18\n",
       "MYH4       2.02145e-17\n",
       "ADRA1A     3.07973e-14\n",
       "...                ...\n",
       "DAZ3                 1\n",
       "DAZ4                 1\n",
       "BPY2C                1\n",
       "AC006328.4           1\n",
       "CDY1                 1"
      ]
     },
     "metadata": {},
     "output_type": "display_data"
    }
   ],
   "source": [
    "deC00"
   ]
  },
  {
   "cell_type": "code",
   "execution_count": null,
   "id": "1ea523d9-024d-400b-bce1-3419ad642c58",
   "metadata": {},
   "outputs": [],
   "source": [
    "fgsea()"
   ]
  }
 ],
 "metadata": {
  "kernelspec": {
   "display_name": "R 4.1 for scHCC",
   "language": "R",
   "name": "irschcc41"
  },
  "language_info": {
   "codemirror_mode": "r",
   "file_extension": ".r",
   "mimetype": "text/x-r-source",
   "name": "R",
   "pygments_lexer": "r",
   "version": "4.1.0"
  }
 },
 "nbformat": 4,
 "nbformat_minor": 5
}
