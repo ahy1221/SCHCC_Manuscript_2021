{
 "cells": [
  {
   "cell_type": "code",
   "execution_count": 11,
   "metadata": {},
   "outputs": [],
   "source": [
    "suppressPackageStartupMessages({\n",
    "  library(scater)\n",
    "  library(scran)\n",
    "  library(patchwork)\n",
    "})\n",
    "rm(list = ls())\n",
    "\n",
    "sce <- readRDS(\"../../data/expression/sce/sce_Smartseq2_scHCC-CD45_featureCounts_qc_clustered_analysed.rds\")"
   ]
  },
  {
   "cell_type": "code",
   "execution_count": 12,
   "metadata": {},
   "outputs": [],
   "source": [
    "sce$celltype <- ifelse(grepl(\"^HCC\", sce$celltype ) , \"HCC_Malignant\", sce$celltype)"
   ]
  },
  {
   "cell_type": "code",
   "execution_count": 13,
   "metadata": {},
   "outputs": [],
   "source": [
    "keep <- calculateAverage(sce) > 1\n",
    "sce <- logNormCounts(sce[keep,])\n"
   ]
  },
  {
   "cell_type": "code",
   "execution_count": 14,
   "metadata": {},
   "outputs": [],
   "source": [
    "#--- Output All cells\n",
    "mt <- as.matrix(logcounts(sce))\n",
    "meta <- tibble::tibble(Cell=colnames(mt), \n",
    "                       cell_type = colData(sce)[colnames(mt), \"celltype\"])\n",
    "meta <- as.data.frame(meta)\n",
    "rownames(meta) <- meta$Cell\n",
    "#--- make valid names for celltype\n",
    "meta$cell_type <- make.names(meta$cell_type)\n",
    "\n",
    "mt <- cbind(Gene = rownames(mt), as.data.frame(mt))\n",
    "readr::write_tsv(mt, path = paste0(\"./data/cellphonedb/expression_cellphonedb_cutoff_avg1_AlltoAll_simplifiedTumor_latest.tsv\"))\n",
    "readr::write_tsv(meta, path = paste0(\"./data/cellphonedb/SS2_meta_cellphonedb_cutoff_avg1_AlltoAll_simplifiedTumor_latest.tsv\"))\n",
    "\n"
   ]
  },
  {
   "cell_type": "code",
   "execution_count": 15,
   "metadata": {},
   "outputs": [
    {
     "data": {
      "text/plain": [
       "\n",
       "            B.Cell           CAF_CD36            CAF_LUM          CAF_NTRK2 \n",
       "               762                427                 59                163 \n",
       "      CD4.C3.ANXA1        CD4.C4.IL7R        CD4.C5.TCF7      CD4.C6.CXCL13 \n",
       "               304                 14                138                275 \n",
       "      CD4.C7.FOXP3    CD4.CD8.C1.CCR7   CD4.CD8.C2.MKI67        CD8.C3.IL7R \n",
       "               124                122                 82                 11 \n",
       "     CD8.C4.CX3CR1        CD8.C5.SELL        CD8.C6.GZMK       CD8.C7.KLRD1 \n",
       "               179                  9                272                 97 \n",
       "      CD8.C8.PDCD1     CD8.C9.SLC4A10 cHCC_ICC_D20171229         DC.C1.CD1C \n",
       "               549                 99                756                282 \n",
       "      DC.C2.FCER1A       DC.C3.CLEC9A        DC.C4.LAMP3    Endo_C01_CLEC4G \n",
       "                46                 85                 19                181 \n",
       "    Endo_C02_ACKR1     Endo_C03_GABRD      Endo_C04_FMO2    Endo_C05_CXCL12 \n",
       "               151                234                387                217 \n",
       "     HCC_Malignant        Hepatocytes               hLPS      ICC_D20171215 \n",
       "               715                 41                 74                 45 \n",
       "              ILCs       Mast.C1.IL7R       Mast.C2.CPA3       Mono.C1.CD14 \n",
       "                14                 63                 60                293 \n",
       "    Mono.C2.FCGR3A      Mphi.C1.THBS1       Mphi.C2.C1QA       Mphi.C5.VCAN \n",
       "               238                167                437                178 \n",
       "     Mphi.C6.MARCO       NK.C1.FCGR3A         NK.C2.SELL         NK.C3.IFNG \n",
       "               132                289                 46                300 \n",
       "        NK.C5.CD69         NK.C6.IL7R        NK.C7.CD160        NK.C9.MKI67 \n",
       "                49                 20                299                 35 \n",
       "     Plasma.B.Cell \n",
       "               271 "
      ]
     },
     "metadata": {},
     "output_type": "display_data"
    }
   ],
   "source": [
    "table(meta$cell_type)"
   ]
  }
 ],
 "metadata": {
  "kernelspec": {
   "display_name": "R 4.1 for scHCC",
   "language": "R",
   "name": "irschcc41"
  },
  "language_info": {
   "codemirror_mode": "r",
   "file_extension": ".r",
   "mimetype": "text/x-r-source",
   "name": "R",
   "pygments_lexer": "r",
   "version": "4.1.0"
  }
 },
 "nbformat": 4,
 "nbformat_minor": 4
}
