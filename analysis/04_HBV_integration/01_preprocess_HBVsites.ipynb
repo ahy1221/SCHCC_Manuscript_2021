{
 "cells": [
  {
   "cell_type": "code",
   "execution_count": 63,
   "metadata": {},
   "outputs": [],
   "source": [
    "suppressPackageStartupMessages({\n",
    "    library(scater)\n",
    "    library(scran)\n",
    "    library(tidyverse)\n",
    "    library(ComplexHeatmap)\n",
    "    library(logger)\n",
    "})"
   ]
  },
  {
   "cell_type": "markdown",
   "metadata": {},
   "source": [
    "#  Read SCE data"
   ]
  },
  {
   "cell_type": "code",
   "execution_count": 64,
   "metadata": {},
   "outputs": [],
   "source": [
    "sce <- readRDS(\"../../data/expression/sce/sce_Smartseq2_scHCC-CD45_featureCounts_qc_clustered.rds\")\n"
   ]
  },
  {
   "cell_type": "markdown",
   "metadata": {},
   "source": [
    "# Read integration sites"
   ]
  },
  {
   "cell_type": "code",
   "execution_count": 65,
   "metadata": {},
   "outputs": [
    {
     "name": "stderr",
     "output_type": "stream",
     "text": [
      "Parsed with column specification:\n",
      "cols(\n",
      "  .default = col_character()\n",
      ")\n",
      "\n",
      "See spec(...) for full column specifications.\n",
      "\n"
     ]
    }
   ],
   "source": [
    "intSiteHBV <- readr::read_tsv(\"../../data/intSites_HBV/arriba_fusions_CD45N_20200901.tsv\") %>%\n",
    "    dplyr::filter(!grepl(\"group\", group)) %>%\n",
    "    rename(gene1 = `#gene1`) %>% \n",
    "    dplyr::mutate(chr1 = sapply(strsplit(breakpoint1, \":\"), `[[`, 1),\n",
    "                chr2 = sapply(strsplit(breakpoint2, \":\"), `[[`, 1),\n",
    "                bp_coord1 = as.numeric(sapply(strsplit(breakpoint1, \":\"), `[[`, 2)),\n",
    "                bp_coord2 = as.numeric(sapply(strsplit(breakpoint2, \":\"), `[[`, 2))) %>%\n",
    "    dplyr::mutate(split_reads1 = as.numeric(split_reads1),\n",
    "                split_reads2 = as.numeric(split_reads2)) %>%\n",
    "    dplyr::mutate(spanning_counts = split_reads1 + split_reads2) %>% \n",
    "    dplyr::mutate(chrHuman = ifelse(grepl(\"HBV\", chr1), chr2, chr1 ),\n",
    "                coordHuman = ifelse(grepl(\"HBV\", chr1), bp_coord2, bp_coord1), \n",
    "                chrVir = \"HBV\",\n",
    "                coordVir = ifelse(grepl(\"HBV\", chr1), bp_coord1, bp_coord2)) %>%\n",
    "    dplyr::mutate(siteTypeHuman = ifelse(grepl(\"HBV\", chr1), site2 , site1 )) %>%\n",
    "    dplyr::mutate(chrHuman = factor(chrHuman, levels = c(1:22, \"X\"))) %>% \n",
    "   #--- Annotating Intergation Sites genes\n",
    "   dplyr::mutate(geneHuman = ifelse(grepl(\"HBV\", chr1), gene2, gene1)) %>%\n",
    "   dplyr::mutate(cell.id = gsub(\"PD10_ZZM_|_arriba_output.tsv\", \"\", group) )\n",
    " "
   ]
  },
  {
   "cell_type": "markdown",
   "metadata": {},
   "source": [
    "# Integrate meta donor"
   ]
  },
  {
   "cell_type": "code",
   "execution_count": 66,
   "metadata": {},
   "outputs": [
    {
     "name": "stderr",
     "output_type": "stream",
     "text": [
      "Joining, by = \"cell.id\"\n",
      "\n"
     ]
    }
   ],
   "source": [
    "meta <- as.data.frame(colData(sce))\n",
    "intSiteHBV <- intSiteHBV %>% left_join(meta[, c(\"cell.id\", \"donor\", \"tissue\", \"Sample\", \"leiden_global_celltype\")])\n",
    "intSiteHBV <- intSiteHBV[!is.na(intSiteHBV$donor),]"
   ]
  },
  {
   "cell_type": "markdown",
   "metadata": {},
   "source": [
    "# Merge Flanking sites"
   ]
  },
  {
   "cell_type": "code",
   "execution_count": 67,
   "metadata": {},
   "outputs": [
    {
     "name": "stdout",
     "output_type": "stream",
     "text": [
      "INFO [2020-10-02 21:07:41] Extending sites 100bp\n",
      "INFO [2020-10-02 21:07:41] Merging...\n"
     ]
    }
   ],
   "source": [
    "#--- flanking each sites for 500bp\n",
    "suppressPackageStartupMessages(library(GenomicAlignments))\n",
    "log_info(\"Extending sites 100bp\")\n",
    "humanSites <- GRanges(seqnames = intSiteHBV$chrHuman, ranges = IRanges(intSiteHBV$coordHuman, width = 1), spanning_counts = intSiteHBV$spanning_counts)\n",
    "#shift(humanSites, 5)\n",
    "gr <- flank(humanSites, 1000, both = T)\n",
    "regions <- GenomicRanges::reduce(gr)\n",
    "#--- match site and regions\n",
    "ov <- findOverlaps(gr, regions)\n",
    "sites.split <- split(queryHits(ov), subjectHits(ov))\n",
    "aa <- as.data.frame(regions[subjectHits(ov),])\n",
    "humanSites$siteClusters <- paste0(aa$seqnames, \":\", aa$start, \"-\", aa$end)\n",
    "\n",
    "log_info(\"Merging...\")\n",
    "intSiteHBV$siteClusters <- humanSites$siteClusters\n",
    "intSiteHBV$siteHuman <- paste0(intSiteHBV$chrHuman, \":\", intSiteHBV$coordHuman)"
   ]
  },
  {
   "cell_type": "code",
   "execution_count": 68,
   "metadata": {},
   "outputs": [
    {
     "data": {
      "text/html": [
       "<style>\n",
       ".list-inline {list-style: none; margin:0; padding: 0}\n",
       ".list-inline>li {display: inline-block}\n",
       ".list-inline>li:not(:last-child)::after {content: \"\\00b7\"; padding: 0 .5ex}\n",
       "</style>\n",
       "<ol class=list-inline><li>'9:26713423'</li><li>'9:26713422'</li><li>'9:26711904'</li><li>'9:26713418'</li><li>'9:26713406'</li><li>'9:26713414'</li><li>'9:26713423'</li><li>'9:26713423'</li><li>'9:26713423'</li><li>'9:26713423'</li><li>'9:26713398'</li><li>'9:26711145'</li><li>'12:111792137'</li><li>'9:26713423'</li><li>'9:26713423'</li><li>'9:26713423'</li><li>'9:26713423'</li><li>'9:26713423'</li><li>'9:26713423'</li><li>'9:26713422'</li><li>'9:26713423'</li><li>'9:26713423'</li><li>'9:26713423'</li><li>'9:26713420'</li><li>'9:26713423'</li><li>'9:26713423'</li><li>'9:26713423'</li><li>'9:26713423'</li><li>'9:26713423'</li><li>'9:26713402'</li><li>'9:26713423'</li><li>'9:26713423'</li><li>'9:26713423'</li><li>'9:26713404'</li><li>'9:26713418'</li><li>'9:26713418'</li><li>'9:26713423'</li><li>'9:26713423'</li><li>'9:26713379'</li><li>'9:26713422'</li><li>'9:26713414'</li><li>'9:26713420'</li><li>'9:26713402'</li><li>'9:26713423'</li><li>'9:26713412'</li><li>'9:26713423'</li><li>'9:26713423'</li><li>'9:26713423'</li><li>'9:26713423'</li><li>'9:26713420'</li><li>'9:26713423'</li><li>'9:26713423'</li><li>'9:26713423'</li><li>'9:26713423'</li><li>'3:156523895'</li><li>'9:26713402'</li><li>'9:26713423'</li><li>'9:26713423'</li><li>'9:26713423'</li><li>'9:26713423'</li><li>'9:26713423'</li><li>'9:26713420'</li><li>'9:26713418'</li><li>'9:26713423'</li><li>'9:26713419'</li><li>'17:45723492'</li><li>'9:26713422'</li><li>'9:26713423'</li><li>'9:26713423'</li><li>'9:26713420'</li><li>'1:36463850'</li><li>'9:26713423'</li><li>'9:26713423'</li><li>'9:26713422'</li><li>'9:26713423'</li><li>'9:26713423'</li><li>'9:26713423'</li><li>'9:26713998'</li><li>'9:26713423'</li><li>'9:26713420'</li><li>'9:26713420'</li><li>'9:26713422'</li><li>'9:26713423'</li><li>'9:26713420'</li><li>'9:26713423'</li><li>'9:26713423'</li><li>'9:26713423'</li><li>'9:26713423'</li><li>'9:26713423'</li><li>'9:26713420'</li><li>'9:26713422'</li><li>'9:26713402'</li><li>'9:26713409'</li><li>'9:26713423'</li><li>'18:56852377'</li><li>'16:35980665'</li><li>'18:32284720'</li><li>'18:57027004'</li><li>'20:372498'</li><li>'18:56852377'</li><li>'16:35980665'</li><li>'18:32284721'</li><li>'18:32284721'</li><li>'20:372498'</li><li>'20:372471'</li><li>'5:1292029'</li><li>'22:10749821'</li><li>'5:1262800'</li><li>'22:10749818'</li><li>'22:10749818'</li><li>'22:10749818'</li><li>'22:10749818'</li><li>'22:10749821'</li><li>'21:8415795'</li><li>'22:10749818'</li><li>'22:10749818'</li></ol>\n"
      ],
      "text/latex": [
       "\\begin{enumerate*}\n",
       "\\item '9:26713423'\n",
       "\\item '9:26713422'\n",
       "\\item '9:26711904'\n",
       "\\item '9:26713418'\n",
       "\\item '9:26713406'\n",
       "\\item '9:26713414'\n",
       "\\item '9:26713423'\n",
       "\\item '9:26713423'\n",
       "\\item '9:26713423'\n",
       "\\item '9:26713423'\n",
       "\\item '9:26713398'\n",
       "\\item '9:26711145'\n",
       "\\item '12:111792137'\n",
       "\\item '9:26713423'\n",
       "\\item '9:26713423'\n",
       "\\item '9:26713423'\n",
       "\\item '9:26713423'\n",
       "\\item '9:26713423'\n",
       "\\item '9:26713423'\n",
       "\\item '9:26713422'\n",
       "\\item '9:26713423'\n",
       "\\item '9:26713423'\n",
       "\\item '9:26713423'\n",
       "\\item '9:26713420'\n",
       "\\item '9:26713423'\n",
       "\\item '9:26713423'\n",
       "\\item '9:26713423'\n",
       "\\item '9:26713423'\n",
       "\\item '9:26713423'\n",
       "\\item '9:26713402'\n",
       "\\item '9:26713423'\n",
       "\\item '9:26713423'\n",
       "\\item '9:26713423'\n",
       "\\item '9:26713404'\n",
       "\\item '9:26713418'\n",
       "\\item '9:26713418'\n",
       "\\item '9:26713423'\n",
       "\\item '9:26713423'\n",
       "\\item '9:26713379'\n",
       "\\item '9:26713422'\n",
       "\\item '9:26713414'\n",
       "\\item '9:26713420'\n",
       "\\item '9:26713402'\n",
       "\\item '9:26713423'\n",
       "\\item '9:26713412'\n",
       "\\item '9:26713423'\n",
       "\\item '9:26713423'\n",
       "\\item '9:26713423'\n",
       "\\item '9:26713423'\n",
       "\\item '9:26713420'\n",
       "\\item '9:26713423'\n",
       "\\item '9:26713423'\n",
       "\\item '9:26713423'\n",
       "\\item '9:26713423'\n",
       "\\item '3:156523895'\n",
       "\\item '9:26713402'\n",
       "\\item '9:26713423'\n",
       "\\item '9:26713423'\n",
       "\\item '9:26713423'\n",
       "\\item '9:26713423'\n",
       "\\item '9:26713423'\n",
       "\\item '9:26713420'\n",
       "\\item '9:26713418'\n",
       "\\item '9:26713423'\n",
       "\\item '9:26713419'\n",
       "\\item '17:45723492'\n",
       "\\item '9:26713422'\n",
       "\\item '9:26713423'\n",
       "\\item '9:26713423'\n",
       "\\item '9:26713420'\n",
       "\\item '1:36463850'\n",
       "\\item '9:26713423'\n",
       "\\item '9:26713423'\n",
       "\\item '9:26713422'\n",
       "\\item '9:26713423'\n",
       "\\item '9:26713423'\n",
       "\\item '9:26713423'\n",
       "\\item '9:26713998'\n",
       "\\item '9:26713423'\n",
       "\\item '9:26713420'\n",
       "\\item '9:26713420'\n",
       "\\item '9:26713422'\n",
       "\\item '9:26713423'\n",
       "\\item '9:26713420'\n",
       "\\item '9:26713423'\n",
       "\\item '9:26713423'\n",
       "\\item '9:26713423'\n",
       "\\item '9:26713423'\n",
       "\\item '9:26713423'\n",
       "\\item '9:26713420'\n",
       "\\item '9:26713422'\n",
       "\\item '9:26713402'\n",
       "\\item '9:26713409'\n",
       "\\item '9:26713423'\n",
       "\\item '18:56852377'\n",
       "\\item '16:35980665'\n",
       "\\item '18:32284720'\n",
       "\\item '18:57027004'\n",
       "\\item '20:372498'\n",
       "\\item '18:56852377'\n",
       "\\item '16:35980665'\n",
       "\\item '18:32284721'\n",
       "\\item '18:32284721'\n",
       "\\item '20:372498'\n",
       "\\item '20:372471'\n",
       "\\item '5:1292029'\n",
       "\\item '22:10749821'\n",
       "\\item '5:1262800'\n",
       "\\item '22:10749818'\n",
       "\\item '22:10749818'\n",
       "\\item '22:10749818'\n",
       "\\item '22:10749818'\n",
       "\\item '22:10749821'\n",
       "\\item '21:8415795'\n",
       "\\item '22:10749818'\n",
       "\\item '22:10749818'\n",
       "\\end{enumerate*}\n"
      ],
      "text/markdown": [
       "1. '9:26713423'\n",
       "2. '9:26713422'\n",
       "3. '9:26711904'\n",
       "4. '9:26713418'\n",
       "5. '9:26713406'\n",
       "6. '9:26713414'\n",
       "7. '9:26713423'\n",
       "8. '9:26713423'\n",
       "9. '9:26713423'\n",
       "10. '9:26713423'\n",
       "11. '9:26713398'\n",
       "12. '9:26711145'\n",
       "13. '12:111792137'\n",
       "14. '9:26713423'\n",
       "15. '9:26713423'\n",
       "16. '9:26713423'\n",
       "17. '9:26713423'\n",
       "18. '9:26713423'\n",
       "19. '9:26713423'\n",
       "20. '9:26713422'\n",
       "21. '9:26713423'\n",
       "22. '9:26713423'\n",
       "23. '9:26713423'\n",
       "24. '9:26713420'\n",
       "25. '9:26713423'\n",
       "26. '9:26713423'\n",
       "27. '9:26713423'\n",
       "28. '9:26713423'\n",
       "29. '9:26713423'\n",
       "30. '9:26713402'\n",
       "31. '9:26713423'\n",
       "32. '9:26713423'\n",
       "33. '9:26713423'\n",
       "34. '9:26713404'\n",
       "35. '9:26713418'\n",
       "36. '9:26713418'\n",
       "37. '9:26713423'\n",
       "38. '9:26713423'\n",
       "39. '9:26713379'\n",
       "40. '9:26713422'\n",
       "41. '9:26713414'\n",
       "42. '9:26713420'\n",
       "43. '9:26713402'\n",
       "44. '9:26713423'\n",
       "45. '9:26713412'\n",
       "46. '9:26713423'\n",
       "47. '9:26713423'\n",
       "48. '9:26713423'\n",
       "49. '9:26713423'\n",
       "50. '9:26713420'\n",
       "51. '9:26713423'\n",
       "52. '9:26713423'\n",
       "53. '9:26713423'\n",
       "54. '9:26713423'\n",
       "55. '3:156523895'\n",
       "56. '9:26713402'\n",
       "57. '9:26713423'\n",
       "58. '9:26713423'\n",
       "59. '9:26713423'\n",
       "60. '9:26713423'\n",
       "61. '9:26713423'\n",
       "62. '9:26713420'\n",
       "63. '9:26713418'\n",
       "64. '9:26713423'\n",
       "65. '9:26713419'\n",
       "66. '17:45723492'\n",
       "67. '9:26713422'\n",
       "68. '9:26713423'\n",
       "69. '9:26713423'\n",
       "70. '9:26713420'\n",
       "71. '1:36463850'\n",
       "72. '9:26713423'\n",
       "73. '9:26713423'\n",
       "74. '9:26713422'\n",
       "75. '9:26713423'\n",
       "76. '9:26713423'\n",
       "77. '9:26713423'\n",
       "78. '9:26713998'\n",
       "79. '9:26713423'\n",
       "80. '9:26713420'\n",
       "81. '9:26713420'\n",
       "82. '9:26713422'\n",
       "83. '9:26713423'\n",
       "84. '9:26713420'\n",
       "85. '9:26713423'\n",
       "86. '9:26713423'\n",
       "87. '9:26713423'\n",
       "88. '9:26713423'\n",
       "89. '9:26713423'\n",
       "90. '9:26713420'\n",
       "91. '9:26713422'\n",
       "92. '9:26713402'\n",
       "93. '9:26713409'\n",
       "94. '9:26713423'\n",
       "95. '18:56852377'\n",
       "96. '16:35980665'\n",
       "97. '18:32284720'\n",
       "98. '18:57027004'\n",
       "99. '20:372498'\n",
       "100. '18:56852377'\n",
       "101. '16:35980665'\n",
       "102. '18:32284721'\n",
       "103. '18:32284721'\n",
       "104. '20:372498'\n",
       "105. '20:372471'\n",
       "106. '5:1292029'\n",
       "107. '22:10749821'\n",
       "108. '5:1262800'\n",
       "109. '22:10749818'\n",
       "110. '22:10749818'\n",
       "111. '22:10749818'\n",
       "112. '22:10749818'\n",
       "113. '22:10749821'\n",
       "114. '21:8415795'\n",
       "115. '22:10749818'\n",
       "116. '22:10749818'\n",
       "\n",
       "\n"
      ],
      "text/plain": [
       "  [1] \"9:26713423\"   \"9:26713422\"   \"9:26711904\"   \"9:26713418\"   \"9:26713406\"  \n",
       "  [6] \"9:26713414\"   \"9:26713423\"   \"9:26713423\"   \"9:26713423\"   \"9:26713423\"  \n",
       " [11] \"9:26713398\"   \"9:26711145\"   \"12:111792137\" \"9:26713423\"   \"9:26713423\"  \n",
       " [16] \"9:26713423\"   \"9:26713423\"   \"9:26713423\"   \"9:26713423\"   \"9:26713422\"  \n",
       " [21] \"9:26713423\"   \"9:26713423\"   \"9:26713423\"   \"9:26713420\"   \"9:26713423\"  \n",
       " [26] \"9:26713423\"   \"9:26713423\"   \"9:26713423\"   \"9:26713423\"   \"9:26713402\"  \n",
       " [31] \"9:26713423\"   \"9:26713423\"   \"9:26713423\"   \"9:26713404\"   \"9:26713418\"  \n",
       " [36] \"9:26713418\"   \"9:26713423\"   \"9:26713423\"   \"9:26713379\"   \"9:26713422\"  \n",
       " [41] \"9:26713414\"   \"9:26713420\"   \"9:26713402\"   \"9:26713423\"   \"9:26713412\"  \n",
       " [46] \"9:26713423\"   \"9:26713423\"   \"9:26713423\"   \"9:26713423\"   \"9:26713420\"  \n",
       " [51] \"9:26713423\"   \"9:26713423\"   \"9:26713423\"   \"9:26713423\"   \"3:156523895\" \n",
       " [56] \"9:26713402\"   \"9:26713423\"   \"9:26713423\"   \"9:26713423\"   \"9:26713423\"  \n",
       " [61] \"9:26713423\"   \"9:26713420\"   \"9:26713418\"   \"9:26713423\"   \"9:26713419\"  \n",
       " [66] \"17:45723492\"  \"9:26713422\"   \"9:26713423\"   \"9:26713423\"   \"9:26713420\"  \n",
       " [71] \"1:36463850\"   \"9:26713423\"   \"9:26713423\"   \"9:26713422\"   \"9:26713423\"  \n",
       " [76] \"9:26713423\"   \"9:26713423\"   \"9:26713998\"   \"9:26713423\"   \"9:26713420\"  \n",
       " [81] \"9:26713420\"   \"9:26713422\"   \"9:26713423\"   \"9:26713420\"   \"9:26713423\"  \n",
       " [86] \"9:26713423\"   \"9:26713423\"   \"9:26713423\"   \"9:26713423\"   \"9:26713420\"  \n",
       " [91] \"9:26713422\"   \"9:26713402\"   \"9:26713409\"   \"9:26713423\"   \"18:56852377\" \n",
       " [96] \"16:35980665\"  \"18:32284720\"  \"18:57027004\"  \"20:372498\"    \"18:56852377\" \n",
       "[101] \"16:35980665\"  \"18:32284721\"  \"18:32284721\"  \"20:372498\"    \"20:372471\"   \n",
       "[106] \"5:1292029\"    \"22:10749821\"  \"5:1262800\"    \"22:10749818\"  \"22:10749818\" \n",
       "[111] \"22:10749818\"  \"22:10749818\"  \"22:10749821\"  \"21:8415795\"   \"22:10749818\" \n",
       "[116] \"22:10749818\" "
      ]
     },
     "metadata": {},
     "output_type": "display_data"
    }
   ],
   "source": [
    "intSiteHBV$siteHuman"
   ]
  },
  {
   "cell_type": "code",
   "execution_count": 58,
   "metadata": {},
   "outputs": [
    {
     "name": "stderr",
     "output_type": "stream",
     "text": [
      "Selecting by n\n",
      "\n"
     ]
    }
   ],
   "source": [
    "represent_sites <- \n",
    "   intSiteHBV %>% dplyr::group_by(siteClusters) %>% count(siteHuman)  %>% top_n(1) %>%\n",
    "   rename(representSites = siteHuman,\n",
    "          representCellsInGroup = n)"
   ]
  },
  {
   "cell_type": "code",
   "execution_count": 60,
   "metadata": {},
   "outputs": [
    {
     "name": "stderr",
     "output_type": "stream",
     "text": [
      "Joining, by = \"siteClusters\"\n",
      "\n"
     ]
    }
   ],
   "source": [
    "intSiteHBV <- left_join(intSiteHBV, represent_sites)"
   ]
  },
  {
   "cell_type": "code",
   "execution_count": 71,
   "metadata": {},
   "outputs": [
    {
     "data": {
      "text/html": [
       "'character'"
      ],
      "text/latex": [
       "'character'"
      ],
      "text/markdown": [
       "'character'"
      ],
      "text/plain": [
       "[1] \"character\""
      ]
     },
     "metadata": {},
     "output_type": "display_data"
    }
   ],
   "source": []
  },
  {
   "cell_type": "code",
   "execution_count": 61,
   "metadata": {},
   "outputs": [],
   "source": [
    "readr::write_tsv(intSiteHBV, path = \"./data/HBV_intSites.tsv\")"
   ]
  }
 ],
 "metadata": {
  "kernelspec": {
   "display_name": "R 4.1 for scHCC",
   "language": "R",
   "name": "irschcc41"
  },
  "language_info": {
   "codemirror_mode": "r",
   "file_extension": ".r",
   "mimetype": "text/x-r-source",
   "name": "R",
   "pygments_lexer": "r",
   "version": "4.1.0"
  }
 },
 "nbformat": 4,
 "nbformat_minor": 4
}
