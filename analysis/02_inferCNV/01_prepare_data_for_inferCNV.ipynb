{
 "cells": [
  {
   "cell_type": "markdown",
   "metadata": {},
   "source": [
    "# Setup"
   ]
  },
  {
   "cell_type": "code",
   "execution_count": 1,
   "metadata": {},
   "outputs": [],
   "source": [
    "suppressPackageStartupMessages({\n",
    "    library(scater)\n",
    "    library(scran)\n",
    "    library(SingleCellExperiment)\n",
    "    library(tidyverse)\n",
    "    library(reticulate)\n",
    "    library(BiocParallel)\n",
    "    library(logger)\n",
    "    library(showtext)\n",
    "    library(batchelor)\n",
    "})\n",
    "options(repr.plot.width = 10, repr.plot.height = 8, repr.plot.res = 300)"
   ]
  },
  {
   "cell_type": "code",
   "execution_count": 2,
   "metadata": {},
   "outputs": [],
   "source": [
    "set.seed(319)\n",
    "cols = sample(colorRampPalette(ggsci::pal_futurama()(12))(30))"
   ]
  },
  {
   "cell_type": "markdown",
   "metadata": {},
   "source": [
    "# Epithelial"
   ]
  },
  {
   "cell_type": "markdown",
   "metadata": {},
   "source": [
    "## Read SCE"
   ]
  },
  {
   "cell_type": "code",
   "execution_count": 59,
   "metadata": {},
   "outputs": [],
   "source": [
    "sce <- readRDS(\"../../data/expression/sce/sce_Smartseq2_scHCC-CD45_featureCounts_qc_clustered_epithelial.rds\")\n",
    "sce <- sce[grepl(\"protein_coding\", rowData(sce)$Biotype),]\n",
    "sce <- sce[grepl(\"^chr\", rowData(sce)$Chr), ]"
   ]
  },
  {
   "cell_type": "code",
   "execution_count": 60,
   "metadata": {},
   "outputs": [],
   "source": [
    "## sce <- sce[, !(sce$leiden_sub %in% c(\"C08\", \"C10\"))]\n",
    "sce <- sce[, !(sce$donor %in% c(\"D20171229\"))]\n",
    "sce <- sce[, !(sce$leiden_sub %in% c(\"C12\"))]\n"
   ]
  },
  {
   "cell_type": "code",
   "execution_count": 61,
   "metadata": {},
   "outputs": [],
   "source": [
    "keep <- calculateAverage(sce) > 1\n",
    "sce <- sce[keep , ]"
   ]
  },
  {
   "cell_type": "code",
   "execution_count": 62,
   "metadata": {},
   "outputs": [
    {
     "data": {
      "text/plain": [
       "\n",
       "D20170227 D20170322 D20170327 D20170412 D20171109 D20171215 D20171220 D20180108 \n",
       "        2        31       205        17        18        69       181        23 \n",
       "D20180110 \n",
       "      268 "
      ]
     },
     "metadata": {},
     "output_type": "display_data"
    }
   ],
   "source": [
    "table(sce$donor)"
   ]
  },
  {
   "cell_type": "markdown",
   "metadata": {},
   "source": [
    "## Generate single cell count matrix\n"
   ]
  },
  {
   "cell_type": "code",
   "execution_count": 63,
   "metadata": {},
   "outputs": [],
   "source": [
    "ct <- as.matrix(counts(sce))\n",
    "#adat_counts_filtered = pd.DataFrame(adat_sub_filtered.layers['counts'].T.toarray(), index=overlap_genes, columns=adat_sub_filtered.obs.index)"
   ]
  },
  {
   "cell_type": "code",
   "execution_count": 64,
   "metadata": {},
   "outputs": [],
   "source": [
    "write.table(ct, \"./data_for_run/counts_hepatocytes_fromEpi_20210114.tsv\", sep = '\\t', quote = F, row.names = T)\n",
    "#counts.to_csv(path_or_buf=os.path.join(BASE_DIR, 'analyses/inferCNV/data_for_run/count_SC_and_GTEx.tsv'), sep = '\\t')"
   ]
  },
  {
   "cell_type": "markdown",
   "metadata": {},
   "source": [
    "# Generate single cell annotation"
   ]
  },
  {
   "cell_type": "code",
   "execution_count": null,
   "metadata": {},
   "outputs": [],
   "source": []
  },
  {
   "cell_type": "code",
   "execution_count": 65,
   "metadata": {},
   "outputs": [],
   "source": [
    "annotation = colData(sce)[, c(\"cell.id\", \"donor\", \"leiden_sub\")]\n",
    "colnames(annotation) <- c(\"sample\", \"annotation\", \"cluster\")\n",
    "annotation <- as.data.frame(annotation)\n",
    "#annotation$annotation <- sapply(strsplit(x = annotation$annotation, split = \"-\"), `[`, 1)\n",
    "#annotation$annotation <- ifelse(grepl(\"Normal\", annotation$annotation), \"Normal\", annotation$annotation)"
   ]
  },
  {
   "cell_type": "code",
   "execution_count": 66,
   "metadata": {},
   "outputs": [],
   "source": [
    "annotation$annotation <- ifelse(grepl(\"C08|C10\", annotation$cluster), annotation$cluster, annotation$annotation)"
   ]
  },
  {
   "cell_type": "code",
   "execution_count": 67,
   "metadata": {},
   "outputs": [
    {
     "data": {
      "text/plain": [
       "\n",
       "      C08       C10 D20170227 D20170322 D20170327 D20170412 D20171109 D20171220 \n",
       "       67        53         2        31       203        17        14       158 \n",
       "D20180108 D20180110 \n",
       "        2       267 "
      ]
     },
     "metadata": {},
     "output_type": "display_data"
    }
   ],
   "source": [
    "table(annotation$annotation)"
   ]
  },
  {
   "cell_type": "code",
   "execution_count": 68,
   "metadata": {},
   "outputs": [],
   "source": [
    "readr::write_tsv(annotation, file = \"./data_for_run/annotation_hepatocytes_fromEpi_20210114.tsv\", col_names = F)"
   ]
  },
  {
   "cell_type": "markdown",
   "metadata": {},
   "source": [
    "## Generate gene info"
   ]
  },
  {
   "cell_type": "code",
   "execution_count": 69,
   "metadata": {},
   "outputs": [],
   "source": [
    "geneorder <- cbind(gene = rownames(sce), as.data.frame(rowData(sce)[, c(\"Chr\", \"Start\", \"End\")]))"
   ]
  },
  {
   "cell_type": "code",
   "execution_count": 70,
   "metadata": {},
   "outputs": [],
   "source": [
    "geneorder$Start <- sapply(strsplit(geneorder$Start, \";\"), `[[`, 1)\n",
    "geneorder$End <- sapply(strsplit(geneorder$End, \";\"), `[[`, 1)"
   ]
  },
  {
   "cell_type": "code",
   "execution_count": 71,
   "metadata": {},
   "outputs": [],
   "source": [
    "readr::write_tsv(geneorder, path = \"./data_for_run/gene_info.tsv\", col_names = F)"
   ]
  },
  {
   "cell_type": "markdown",
   "metadata": {},
   "source": [
    "# Stromal and Epi"
   ]
  },
  {
   "cell_type": "code",
   "execution_count": 4,
   "metadata": {},
   "outputs": [],
   "source": [
    "sce1 <- readRDS(\"../../data/expression/sce/sce_Smartseq2_scHCC-CD45_featureCounts_qc_clustered_epithelial.rds\")\n",
    "sce1 <- sce1[grepl(\"protein_coding\", rowData(sce1)$Biotype),]\n",
    "sce1 <- sce1[grepl(\"^chr\", rowData(sce1)$Chr), ]"
   ]
  },
  {
   "cell_type": "code",
   "execution_count": 5,
   "metadata": {},
   "outputs": [],
   "source": [
    "sce2 <- readRDS(\"../../data/expression/sce/sce_Smartseq2_scHCC-CD45_featureCounts_qc_clustered_stromal.rds\")\n",
    "sce2 <- sce2[grepl(\"protein_coding\", rowData(sce2)$Biotype),]\n",
    "sce2 <- sce2[grepl(\"^chr\", rowData(sce2)$Chr), ]"
   ]
  },
  {
   "cell_type": "code",
   "execution_count": 6,
   "metadata": {},
   "outputs": [],
   "source": [
    "ct <- cbind(as.matrix(counts(sce1)), as.matrix(counts(sce2)))\n",
    "#adat_counts_filtered = pd.DataFrame(adat_sub_filtered.layers['counts'].T.toarray(), index=overlap_genes, columns=adat_sub_filtered.obs.index)"
   ]
  },
  {
   "cell_type": "code",
   "execution_count": 7,
   "metadata": {},
   "outputs": [],
   "source": [
    "write.table(ct, \"./data_for_run/counts_stroma_20210421.tsv\", sep = '\\t', quote = F, row.names = T)\n",
    "#counts.to_csv(path_or_buf=os.path.join(BASE_DIR, 'analyses/inferCNV/data_for_run/count_SC_and_GTEx.tsv'), sep = '\\t')"
   ]
  },
  {
   "cell_type": "markdown",
   "metadata": {},
   "source": [
    "# Generate single cell annotation"
   ]
  },
  {
   "cell_type": "code",
   "execution_count": 9,
   "metadata": {},
   "outputs": [],
   "source": [
    "annotation = rbind(colData(sce1)[, c(\"cell.id\", \"donor\", \"leiden_sub\")], colData(sce2)[, c(\"cell.id\", \"donor\", \"leiden_sub\")])\n",
    "colnames(annotation) <- c(\"sample\", \"annotation\", \"cluster\")\n",
    "annotation <- as.data.frame(annotation)"
   ]
  },
  {
   "cell_type": "code",
   "execution_count": 15,
   "metadata": {},
   "outputs": [],
   "source": [
    "readr::write_tsv(annotation, file = \"./data_for_run/annotation_stroma_20210421.tsv\", col_names = F)"
   ]
  },
  {
   "cell_type": "markdown",
   "metadata": {},
   "source": [
    "## Generate gene info"
   ]
  },
  {
   "cell_type": "code",
   "execution_count": 16,
   "metadata": {},
   "outputs": [],
   "source": [
    "geneorder <- cbind(gene = rownames(sce1), as.data.frame(rowData(sce1)[, c(\"Chr\", \"Start\", \"End\")]))"
   ]
  },
  {
   "cell_type": "code",
   "execution_count": 17,
   "metadata": {},
   "outputs": [],
   "source": [
    "geneorder$Start <- sapply(strsplit(geneorder$Start, \";\"), `[[`, 1)\n",
    "geneorder$End <- sapply(strsplit(geneorder$End, \";\"), `[[`, 1)"
   ]
  },
  {
   "cell_type": "code",
   "execution_count": 18,
   "metadata": {},
   "outputs": [
    {
     "name": "stderr",
     "output_type": "stream",
     "text": [
      "Warning message:\n",
      "“The `path` argument of `write_tsv()` is deprecated as of readr 1.4.0.\n",
      "Please use the `file` argument instead.\n",
      "\u001b[90mThis warning is displayed once every 8 hours.\u001b[39m\n",
      "\u001b[90mCall `lifecycle::last_warnings()` to see where this warning was generated.\u001b[39m”\n"
     ]
    }
   ],
   "source": [
    "readr::write_tsv(geneorder, path = \"./data_for_run/gene_info_stroma.tsv\", col_names = F)"
   ]
  }
 ],
 "metadata": {
  "kernelspec": {
   "display_name": "R 4.1 for scHCC",
   "language": "R",
   "name": "irschcc41"
  },
  "language_info": {
   "codemirror_mode": "r",
   "file_extension": ".r",
   "mimetype": "text/x-r-source",
   "name": "R",
   "pygments_lexer": "r",
   "version": "4.1.0"
  }
 },
 "nbformat": 4,
 "nbformat_minor": 4
}
