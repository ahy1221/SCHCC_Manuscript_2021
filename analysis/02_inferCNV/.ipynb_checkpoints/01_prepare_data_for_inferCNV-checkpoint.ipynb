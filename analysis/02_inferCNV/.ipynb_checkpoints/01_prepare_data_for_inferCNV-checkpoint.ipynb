{
 "cells": [
  {
   "cell_type": "markdown",
   "metadata": {},
   "source": [
    "# Setup"
   ]
  },
  {
   "cell_type": "code",
   "execution_count": 1,
   "metadata": {},
   "outputs": [],
   "source": [
    "suppressPackageStartupMessages({\n",
    "    library(scater)\n",
    "    library(scran)\n",
    "    library(SingleCellExperiment)\n",
    "    library(tidyverse)\n",
    "    library(reticulate)\n",
    "    library(BiocParallel)\n",
    "    library(logger)\n",
    "    library(showtext)\n",
    "    library(batchelor)\n",
    "})\n",
    "options(repr.plot.width = 10, repr.plot.height = 8, repr.plot.res = 300)"
   ]
  },
  {
   "cell_type": "code",
   "execution_count": 2,
   "metadata": {},
   "outputs": [],
   "source": [
    "set.seed(319)\n",
    "cols = sample(colorRampPalette(ggsci::pal_futurama()(12))(30))"
   ]
  },
  {
   "cell_type": "markdown",
   "metadata": {},
   "source": [
    "# Read SCE"
   ]
  },
  {
   "cell_type": "code",
   "execution_count": 3,
   "metadata": {},
   "outputs": [],
   "source": [
    "sce <- readRDS(\"../../data/expression/sce/sce_Smartseq2_scHCC-CD45_featureCounts_qc_clustered_epithelial.rds\")\n",
    "sce <- sce[grepl(\"protein_coding\", rowData(sce)$Biotype),]\n",
    "sce <- sce[grepl(\"^chr\", rowData(sce)$Chr), ]"
   ]
  },
  {
   "cell_type": "code",
   "execution_count": 4,
   "metadata": {},
   "outputs": [],
   "source": [
    "#sce <- sce[, !(sce$leiden_sub %in% c(\"C08\", \"C10\"))]\n",
    "sce <- sce[, !(sce$donor %in% c(\"D20170227\", \"D20171215\", \"D20171229\"))]\n",
    "sce <- sce[, !(sce$leiden_sub %in% c(\"C12\"))]\n"
   ]
  },
  {
   "cell_type": "code",
   "execution_count": 5,
   "metadata": {},
   "outputs": [],
   "source": [
    "keep <- calculateAverage(sce) > 1\n",
    "sce <- sce[keep , ]"
   ]
  },
  {
   "cell_type": "markdown",
   "metadata": {},
   "source": [
    "# Generate single cell count matrix\n"
   ]
  },
  {
   "cell_type": "code",
   "execution_count": 7,
   "metadata": {},
   "outputs": [],
   "source": [
    "ct <- as.matrix(counts(sce))\n",
    "#adat_counts_filtered = pd.DataFrame(adat_sub_filtered.layers['counts'].T.toarray(), index=overlap_genes, columns=adat_sub_filtered.obs.index)"
   ]
  },
  {
   "cell_type": "code",
   "execution_count": 8,
   "metadata": {},
   "outputs": [],
   "source": [
    "write.table(ct, \"./data_for_run/counts_hepatocytes_fromEpi_20210114.tsv\", sep = '\\t', quote = F, row.names = T)\n",
    "#counts.to_csv(path_or_buf=os.path.join(BASE_DIR, 'analyses/inferCNV/data_for_run/count_SC_and_GTEx.tsv'), sep = '\\t')"
   ]
  },
  {
   "cell_type": "markdown",
   "metadata": {},
   "source": [
    "# Generate single cell annotation"
   ]
  },
  {
   "cell_type": "code",
   "execution_count": null,
   "metadata": {},
   "outputs": [],
   "source": []
  },
  {
   "cell_type": "code",
   "execution_count": 9,
   "metadata": {},
   "outputs": [],
   "source": [
    "annotation = colData(sce)[, c(\"cell.id\", \"leiden_sub\")]\n",
    "colnames(annotation) <- c(\"sample\", \"annotation\")\n",
    "annotation <- as.data.frame(annotation)\n",
    "#annotation$annotation <- sapply(strsplit(x = annotation$annotation, split = \"-\"), `[`, 1)\n",
    "#annotation$annotation <- ifelse(grepl(\"Normal\", annotation$annotation), \"Normal\", annotation$annotation)"
   ]
  },
  {
   "cell_type": "code",
   "execution_count": 10,
   "metadata": {},
   "outputs": [
    {
     "data": {
      "text/plain": [
       "\n",
       "C03 C04 C05 C06 C07 C08 C09 C10 C11 C12 C14 C15 C16 \n",
       "122 119  98  89  80  19  65  32  60   1  26  18  15 "
      ]
     },
     "metadata": {},
     "output_type": "display_data"
    }
   ],
   "source": [
    "table(annotation$annotation)"
   ]
  },
  {
   "cell_type": "code",
   "execution_count": 12,
   "metadata": {},
   "outputs": [],
   "source": [
    "readr::write_tsv(annotation, file = \"./data_for_run/annotation_hepatocytes_fromEpi_20210114.tsv\", col_names = F)"
   ]
  },
  {
   "cell_type": "markdown",
   "metadata": {},
   "source": [
    "# Generate gene info"
   ]
  },
  {
   "cell_type": "code",
   "execution_count": 13,
   "metadata": {},
   "outputs": [],
   "source": [
    "geneorder <- cbind(gene = rownames(sce), as.data.frame(rowData(sce)[, c(\"Chr\", \"Start\", \"End\")]))"
   ]
  },
  {
   "cell_type": "code",
   "execution_count": 14,
   "metadata": {},
   "outputs": [],
   "source": [
    "geneorder$Start <- sapply(strsplit(geneorder$Start, \";\"), `[[`, 1)\n",
    "geneorder$End <- sapply(strsplit(geneorder$End, \";\"), `[[`, 1)"
   ]
  },
  {
   "cell_type": "code",
   "execution_count": 15,
   "metadata": {},
   "outputs": [
    {
     "name": "stderr",
     "output_type": "stream",
     "text": [
      "Warning message:\n",
      "“The `path` argument of `write_tsv()` is deprecated as of readr 1.4.0.\n",
      "Please use the `file` argument instead.\n",
      "\u001b[90mThis warning is displayed once every 8 hours.\u001b[39m\n",
      "\u001b[90mCall `lifecycle::last_warnings()` to see where this warning was generated.\u001b[39m”\n"
     ]
    }
   ],
   "source": [
    "readr::write_tsv(geneorder, path = \"./data_for_run/gene_info.tsv\", col_names = F)"
   ]
  }
 ],
 "metadata": {
  "kernelspec": {
   "display_name": "R-4.0.2 for scRNA",
   "language": "R",
   "name": "sc-ir4.0.2"
  },
  "language_info": {
   "codemirror_mode": "r",
   "file_extension": ".r",
   "mimetype": "text/x-r-source",
   "name": "R",
   "pygments_lexer": "r",
   "version": "4.0.2"
  }
 },
 "nbformat": 4,
 "nbformat_minor": 4
}
