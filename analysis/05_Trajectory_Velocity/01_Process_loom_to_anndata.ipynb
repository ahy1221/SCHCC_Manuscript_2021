{
 "cells": [
  {
   "cell_type": "code",
   "execution_count": 1,
   "metadata": {},
   "outputs": [],
   "source": [
    "import pandas as pd\n",
    "import scanpy as sc\n",
    "import scvelo as scv"
   ]
  },
  {
   "cell_type": "code",
   "execution_count": 2,
   "metadata": {},
   "outputs": [],
   "source": [
    "import anndata2ri\n",
    "anndata2ri.activate()\n",
    "%load_ext rpy2.ipython"
   ]
  },
  {
   "cell_type": "code",
   "execution_count": 23,
   "metadata": {},
   "outputs": [],
   "source": [
    "%%R -o adata\n",
    "suppressPackageStartupMessages({\n",
    "    library(scater)\n",
    "    library(scran)\n",
    "    library(tidyverse)\n",
    "})\n",
    "sce <- readRDS(\"../../data/expression/sce/sce_Smartseq2_scHCC-CD45_featureCounts_qc_clustered.rds\")\n",
    "adata <- sce"
   ]
  },
  {
   "cell_type": "markdown",
   "metadata": {},
   "source": [
    "# Velocity"
   ]
  },
  {
   "cell_type": "code",
   "execution_count": 24,
   "metadata": {},
   "outputs": [
    {
     "name": "stderr",
     "output_type": "stream",
     "text": [
      "Variable names are not unique. To make them unique, call `.var_names_make_unique`.\n"
     ]
    }
   ],
   "source": [
    "adata_velo = sc.read(\"../../data/velocyto/Smartseq2-CD45.loom\")\n",
    "adata_velo.var_names_make_unique()"
   ]
  },
  {
   "cell_type": "code",
   "execution_count": 25,
   "metadata": {},
   "outputs": [],
   "source": [
    "cell_id = adata_velo.obs.index.str.replace(\".Aligned.sortedByCoord.out.bam\", \"\").str.split(\":\").str.get(1).str.replace(\"PD10_ZZM_\", \"\")\n",
    "adata_velo.obs.index = cell_id"
   ]
  },
  {
   "cell_type": "code",
   "execution_count": 26,
   "metadata": {},
   "outputs": [
    {
     "data": {
      "text/plain": [
       "AnnData object with n_obs × n_vars = 11718 × 60682\n",
       "    var: 'Accession', 'Chromosome', 'End', 'Start', 'Strand'\n",
       "    layers: 'matrix', 'ambiguous', 'spanning', 'spliced', 'unspliced'"
      ]
     },
     "execution_count": 26,
     "metadata": {},
     "output_type": "execute_result"
    }
   ],
   "source": [
    "adata_velo"
   ]
  },
  {
   "cell_type": "code",
   "execution_count": 28,
   "metadata": {},
   "outputs": [],
   "source": [
    "adata_velo = adata_velo[adata.obs.index,:].copy()"
   ]
  },
  {
   "cell_type": "markdown",
   "metadata": {},
   "source": [
    "# Writing out\n"
   ]
  },
  {
   "cell_type": "code",
   "execution_count": 30,
   "metadata": {},
   "outputs": [],
   "source": [
    "adata_velo.obs = adata.obs"
   ]
  },
  {
   "cell_type": "code",
   "execution_count": 31,
   "metadata": {},
   "outputs": [
    {
     "name": "stderr",
     "output_type": "stream",
     "text": [
      "... storing 'cell.type' as categorical\n",
      "... storing 'tissue' as categorical\n",
      "... storing 'facs' as categorical\n",
      "... storing 'donor' as categorical\n",
      "... storing 'isHBV' as categorical\n",
      "... storing 'isHCV' as categorical\n",
      "... storing 'histology' as categorical\n",
      "... storing 'Sample' as categorical\n",
      "... storing 'leiden_global' as categorical\n",
      "... storing 'leiden_global_celltype' as categorical\n",
      "... storing 'Chromosome' as categorical\n",
      "... storing 'Strand' as categorical\n"
     ]
    }
   ],
   "source": [
    "adata_velo.write(\"./data/anndata_Smartseq2_scHCC-CD45_featureCounts_qc_clustered.h5ad\")"
   ]
  }
 ],
 "metadata": {
  "kernelspec": {
   "display_name": "Python 3 (ipykernel)",
   "language": "python",
   "name": "python3"
  },
  "language_info": {
   "codemirror_mode": {
    "name": "ipython",
    "version": 3
   },
   "file_extension": ".py",
   "mimetype": "text/x-python",
   "name": "python",
   "nbconvert_exporter": "python",
   "pygments_lexer": "ipython3",
   "version": "3.9.6"
  }
 },
 "nbformat": 4,
 "nbformat_minor": 4
}
